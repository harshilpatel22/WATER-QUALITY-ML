{
 "cells": [
  {
   "cell_type": "markdown",
   "id": "039f3911",
   "metadata": {
    "papermill": {
     "duration": 0.019103,
     "end_time": "2023-01-30T08:40:21.438726",
     "exception": false,
     "start_time": "2023-01-30T08:40:21.419623",
     "status": "completed"
    },
    "tags": []
   },
   "source": [
    " #  💦 Quality of water bodies - EDA 💦\n",
    "![pic](https://ade.group/wp-content/uploads/2021/04/Water-Sampling-scaled.jpg)\n"
   ]
  },
  {
   "cell_type": "markdown",
   "id": "75e7a404",
   "metadata": {
    "papermill": {
     "duration": 0.014984,
     "end_time": "2023-01-30T08:40:21.469430",
     "exception": false,
     "start_time": "2023-01-30T08:40:21.454446",
     "status": "completed"
    },
    "tags": []
   },
   "source": [
    "> Water quality is one of the most important factors in a healthy ecosystem. Clean water supports a diversity of plants and wildlife.\n",
    "\n",
    "> Scientists measure a variety of properties to determine water quality. These include temperature, acidity (pH), dissolved solids (specific conductance), particulate matter (turbidity), dissolved oxygen, hardness, and suspended sediment. Each reveals something different about the health of a water body."
   ]
  },
  {
   "cell_type": "markdown",
   "id": "86fdfa9b",
   "metadata": {
    "papermill": {
     "duration": 0.014952,
     "end_time": "2023-01-30T08:40:21.499641",
     "exception": false,
     "start_time": "2023-01-30T08:40:21.484689",
     "status": "completed"
    },
    "tags": []
   },
   "source": [
    "# **1. Introduction**\n",
    "**Libraries** 📚"
   ]
  },
  {
   "cell_type": "code",
   "execution_count": 2450,
   "id": "1947a4d6",
   "metadata": {
    "execution": {
     "iopub.execute_input": "2023-01-30T08:40:21.532790Z",
     "iopub.status.busy": "2023-01-30T08:40:21.531935Z",
     "iopub.status.idle": "2023-01-30T08:40:34.396517Z",
     "shell.execute_reply": "2023-01-30T08:40:34.394834Z"
    },
    "papermill": {
     "duration": 12.886729,
     "end_time": "2023-01-30T08:40:34.401672",
     "exception": false,
     "start_time": "2023-01-30T08:40:21.514943",
     "status": "completed"
    },
    "tags": []
   },
   "outputs": [],
   "source": [
    "import pandas as pd\n",
    "import numpy as np\n",
    "import matplotlib.pyplot as plt\n",
    "import seaborn as sns\n",
    "import plotly.express as px\n",
    "import plotly.graph_objects as go\n",
    "import spacy\n",
    "from wordcloud import WordCloud\n",
    "import warnings\n",
    "import plotly.graph_objects as go\n",
    "import plotly.express as px\n",
    "from plotly.offline import iplot\n"
   ]
  },
  {
   "cell_type": "markdown",
   "id": "83f68e83",
   "metadata": {
    "papermill": {
     "duration": 0.0167,
     "end_time": "2023-01-30T08:40:34.438193",
     "exception": false,
     "start_time": "2023-01-30T08:40:34.421493",
     "status": "completed"
    },
    "tags": []
   },
   "source": [
    "# Read the .csv files 📁 and create a copy of the dataframe 📃 "
   ]
  },
  {
   "cell_type": "markdown",
   "id": "0b0101e5",
   "metadata": {
    "papermill": {
     "duration": 0.015195,
     "end_time": "2023-01-30T08:40:34.468437",
     "exception": false,
     "start_time": "2023-01-30T08:40:34.453242",
     "status": "completed"
    },
    "tags": []
   },
   "source": [
    "> 📌 Note:\n",
    "> - The [**file.csv**](https://it.wikipedia.org/wiki/Comma-separated_values) contains all the information we need to analyze the values of different factors that have an effect on the quality of water bodies. It contains 20 unique columns and 620 rows\n",
    "> - I have created a **copy of the [dataframe](https://pandas.pydata.org/pandas-docs/stable/reference/api/pandas.DataFrame.html)** so that it can be used and modified without affecting the original file which could always serve as a backup.  "
   ]
  },
  {
   "cell_type": "code",
   "execution_count": 2451,
   "id": "eda1804a",
   "metadata": {
    "execution": {
     "iopub.execute_input": "2023-01-30T08:40:34.501199Z",
     "iopub.status.busy": "2023-01-30T08:40:34.500146Z",
     "iopub.status.idle": "2023-01-30T08:40:34.559357Z",
     "shell.execute_reply": "2023-01-30T08:40:34.558088Z"
    },
    "papermill": {
     "duration": 0.078913,
     "end_time": "2023-01-30T08:40:34.562409",
     "exception": false,
     "start_time": "2023-01-30T08:40:34.483496",
     "status": "completed"
    },
    "tags": []
   },
   "outputs": [
    {
     "data": {
      "text/html": [
       "<div>\n",
       "<style scoped>\n",
       "    .dataframe tbody tr th:only-of-type {\n",
       "        vertical-align: middle;\n",
       "    }\n",
       "\n",
       "    .dataframe tbody tr th {\n",
       "        vertical-align: top;\n",
       "    }\n",
       "\n",
       "    .dataframe thead th {\n",
       "        text-align: right;\n",
       "    }\n",
       "</style>\n",
       "<table border=\"1\" class=\"dataframe\">\n",
       "  <thead>\n",
       "    <tr style=\"text-align: right;\">\n",
       "      <th></th>\n",
       "      <th>STN\\nCode</th>\n",
       "      <th>Name of Monitoring Location</th>\n",
       "      <th>Type Water Body</th>\n",
       "      <th>State Name</th>\n",
       "      <th>Temperature\\n?C (Min)</th>\n",
       "      <th>Temperature\\n?C (Max)</th>\n",
       "      <th>Dissolved Oxygen (mg/L) (Min)</th>\n",
       "      <th>Dissolved Oxygen (mg/L) (Max)</th>\n",
       "      <th>pH (Min)</th>\n",
       "      <th>pH (Max)</th>\n",
       "      <th>Conductivity (?mhos/cm) (Min)</th>\n",
       "      <th>Conductivity (?mhos/cm) (Max)</th>\n",
       "      <th>BOD (mg/L) (Min)</th>\n",
       "      <th>BOD (mg/L) (Max)</th>\n",
       "      <th>Nitrate N + Nitrite N(mg/L) (Min)</th>\n",
       "      <th>Nitrate N + Nitrite N(mg/L) (Max)</th>\n",
       "      <th>Fecal Coliform (MPN/100ml) (Min)</th>\n",
       "      <th>Fecal Coliform (MPN/100ml) (Max)</th>\n",
       "      <th>Total Coliform (MPN/100ml) (Min)</th>\n",
       "      <th>Total Coliform (MPN/100ml) (Max)</th>\n",
       "    </tr>\n",
       "  </thead>\n",
       "  <tbody>\n",
       "    <tr>\n",
       "      <th>0</th>\n",
       "      <td>4368.0</td>\n",
       "      <td>KOLLERU LAKE KOKKIRAYALANKA (V), KAILALUR (M)</td>\n",
       "      <td>LAKE</td>\n",
       "      <td>ANDHRA PRADESH</td>\n",
       "      <td>24.0</td>\n",
       "      <td>27.0</td>\n",
       "      <td>3.2</td>\n",
       "      <td>6.5</td>\n",
       "      <td>7.0</td>\n",
       "      <td>8.0</td>\n",
       "      <td>245</td>\n",
       "      <td>5160</td>\n",
       "      <td>1.6</td>\n",
       "      <td>3.2</td>\n",
       "      <td>1.02</td>\n",
       "      <td>3.60</td>\n",
       "      <td>9</td>\n",
       "      <td>21</td>\n",
       "      <td>120</td>\n",
       "      <td>210</td>\n",
       "    </tr>\n",
       "    <tr>\n",
       "      <th>1</th>\n",
       "      <td>2353.0</td>\n",
       "      <td>KONDAKARLA-AAVA LAKE, PARAWADA PHARMA CITY, VI...</td>\n",
       "      <td>LAKE</td>\n",
       "      <td>ANDHRA PRADESH</td>\n",
       "      <td>26.0</td>\n",
       "      <td>29.0</td>\n",
       "      <td>3.0</td>\n",
       "      <td>6.8</td>\n",
       "      <td>6.9</td>\n",
       "      <td>7.8</td>\n",
       "      <td>599</td>\n",
       "      <td>1179</td>\n",
       "      <td>1.9</td>\n",
       "      <td>4.6</td>\n",
       "      <td>0.77</td>\n",
       "      <td>3.56</td>\n",
       "      <td>15</td>\n",
       "      <td>23</td>\n",
       "      <td>150</td>\n",
       "      <td>240</td>\n",
       "    </tr>\n",
       "    <tr>\n",
       "      <th>2</th>\n",
       "      <td>1790.0</td>\n",
       "      <td>PULICATE LAKE , NELLORE DIST</td>\n",
       "      <td>LAKE</td>\n",
       "      <td>ANDHRA PRADESH</td>\n",
       "      <td>18.0</td>\n",
       "      <td>24.0</td>\n",
       "      <td>4.2</td>\n",
       "      <td>6.0</td>\n",
       "      <td>7.2</td>\n",
       "      <td>8.2</td>\n",
       "      <td>28000</td>\n",
       "      <td>56900</td>\n",
       "      <td>2.4</td>\n",
       "      <td>2.8</td>\n",
       "      <td>1.20</td>\n",
       "      <td>1.64</td>\n",
       "      <td>3</td>\n",
       "      <td>3</td>\n",
       "      <td>47</td>\n",
       "      <td>150</td>\n",
       "    </tr>\n",
       "    <tr>\n",
       "      <th>3</th>\n",
       "      <td>4391.0</td>\n",
       "      <td>CHENGAMBAKAM TANK IN SRI CITY SEZ,\\nTIRUPATHI</td>\n",
       "      <td>TANK</td>\n",
       "      <td>ANDHRA PRADESH</td>\n",
       "      <td>22.0</td>\n",
       "      <td>29.0</td>\n",
       "      <td>5.4</td>\n",
       "      <td>6.2</td>\n",
       "      <td>6.3</td>\n",
       "      <td>7.9</td>\n",
       "      <td>180</td>\n",
       "      <td>476</td>\n",
       "      <td>1.0</td>\n",
       "      <td>2.5</td>\n",
       "      <td>0.34</td>\n",
       "      <td>2.30</td>\n",
       "      <td>24</td>\n",
       "      <td>365</td>\n",
       "      <td>170</td>\n",
       "      <td>549</td>\n",
       "    </tr>\n",
       "    <tr>\n",
       "      <th>4</th>\n",
       "      <td>4921.0</td>\n",
       "      <td>ANNAMAYYA PROJECT ON CHEYYERU\\nRESERVOIR</td>\n",
       "      <td>Wetland</td>\n",
       "      <td>ANDHRA PRADESH</td>\n",
       "      <td>21.0</td>\n",
       "      <td>30.0</td>\n",
       "      <td>5.4</td>\n",
       "      <td>6.5</td>\n",
       "      <td>7.3</td>\n",
       "      <td>8.0</td>\n",
       "      <td>496</td>\n",
       "      <td>734</td>\n",
       "      <td>1.0</td>\n",
       "      <td>2.3</td>\n",
       "      <td>0.35</td>\n",
       "      <td>1.00</td>\n",
       "      <td>43</td>\n",
       "      <td>289</td>\n",
       "      <td>240</td>\n",
       "      <td>727</td>\n",
       "    </tr>\n",
       "  </tbody>\n",
       "</table>\n",
       "</div>"
      ],
      "text/plain": [
       "   STN\\nCode                        Name of Monitoring Location  \\\n",
       "0     4368.0      KOLLERU LAKE KOKKIRAYALANKA (V), KAILALUR (M)   \n",
       "1     2353.0  KONDAKARLA-AAVA LAKE, PARAWADA PHARMA CITY, VI...   \n",
       "2     1790.0                       PULICATE LAKE , NELLORE DIST   \n",
       "3     4391.0      CHENGAMBAKAM TANK IN SRI CITY SEZ,\\nTIRUPATHI   \n",
       "4     4921.0           ANNAMAYYA PROJECT ON CHEYYERU\\nRESERVOIR   \n",
       "\n",
       "  Type Water Body      State Name  Temperature\\n?C (Min)  \\\n",
       "0            LAKE  ANDHRA PRADESH                   24.0   \n",
       "1            LAKE  ANDHRA PRADESH                   26.0   \n",
       "2            LAKE  ANDHRA PRADESH                   18.0   \n",
       "3            TANK  ANDHRA PRADESH                   22.0   \n",
       "4         Wetland  ANDHRA PRADESH                   21.0   \n",
       "\n",
       "   Temperature\\n?C (Max) Dissolved Oxygen (mg/L) (Min)  \\\n",
       "0                   27.0                           3.2   \n",
       "1                   29.0                           3.0   \n",
       "2                   24.0                           4.2   \n",
       "3                   29.0                           5.4   \n",
       "4                   30.0                           5.4   \n",
       "\n",
       "  Dissolved Oxygen (mg/L) (Max) pH (Min)  pH (Max)  \\\n",
       "0                           6.5      7.0       8.0   \n",
       "1                           6.8      6.9       7.8   \n",
       "2                           6.0      7.2       8.2   \n",
       "3                           6.2      6.3       7.9   \n",
       "4                           6.5      7.3       8.0   \n",
       "\n",
       "  Conductivity (?mhos/cm) (Min) Conductivity (?mhos/cm) (Max)  \\\n",
       "0                           245                          5160   \n",
       "1                           599                          1179   \n",
       "2                         28000                         56900   \n",
       "3                           180                           476   \n",
       "4                           496                           734   \n",
       "\n",
       "  BOD (mg/L) (Min) BOD (mg/L) (Max) Nitrate N + Nitrite N(mg/L) (Min)  \\\n",
       "0              1.6              3.2                              1.02   \n",
       "1              1.9              4.6                              0.77   \n",
       "2              2.4              2.8                              1.20   \n",
       "3              1.0              2.5                              0.34   \n",
       "4              1.0              2.3                              0.35   \n",
       "\n",
       "  Nitrate N + Nitrite N(mg/L) (Max) Fecal Coliform (MPN/100ml) (Min)  \\\n",
       "0                              3.60                                9   \n",
       "1                              3.56                               15   \n",
       "2                              1.64                                3   \n",
       "3                              2.30                               24   \n",
       "4                              1.00                               43   \n",
       "\n",
       "  Fecal Coliform (MPN/100ml) (Max) Total Coliform (MPN/100ml) (Min)  \\\n",
       "0                               21                              120   \n",
       "1                               23                              150   \n",
       "2                                3                               47   \n",
       "3                              365                              170   \n",
       "4                              289                              240   \n",
       "\n",
       "  Total Coliform (MPN/100ml) (Max)  \n",
       "0                              210  \n",
       "1                              240  \n",
       "2                              150  \n",
       "3                              549  \n",
       "4                              727  "
      ]
     },
     "execution_count": 2451,
     "metadata": {},
     "output_type": "execute_result"
    }
   ],
   "source": [
    "original_df = pd.read_csv('Water_pond_tanks_2021.csv', encoding='latin1')\n",
    "original_df.head()"
   ]
  },
  {
   "cell_type": "markdown",
   "id": "924d9fdd",
   "metadata": {
    "papermill": {
     "duration": 0.01561,
     "end_time": "2023-01-30T08:40:34.593867",
     "exception": false,
     "start_time": "2023-01-30T08:40:34.578257",
     "status": "completed"
    },
    "tags": []
   },
   "source": [
    "> 📝 Let us use the **.info ()** function to view the  [**types of data**](https://realpython.com/python-data-types/) available in the dataset. "
   ]
  },
  {
   "cell_type": "code",
   "execution_count": 2452,
   "id": "ebbfa7ed",
   "metadata": {
    "execution": {
     "iopub.execute_input": "2023-01-30T08:40:34.627945Z",
     "iopub.status.busy": "2023-01-30T08:40:34.627528Z",
     "iopub.status.idle": "2023-01-30T08:40:34.655366Z",
     "shell.execute_reply": "2023-01-30T08:40:34.653742Z"
    },
    "papermill": {
     "duration": 0.047902,
     "end_time": "2023-01-30T08:40:34.658216",
     "exception": false,
     "start_time": "2023-01-30T08:40:34.610314",
     "status": "completed"
    },
    "tags": []
   },
   "outputs": [
    {
     "name": "stdout",
     "output_type": "stream",
     "text": [
      "<class 'pandas.core.frame.DataFrame'>\n",
      "RangeIndex: 620 entries, 0 to 619\n",
      "Data columns (total 20 columns):\n",
      " #   Column                             Non-Null Count  Dtype  \n",
      "---  ------                             --------------  -----  \n",
      " 0   STN\n",
      "Code                           619 non-null    float64\n",
      " 1   Name of Monitoring Location        620 non-null    object \n",
      " 2   Type Water Body                    620 non-null    object \n",
      " 3   State Name                         620 non-null    object \n",
      " 4   Temperature\n",
      "?C (Min)               617 non-null    float64\n",
      " 5   Temperature\n",
      "?C (Max)               617 non-null    float64\n",
      " 6   Dissolved Oxygen (mg/L) (Min)      620 non-null    object \n",
      " 7   Dissolved Oxygen (mg/L) (Max)      620 non-null    object \n",
      " 8   pH (Min)                           620 non-null    object \n",
      " 9   pH (Max)                           620 non-null    float64\n",
      " 10  Conductivity (?mhos/cm) (Min)      618 non-null    object \n",
      " 11  Conductivity (?mhos/cm) (Max)      618 non-null    object \n",
      " 12  BOD (mg/L) (Min)                   620 non-null    object \n",
      " 13  BOD (mg/L) (Max)                   620 non-null    object \n",
      " 14  Nitrate N + Nitrite N(mg/L) (Min)  620 non-null    object \n",
      " 15  Nitrate N + Nitrite N(mg/L) (Max)  620 non-null    object \n",
      " 16  Fecal Coliform (MPN/100ml) (Min)   619 non-null    object \n",
      " 17  Fecal Coliform (MPN/100ml) (Max)   619 non-null    object \n",
      " 18  Total Coliform (MPN/100ml) (Min)   619 non-null    object \n",
      " 19  Total Coliform (MPN/100ml) (Max)   619 non-null    object \n",
      "dtypes: float64(4), object(16)\n",
      "memory usage: 97.0+ KB\n"
     ]
    }
   ],
   "source": [
    "original_df.info()"
   ]
  },
  {
   "cell_type": "markdown",
   "id": "4b7e5238",
   "metadata": {
    "papermill": {
     "duration": 0.015213,
     "end_time": "2023-01-30T08:40:34.689174",
     "exception": false,
     "start_time": "2023-01-30T08:40:34.673961",
     "status": "completed"
    },
    "tags": []
   },
   "source": [
    "* To continue the analysis process the data types have to be altered wherever required and the null values have to be removed. "
   ]
  },
  {
   "cell_type": "code",
   "execution_count": 2453,
   "id": "811e1de5",
   "metadata": {
    "execution": {
     "iopub.execute_input": "2023-01-30T08:40:34.722646Z",
     "iopub.status.busy": "2023-01-30T08:40:34.722201Z",
     "iopub.status.idle": "2023-01-30T08:40:34.783009Z",
     "shell.execute_reply": "2023-01-30T08:40:34.781633Z"
    },
    "papermill": {
     "duration": 0.081102,
     "end_time": "2023-01-30T08:40:34.786061",
     "exception": false,
     "start_time": "2023-01-30T08:40:34.704959",
     "status": "completed"
    },
    "tags": []
   },
   "outputs": [
    {
     "name": "stdout",
     "output_type": "stream",
     "text": [
      "<class 'pandas.core.frame.DataFrame'>\n",
      "RangeIndex: 620 entries, 0 to 619\n",
      "Data columns (total 20 columns):\n",
      " #   Column                             Non-Null Count  Dtype  \n",
      "---  ------                             --------------  -----  \n",
      " 0   STN\n",
      "Code                           619 non-null    float64\n",
      " 1   Name of Monitoring Location        620 non-null    object \n",
      " 2   Type Water Body                    620 non-null    object \n",
      " 3   State Name                         620 non-null    object \n",
      " 4   Temperature\n",
      "?C (Min)               617 non-null    float64\n",
      " 5   Temperature\n",
      "?C (Max)               617 non-null    float64\n",
      " 6   Dissolved Oxygen (mg/L) (Min)      618 non-null    object \n",
      " 7   Dissolved Oxygen (mg/L) (Max)      618 non-null    object \n",
      " 8   pH (Min)                           620 non-null    object \n",
      " 9   pH (Max)                           620 non-null    float64\n",
      " 10  Conductivity (?mhos/cm) (Min)      615 non-null    object \n",
      " 11  Conductivity (?mhos/cm) (Max)      615 non-null    object \n",
      " 12  BOD (mg/L) (Min)                   618 non-null    object \n",
      " 13  BOD (mg/L) (Max)                   618 non-null    object \n",
      " 14  Nitrate N + Nitrite N(mg/L) (Min)  568 non-null    object \n",
      " 15  Nitrate N + Nitrite N(mg/L) (Max)  568 non-null    object \n",
      " 16  Fecal Coliform (MPN/100ml) (Min)   568 non-null    object \n",
      " 17  Fecal Coliform (MPN/100ml) (Max)   568 non-null    object \n",
      " 18  Total Coliform (MPN/100ml) (Min)   568 non-null    object \n",
      " 19  Total Coliform (MPN/100ml) (Max)   568 non-null    object \n",
      "dtypes: float64(4), object(16)\n",
      "memory usage: 97.0+ KB\n"
     ]
    }
   ],
   "source": [
    "original_df=original_df.replace('-', np.nan)\n",
    "original_df=original_df.replace('\\n4', '',regex=True)\n",
    "original_df=original_df.replace('\\n', ' ',regex=True)\n",
    "original_df.iloc[:,4:20]=original_df.iloc[:,4:20].astype(float)\n",
    "original_df.info()"
   ]
  },
  {
   "cell_type": "markdown",
   "id": "a58e4375",
   "metadata": {
    "papermill": {
     "duration": 0.01603,
     "end_time": "2023-01-30T08:40:34.819129",
     "exception": false,
     "start_time": "2023-01-30T08:40:34.803099",
     "status": "completed"
    },
    "tags": []
   },
   "source": [
    "> - Let's continue our analysis by checking if there are any [**missing values**](https://en.wikipedia.org/wiki/Missing_data) and if so identify how many there are."
   ]
  },
  {
   "cell_type": "code",
   "execution_count": 2454,
   "id": "8946dc1a",
   "metadata": {
    "execution": {
     "iopub.execute_input": "2023-01-30T08:40:34.852438Z",
     "iopub.status.busy": "2023-01-30T08:40:34.852034Z",
     "iopub.status.idle": "2023-01-30T08:40:34.864168Z",
     "shell.execute_reply": "2023-01-30T08:40:34.863026Z"
    },
    "papermill": {
     "duration": 0.031781,
     "end_time": "2023-01-30T08:40:34.866621",
     "exception": false,
     "start_time": "2023-01-30T08:40:34.834840",
     "status": "completed"
    },
    "tags": []
   },
   "outputs": [
    {
     "data": {
      "text/plain": [
       "STN\\nCode                             1\n",
       "Name of Monitoring Location           0\n",
       "Type Water Body                       0\n",
       "State Name                            0\n",
       "Temperature\\n?C (Min)                 3\n",
       "Temperature\\n?C (Max)                 3\n",
       "Dissolved Oxygen (mg/L) (Min)         2\n",
       "Dissolved Oxygen (mg/L) (Max)         2\n",
       "pH (Min)                              0\n",
       "pH (Max)                              0\n",
       "Conductivity (?mhos/cm) (Min)         5\n",
       "Conductivity (?mhos/cm) (Max)         5\n",
       "BOD (mg/L) (Min)                      2\n",
       "BOD (mg/L) (Max)                      2\n",
       "Nitrate N + Nitrite N(mg/L) (Min)    52\n",
       "Nitrate N + Nitrite N(mg/L) (Max)    52\n",
       "Fecal Coliform (MPN/100ml) (Min)     52\n",
       "Fecal Coliform (MPN/100ml) (Max)     52\n",
       "Total Coliform (MPN/100ml) (Min)     52\n",
       "Total Coliform (MPN/100ml) (Max)     52\n",
       "dtype: int64"
      ]
     },
     "execution_count": 2454,
     "metadata": {},
     "output_type": "execute_result"
    }
   ],
   "source": [
    "original_df.isnull().sum()"
   ]
  },
  {
   "cell_type": "code",
   "execution_count": 2455,
   "id": "a218abcf",
   "metadata": {
    "execution": {
     "iopub.execute_input": "2023-01-30T08:40:34.900441Z",
     "iopub.status.busy": "2023-01-30T08:40:34.899996Z",
     "iopub.status.idle": "2023-01-30T08:40:34.907062Z",
     "shell.execute_reply": "2023-01-30T08:40:34.905651Z"
    },
    "papermill": {
     "duration": 0.027202,
     "end_time": "2023-01-30T08:40:34.909697",
     "exception": false,
     "start_time": "2023-01-30T08:40:34.882495",
     "status": "completed"
    },
    "tags": []
   },
   "outputs": [],
   "source": [
    "df=original_df.copy(deep=True)"
   ]
  },
  {
   "cell_type": "markdown",
   "id": "84efb0ca",
   "metadata": {
    "papermill": {
     "duration": 0.015864,
     "end_time": "2023-01-30T08:40:34.942064",
     "exception": false,
     "start_time": "2023-01-30T08:40:34.926200",
     "status": "completed"
    },
    "tags": []
   },
   "source": [
    "# **2. Easy Data Analysis 🔬**"
   ]
  },
  {
   "cell_type": "markdown",
   "id": "9205f3aa",
   "metadata": {
    "papermill": {
     "duration": 0.015517,
     "end_time": "2023-01-30T08:40:34.973554",
     "exception": false,
     "start_time": "2023-01-30T08:40:34.958037",
     "status": "completed"
    },
    "tags": []
   },
   "source": [
    "# 2.1 Types of water bodies"
   ]
  },
  {
   "cell_type": "markdown",
   "id": "3ea98091",
   "metadata": {
    "papermill": {
     "duration": 0.015966,
     "end_time": "2023-01-30T08:40:35.005524",
     "exception": false,
     "start_time": "2023-01-30T08:40:34.989558",
     "status": "completed"
    },
    "tags": []
   },
   "source": [
    "> 📌 Note:\n",
    "> Water bodies exist in many forms and they differ based of many essential factors.\n",
    "**But which type of water body is found to be the largest in number ?**"
   ]
  },
  {
   "cell_type": "markdown",
   "id": "298bd026",
   "metadata": {
    "papermill": {
     "duration": 0.015401,
     "end_time": "2023-01-30T08:40:35.036867",
     "exception": false,
     "start_time": "2023-01-30T08:40:35.021466",
     "status": "completed"
    },
    "tags": []
   },
   "source": [
    "\n",
    "> - First of all I created a new dataframe **dropping the missing values contained in the \"Type Water Body\" column**."
   ]
  },
  {
   "cell_type": "code",
   "execution_count": 2456,
   "id": "7110bce7",
   "metadata": {
    "execution": {
     "iopub.execute_input": "2023-01-30T08:40:35.070351Z",
     "iopub.status.busy": "2023-01-30T08:40:35.069907Z",
     "iopub.status.idle": "2023-01-30T08:40:35.078306Z",
     "shell.execute_reply": "2023-01-30T08:40:35.077025Z"
    },
    "papermill": {
     "duration": 0.028037,
     "end_time": "2023-01-30T08:40:35.080704",
     "exception": false,
     "start_time": "2023-01-30T08:40:35.052667",
     "status": "completed"
    },
    "tags": []
   },
   "outputs": [],
   "source": [
    "df_type_wb = df.dropna(subset=['Type Water Body'])\n"
   ]
  },
  {
   "cell_type": "markdown",
   "id": "564ea9a5",
   "metadata": {
    "papermill": {
     "duration": 0.015616,
     "end_time": "2023-01-30T08:40:35.112335",
     "exception": false,
     "start_time": "2023-01-30T08:40:35.096719",
     "status": "completed"
    },
    "tags": []
   },
   "source": [
    "> - Secondly **I created a [list](https://www.w3schools.com/python/python_lists.asp#:~:text=%20Python%20Lists%20%201%20List.%20Lists%20are,Duplicates.%20%205%20List%20Length.%20%20More%20)** that contains all the types of water bodies in the column and their quantities. I continued by **creating a new dataframe** with the data in the new list."
   ]
  },
  {
   "cell_type": "code",
   "execution_count": 2457,
   "id": "bf5c73bc",
   "metadata": {
    "execution": {
     "iopub.execute_input": "2023-01-30T08:40:35.145710Z",
     "iopub.status.busy": "2023-01-30T08:40:35.145309Z",
     "iopub.status.idle": "2023-01-30T08:40:35.156514Z",
     "shell.execute_reply": "2023-01-30T08:40:35.155139Z"
    },
    "papermill": {
     "duration": 0.030759,
     "end_time": "2023-01-30T08:40:35.158880",
     "exception": false,
     "start_time": "2023-01-30T08:40:35.128121",
     "status": "completed"
    },
    "tags": []
   },
   "outputs": [
    {
     "name": "stdout",
     "output_type": "stream",
     "text": [
      "  Water Body Type  Counts of Types of Water Bodies\n",
      "0            LAKE                              368\n",
      "1            TANK                              128\n",
      "3            POND                              103\n",
      "2         Wetland                               21\n"
     ]
    }
   ],
   "source": [
    "colors_10 = ['DarkRed', 'FireBrick', 'Red', 'Crimson', 'IndianRed', 'slategray', 'gray', 'dimgrey', 'DarkSlateGrey', 'black']\n",
    "\n",
    "water_bodies_list = df_type_wb['Type Water Body'].str.split(',')  # split the list into names\n",
    "\n",
    "wb_type_list = {}  # create an empty dictionary (not a list, since we want to count occurrences)\n",
    "\n",
    "for types in water_bodies_list:  # for any names in the water bodies list\n",
    "    for type in types:  # for each type in the list of types\n",
    "        if type in wb_type_list:  # if the type is already present in the dictionary\n",
    "            wb_type_list[type] += 1  # increase its count\n",
    "        else:  # if the type is not present, add it to the dictionary with a count of 1\n",
    "            wb_type_list[type] = 1\n",
    "\n",
    "# Create a DataFrame from the dictionary\n",
    "wb_type_df = pd.DataFrame(list(wb_type_list.items()), columns=['Water Body Type', 'Counts of Types of Water Bodies'])\n",
    "\n",
    "# Sort the DataFrame by the count of water body types in descending order\n",
    "wb_type_df.sort_values(by='Counts of Types of Water Bodies', ascending=False, inplace=True)\n",
    "\n",
    "# Get the top 10 most frequent water body types\n",
    "top_10_wb_type = wb_type_df.head(10)\n",
    "\n",
    "# Output the result\n",
    "print(top_10_wb_type)\n",
    "\n"
   ]
  },
  {
   "cell_type": "markdown",
   "id": "f7c44628",
   "metadata": {
    "papermill": {
     "duration": 0.015566,
     "end_time": "2023-01-30T08:40:35.190519",
     "exception": false,
     "start_time": "2023-01-30T08:40:35.174953",
     "status": "completed"
    },
    "tags": []
   },
   "source": [
    "> - Finally, **I drew a bar chart** to better visualize how many different types of water bodies are available in the given dataset."
   ]
  },
  {
   "cell_type": "code",
   "execution_count": 2458,
   "id": "3bb978f7",
   "metadata": {
    "execution": {
     "iopub.execute_input": "2023-01-30T08:40:35.224578Z",
     "iopub.status.busy": "2023-01-30T08:40:35.223630Z",
     "iopub.status.idle": "2023-01-30T08:40:35.389791Z",
     "shell.execute_reply": "2023-01-30T08:40:35.388754Z"
    },
    "papermill": {
     "duration": 0.185683,
     "end_time": "2023-01-30T08:40:35.392252",
     "exception": false,
     "start_time": "2023-01-30T08:40:35.206569",
     "status": "completed"
    },
    "tags": []
   },
   "outputs": [
    {
     "data": {
      "application/vnd.plotly.v1+json": {
       "config": {
        "plotlyServerURL": "https://plot.ly"
       },
       "data": [
        {
         "marker": {
          "color": [
           "DarkRed",
           "FireBrick",
           "Red",
           "Crimson",
           "IndianRed",
           "slategray",
           "gray",
           "dimgrey",
           "DarkSlateGrey",
           "black"
          ]
         },
         "text": [
          368,
          128,
          103,
          21
         ],
         "textposition": "outside",
         "texttemplate": "%{text:.2s}",
         "type": "bar",
         "x": [
          0,
          1,
          3,
          2
         ],
         "y": [
          368,
          128,
          103,
          21
         ]
        }
       ],
       "layout": {
        "template": {
         "data": {
          "bar": [
           {
            "error_x": {
             "color": "#2a3f5f"
            },
            "error_y": {
             "color": "#2a3f5f"
            },
            "marker": {
             "line": {
              "color": "#E5ECF6",
              "width": 0.5
             },
             "pattern": {
              "fillmode": "overlay",
              "size": 10,
              "solidity": 0.2
             }
            },
            "type": "bar"
           }
          ],
          "barpolar": [
           {
            "marker": {
             "line": {
              "color": "#E5ECF6",
              "width": 0.5
             },
             "pattern": {
              "fillmode": "overlay",
              "size": 10,
              "solidity": 0.2
             }
            },
            "type": "barpolar"
           }
          ],
          "carpet": [
           {
            "aaxis": {
             "endlinecolor": "#2a3f5f",
             "gridcolor": "white",
             "linecolor": "white",
             "minorgridcolor": "white",
             "startlinecolor": "#2a3f5f"
            },
            "baxis": {
             "endlinecolor": "#2a3f5f",
             "gridcolor": "white",
             "linecolor": "white",
             "minorgridcolor": "white",
             "startlinecolor": "#2a3f5f"
            },
            "type": "carpet"
           }
          ],
          "choropleth": [
           {
            "colorbar": {
             "outlinewidth": 0,
             "ticks": ""
            },
            "type": "choropleth"
           }
          ],
          "contour": [
           {
            "colorbar": {
             "outlinewidth": 0,
             "ticks": ""
            },
            "colorscale": [
             [
              0,
              "#0d0887"
             ],
             [
              0.1111111111111111,
              "#46039f"
             ],
             [
              0.2222222222222222,
              "#7201a8"
             ],
             [
              0.3333333333333333,
              "#9c179e"
             ],
             [
              0.4444444444444444,
              "#bd3786"
             ],
             [
              0.5555555555555556,
              "#d8576b"
             ],
             [
              0.6666666666666666,
              "#ed7953"
             ],
             [
              0.7777777777777778,
              "#fb9f3a"
             ],
             [
              0.8888888888888888,
              "#fdca26"
             ],
             [
              1,
              "#f0f921"
             ]
            ],
            "type": "contour"
           }
          ],
          "contourcarpet": [
           {
            "colorbar": {
             "outlinewidth": 0,
             "ticks": ""
            },
            "type": "contourcarpet"
           }
          ],
          "heatmap": [
           {
            "colorbar": {
             "outlinewidth": 0,
             "ticks": ""
            },
            "colorscale": [
             [
              0,
              "#0d0887"
             ],
             [
              0.1111111111111111,
              "#46039f"
             ],
             [
              0.2222222222222222,
              "#7201a8"
             ],
             [
              0.3333333333333333,
              "#9c179e"
             ],
             [
              0.4444444444444444,
              "#bd3786"
             ],
             [
              0.5555555555555556,
              "#d8576b"
             ],
             [
              0.6666666666666666,
              "#ed7953"
             ],
             [
              0.7777777777777778,
              "#fb9f3a"
             ],
             [
              0.8888888888888888,
              "#fdca26"
             ],
             [
              1,
              "#f0f921"
             ]
            ],
            "type": "heatmap"
           }
          ],
          "heatmapgl": [
           {
            "colorbar": {
             "outlinewidth": 0,
             "ticks": ""
            },
            "colorscale": [
             [
              0,
              "#0d0887"
             ],
             [
              0.1111111111111111,
              "#46039f"
             ],
             [
              0.2222222222222222,
              "#7201a8"
             ],
             [
              0.3333333333333333,
              "#9c179e"
             ],
             [
              0.4444444444444444,
              "#bd3786"
             ],
             [
              0.5555555555555556,
              "#d8576b"
             ],
             [
              0.6666666666666666,
              "#ed7953"
             ],
             [
              0.7777777777777778,
              "#fb9f3a"
             ],
             [
              0.8888888888888888,
              "#fdca26"
             ],
             [
              1,
              "#f0f921"
             ]
            ],
            "type": "heatmapgl"
           }
          ],
          "histogram": [
           {
            "marker": {
             "pattern": {
              "fillmode": "overlay",
              "size": 10,
              "solidity": 0.2
             }
            },
            "type": "histogram"
           }
          ],
          "histogram2d": [
           {
            "colorbar": {
             "outlinewidth": 0,
             "ticks": ""
            },
            "colorscale": [
             [
              0,
              "#0d0887"
             ],
             [
              0.1111111111111111,
              "#46039f"
             ],
             [
              0.2222222222222222,
              "#7201a8"
             ],
             [
              0.3333333333333333,
              "#9c179e"
             ],
             [
              0.4444444444444444,
              "#bd3786"
             ],
             [
              0.5555555555555556,
              "#d8576b"
             ],
             [
              0.6666666666666666,
              "#ed7953"
             ],
             [
              0.7777777777777778,
              "#fb9f3a"
             ],
             [
              0.8888888888888888,
              "#fdca26"
             ],
             [
              1,
              "#f0f921"
             ]
            ],
            "type": "histogram2d"
           }
          ],
          "histogram2dcontour": [
           {
            "colorbar": {
             "outlinewidth": 0,
             "ticks": ""
            },
            "colorscale": [
             [
              0,
              "#0d0887"
             ],
             [
              0.1111111111111111,
              "#46039f"
             ],
             [
              0.2222222222222222,
              "#7201a8"
             ],
             [
              0.3333333333333333,
              "#9c179e"
             ],
             [
              0.4444444444444444,
              "#bd3786"
             ],
             [
              0.5555555555555556,
              "#d8576b"
             ],
             [
              0.6666666666666666,
              "#ed7953"
             ],
             [
              0.7777777777777778,
              "#fb9f3a"
             ],
             [
              0.8888888888888888,
              "#fdca26"
             ],
             [
              1,
              "#f0f921"
             ]
            ],
            "type": "histogram2dcontour"
           }
          ],
          "mesh3d": [
           {
            "colorbar": {
             "outlinewidth": 0,
             "ticks": ""
            },
            "type": "mesh3d"
           }
          ],
          "parcoords": [
           {
            "line": {
             "colorbar": {
              "outlinewidth": 0,
              "ticks": ""
             }
            },
            "type": "parcoords"
           }
          ],
          "pie": [
           {
            "automargin": true,
            "type": "pie"
           }
          ],
          "scatter": [
           {
            "fillpattern": {
             "fillmode": "overlay",
             "size": 10,
             "solidity": 0.2
            },
            "type": "scatter"
           }
          ],
          "scatter3d": [
           {
            "line": {
             "colorbar": {
              "outlinewidth": 0,
              "ticks": ""
             }
            },
            "marker": {
             "colorbar": {
              "outlinewidth": 0,
              "ticks": ""
             }
            },
            "type": "scatter3d"
           }
          ],
          "scattercarpet": [
           {
            "marker": {
             "colorbar": {
              "outlinewidth": 0,
              "ticks": ""
             }
            },
            "type": "scattercarpet"
           }
          ],
          "scattergeo": [
           {
            "marker": {
             "colorbar": {
              "outlinewidth": 0,
              "ticks": ""
             }
            },
            "type": "scattergeo"
           }
          ],
          "scattergl": [
           {
            "marker": {
             "colorbar": {
              "outlinewidth": 0,
              "ticks": ""
             }
            },
            "type": "scattergl"
           }
          ],
          "scattermapbox": [
           {
            "marker": {
             "colorbar": {
              "outlinewidth": 0,
              "ticks": ""
             }
            },
            "type": "scattermapbox"
           }
          ],
          "scatterpolar": [
           {
            "marker": {
             "colorbar": {
              "outlinewidth": 0,
              "ticks": ""
             }
            },
            "type": "scatterpolar"
           }
          ],
          "scatterpolargl": [
           {
            "marker": {
             "colorbar": {
              "outlinewidth": 0,
              "ticks": ""
             }
            },
            "type": "scatterpolargl"
           }
          ],
          "scatterternary": [
           {
            "marker": {
             "colorbar": {
              "outlinewidth": 0,
              "ticks": ""
             }
            },
            "type": "scatterternary"
           }
          ],
          "surface": [
           {
            "colorbar": {
             "outlinewidth": 0,
             "ticks": ""
            },
            "colorscale": [
             [
              0,
              "#0d0887"
             ],
             [
              0.1111111111111111,
              "#46039f"
             ],
             [
              0.2222222222222222,
              "#7201a8"
             ],
             [
              0.3333333333333333,
              "#9c179e"
             ],
             [
              0.4444444444444444,
              "#bd3786"
             ],
             [
              0.5555555555555556,
              "#d8576b"
             ],
             [
              0.6666666666666666,
              "#ed7953"
             ],
             [
              0.7777777777777778,
              "#fb9f3a"
             ],
             [
              0.8888888888888888,
              "#fdca26"
             ],
             [
              1,
              "#f0f921"
             ]
            ],
            "type": "surface"
           }
          ],
          "table": [
           {
            "cells": {
             "fill": {
              "color": "#EBF0F8"
             },
             "line": {
              "color": "white"
             }
            },
            "header": {
             "fill": {
              "color": "#C8D4E3"
             },
             "line": {
              "color": "white"
             }
            },
            "type": "table"
           }
          ]
         },
         "layout": {
          "annotationdefaults": {
           "arrowcolor": "#2a3f5f",
           "arrowhead": 0,
           "arrowwidth": 1
          },
          "autotypenumbers": "strict",
          "coloraxis": {
           "colorbar": {
            "outlinewidth": 0,
            "ticks": ""
           }
          },
          "colorscale": {
           "diverging": [
            [
             0,
             "#8e0152"
            ],
            [
             0.1,
             "#c51b7d"
            ],
            [
             0.2,
             "#de77ae"
            ],
            [
             0.3,
             "#f1b6da"
            ],
            [
             0.4,
             "#fde0ef"
            ],
            [
             0.5,
             "#f7f7f7"
            ],
            [
             0.6,
             "#e6f5d0"
            ],
            [
             0.7,
             "#b8e186"
            ],
            [
             0.8,
             "#7fbc41"
            ],
            [
             0.9,
             "#4d9221"
            ],
            [
             1,
             "#276419"
            ]
           ],
           "sequential": [
            [
             0,
             "#0d0887"
            ],
            [
             0.1111111111111111,
             "#46039f"
            ],
            [
             0.2222222222222222,
             "#7201a8"
            ],
            [
             0.3333333333333333,
             "#9c179e"
            ],
            [
             0.4444444444444444,
             "#bd3786"
            ],
            [
             0.5555555555555556,
             "#d8576b"
            ],
            [
             0.6666666666666666,
             "#ed7953"
            ],
            [
             0.7777777777777778,
             "#fb9f3a"
            ],
            [
             0.8888888888888888,
             "#fdca26"
            ],
            [
             1,
             "#f0f921"
            ]
           ],
           "sequentialminus": [
            [
             0,
             "#0d0887"
            ],
            [
             0.1111111111111111,
             "#46039f"
            ],
            [
             0.2222222222222222,
             "#7201a8"
            ],
            [
             0.3333333333333333,
             "#9c179e"
            ],
            [
             0.4444444444444444,
             "#bd3786"
            ],
            [
             0.5555555555555556,
             "#d8576b"
            ],
            [
             0.6666666666666666,
             "#ed7953"
            ],
            [
             0.7777777777777778,
             "#fb9f3a"
            ],
            [
             0.8888888888888888,
             "#fdca26"
            ],
            [
             1,
             "#f0f921"
            ]
           ]
          },
          "colorway": [
           "#636efa",
           "#EF553B",
           "#00cc96",
           "#ab63fa",
           "#FFA15A",
           "#19d3f3",
           "#FF6692",
           "#B6E880",
           "#FF97FF",
           "#FECB52"
          ],
          "font": {
           "color": "#2a3f5f"
          },
          "geo": {
           "bgcolor": "white",
           "lakecolor": "white",
           "landcolor": "#E5ECF6",
           "showlakes": true,
           "showland": true,
           "subunitcolor": "white"
          },
          "hoverlabel": {
           "align": "left"
          },
          "hovermode": "closest",
          "mapbox": {
           "style": "light"
          },
          "paper_bgcolor": "white",
          "plot_bgcolor": "#E5ECF6",
          "polar": {
           "angularaxis": {
            "gridcolor": "white",
            "linecolor": "white",
            "ticks": ""
           },
           "bgcolor": "#E5ECF6",
           "radialaxis": {
            "gridcolor": "white",
            "linecolor": "white",
            "ticks": ""
           }
          },
          "scene": {
           "xaxis": {
            "backgroundcolor": "#E5ECF6",
            "gridcolor": "white",
            "gridwidth": 2,
            "linecolor": "white",
            "showbackground": true,
            "ticks": "",
            "zerolinecolor": "white"
           },
           "yaxis": {
            "backgroundcolor": "#E5ECF6",
            "gridcolor": "white",
            "gridwidth": 2,
            "linecolor": "white",
            "showbackground": true,
            "ticks": "",
            "zerolinecolor": "white"
           },
           "zaxis": {
            "backgroundcolor": "#E5ECF6",
            "gridcolor": "white",
            "gridwidth": 2,
            "linecolor": "white",
            "showbackground": true,
            "ticks": "",
            "zerolinecolor": "white"
           }
          },
          "shapedefaults": {
           "line": {
            "color": "#2a3f5f"
           }
          },
          "ternary": {
           "aaxis": {
            "gridcolor": "white",
            "linecolor": "white",
            "ticks": ""
           },
           "baxis": {
            "gridcolor": "white",
            "linecolor": "white",
            "ticks": ""
           },
           "bgcolor": "#E5ECF6",
           "caxis": {
            "gridcolor": "white",
            "linecolor": "white",
            "ticks": ""
           }
          },
          "title": {
           "x": 0.05
          },
          "xaxis": {
           "automargin": true,
           "gridcolor": "white",
           "linecolor": "white",
           "ticks": "",
           "title": {
            "standoff": 15
           },
           "zerolinecolor": "white",
           "zerolinewidth": 2
          },
          "yaxis": {
           "automargin": true,
           "gridcolor": "white",
           "linecolor": "white",
           "ticks": "",
           "title": {
            "standoff": 15
           },
           "zerolinecolor": "white",
           "zerolinewidth": 2
          }
         }
        },
        "title": {
         "text": "How many different types of water bodies are available?"
        },
        "uniformtext": {
         "minsize": 8,
         "mode": "hide"
        },
        "xaxis": {
         "title": {
          "font": {
           "size": 14
          },
          "text": "Types of water bodies"
         }
        },
        "yaxis": {
         "title": {
          "font": {
           "size": 14
          },
          "text": "Quantity"
         }
        }
       }
      }
     },
     "metadata": {},
     "output_type": "display_data"
    }
   ],
   "source": [
    "fig = go.Figure(data=[go.Bar(\n",
    "    x = top_10_wb_type.index,\n",
    "    y = top_10_wb_type['Counts of Types of Water Bodies'],\n",
    "    text = top_10_wb_type['Counts of Types of Water Bodies'],\n",
    "    textposition='auto',\n",
    "    marker_color=colors_10\n",
    ")])\n",
    "fig.update_traces(texttemplate='%{text:.2s}', textposition='outside')\n",
    "fig.update_layout(title_text= 'How many different types of water bodies are available?',\n",
    "                  uniformtext_minsize=8, uniformtext_mode='hide',\n",
    "                  yaxis=dict(\n",
    "                  title='Quantity',\n",
    "                  titlefont_size=14),\n",
    "                  xaxis=dict(\n",
    "                  title='Types of water bodies',\n",
    "                  titlefont_size=14))"
   ]
  },
  {
   "cell_type": "markdown",
   "id": "135440d2",
   "metadata": {
    "papermill": {
     "duration": 0.016386,
     "end_time": "2023-01-30T08:40:35.425139",
     "exception": false,
     "start_time": "2023-01-30T08:40:35.408753",
     "status": "completed"
    },
    "tags": []
   },
   "source": [
    "From the above bar chart it is evident that the type of water bodies present in larger number are **lakes** and fewer number are **wetlands.**"
   ]
  },
  {
   "cell_type": "markdown",
   "id": "a6942eaa",
   "metadata": {
    "papermill": {
     "duration": 0.015936,
     "end_time": "2023-01-30T08:40:35.457434",
     "exception": false,
     "start_time": "2023-01-30T08:40:35.441498",
     "status": "completed"
    },
    "tags": []
   },
   "source": [
    "# 2.2 Water bodies in each state"
   ]
  },
  {
   "cell_type": "markdown",
   "id": "39b4c9e4",
   "metadata": {
    "papermill": {
     "duration": 0.015937,
     "end_time": "2023-01-30T08:40:35.489706",
     "exception": false,
     "start_time": "2023-01-30T08:40:35.473769",
     "status": "completed"
    },
    "tags": []
   },
   "source": [
    "So let's find out, which state has the most number of water bodies according to the given dataset. "
   ]
  },
  {
   "cell_type": "markdown",
   "id": "5c633564",
   "metadata": {
    "papermill": {
     "duration": 0.015958,
     "end_time": "2023-01-30T08:40:35.521887",
     "exception": false,
     "start_time": "2023-01-30T08:40:35.505929",
     "status": "completed"
    },
    "tags": []
   },
   "source": [
    "> - First I created a new dataframe **dropping the missing values contained in the \"State Name\" column**."
   ]
  },
  {
   "cell_type": "code",
   "execution_count": 2459,
   "id": "0637e8ed",
   "metadata": {
    "execution": {
     "iopub.execute_input": "2023-01-30T08:40:35.557233Z",
     "iopub.status.busy": "2023-01-30T08:40:35.556087Z",
     "iopub.status.idle": "2023-01-30T08:40:35.563359Z",
     "shell.execute_reply": "2023-01-30T08:40:35.562440Z"
    },
    "papermill": {
     "duration": 0.027097,
     "end_time": "2023-01-30T08:40:35.565609",
     "exception": false,
     "start_time": "2023-01-30T08:40:35.538512",
     "status": "completed"
    },
    "tags": []
   },
   "outputs": [],
   "source": [
    "df_states = df.dropna(subset=['State Name'])"
   ]
  },
  {
   "cell_type": "markdown",
   "id": "3a685e51",
   "metadata": {
    "papermill": {
     "duration": 0.016192,
     "end_time": "2023-01-30T08:40:35.598623",
     "exception": false,
     "start_time": "2023-01-30T08:40:35.582431",
     "status": "completed"
    },
    "tags": []
   },
   "source": [
    "> - Secondly plot a treemap that contains squares of different shapes that illustrate the number of water bodies in each state"
   ]
  },
  {
   "cell_type": "code",
   "execution_count": 2460,
   "id": "12358273",
   "metadata": {
    "_kg_hide-input": false,
    "_kg_hide-output": false,
    "execution": {
     "iopub.execute_input": "2023-01-30T08:40:35.633508Z",
     "iopub.status.busy": "2023-01-30T08:40:35.633102Z",
     "iopub.status.idle": "2023-01-30T08:40:36.575909Z",
     "shell.execute_reply": "2023-01-30T08:40:36.574582Z"
    },
    "papermill": {
     "duration": 0.963582,
     "end_time": "2023-01-30T08:40:36.578505",
     "exception": false,
     "start_time": "2023-01-30T08:40:35.614923",
     "status": "completed"
    },
    "tags": []
   },
   "outputs": [
    {
     "data": {
      "application/vnd.plotly.v1+json": {
       "config": {
        "plotlyServerURL": "https://plot.ly"
       },
       "data": [
        {
         "branchvalues": "total",
         "domain": {
          "x": [
           0,
           1
          ],
          "y": [
           0,
           1
          ]
         },
         "hovertemplate": "labels=%{label}<br>count=%{value}<br>parent=%{parent}<br>id=%{id}<extra></extra>",
         "ids": [
          "ANDHRA PRADESH",
          "ASSAM",
          "BIHAR",
          "CHANDIGARH",
          "CHHATTISGARH",
          "DELHI",
          "GOA",
          "GUJARAT",
          "HARYANA",
          "HIMACHAL PRADESH",
          "JAMMU & KASHMIR",
          "JHARKHAND",
          "KARNATAKA",
          "KERALA",
          "LAKSHADWEEP",
          "MADHYA PRADESH",
          "MANIPUR",
          "MEGHALAYA",
          "MIZORAM",
          "NAGALAND",
          "ODISHA",
          "PUDUCHERRY",
          "PUNJAB",
          "RAJASTHAN",
          "TAMIL NADU",
          "TELANGANA",
          "TRIPURA",
          "UTTAR PRADESH",
          "UTTARAKHAND",
          "WEST BENGAL"
         ],
         "labels": [
          "ANDHRA PRADESH",
          "ASSAM",
          "BIHAR",
          "CHANDIGARH",
          "CHHATTISGARH",
          "DELHI",
          "GOA",
          "GUJARAT",
          "HARYANA",
          "HIMACHAL PRADESH",
          "JAMMU & KASHMIR",
          "JHARKHAND",
          "KARNATAKA",
          "KERALA",
          "LAKSHADWEEP",
          "MADHYA PRADESH",
          "MANIPUR",
          "MEGHALAYA",
          "MIZORAM",
          "NAGALAND",
          "ODISHA",
          "PUDUCHERRY",
          "PUNJAB",
          "RAJASTHAN",
          "TAMIL NADU",
          "TELANGANA",
          "TRIPURA",
          "UTTAR PRADESH",
          "UTTARAKHAND",
          "WEST BENGAL"
         ],
         "name": "",
         "parents": [
          "",
          "",
          "",
          "",
          "",
          "",
          "",
          "",
          "",
          "",
          "",
          "",
          "",
          "",
          "",
          "",
          "",
          "",
          "",
          "",
          "",
          "",
          "",
          "",
          "",
          "",
          "",
          "",
          "",
          ""
         ],
         "type": "treemap",
         "values": [
          25,
          45,
          5,
          1,
          2,
          3,
          9,
          21,
          4,
          5,
          30,
          6,
          165,
          18,
          3,
          35,
          18,
          7,
          4,
          2,
          15,
          3,
          3,
          20,
          9,
          125,
          18,
          4,
          2,
          13
         ]
        }
       ],
       "layout": {
        "legend": {
         "tracegroupgap": 0
        },
        "margin": {
         "t": 60
        },
        "template": {
         "data": {
          "bar": [
           {
            "error_x": {
             "color": "#2a3f5f"
            },
            "error_y": {
             "color": "#2a3f5f"
            },
            "marker": {
             "line": {
              "color": "#E5ECF6",
              "width": 0.5
             },
             "pattern": {
              "fillmode": "overlay",
              "size": 10,
              "solidity": 0.2
             }
            },
            "type": "bar"
           }
          ],
          "barpolar": [
           {
            "marker": {
             "line": {
              "color": "#E5ECF6",
              "width": 0.5
             },
             "pattern": {
              "fillmode": "overlay",
              "size": 10,
              "solidity": 0.2
             }
            },
            "type": "barpolar"
           }
          ],
          "carpet": [
           {
            "aaxis": {
             "endlinecolor": "#2a3f5f",
             "gridcolor": "white",
             "linecolor": "white",
             "minorgridcolor": "white",
             "startlinecolor": "#2a3f5f"
            },
            "baxis": {
             "endlinecolor": "#2a3f5f",
             "gridcolor": "white",
             "linecolor": "white",
             "minorgridcolor": "white",
             "startlinecolor": "#2a3f5f"
            },
            "type": "carpet"
           }
          ],
          "choropleth": [
           {
            "colorbar": {
             "outlinewidth": 0,
             "ticks": ""
            },
            "type": "choropleth"
           }
          ],
          "contour": [
           {
            "colorbar": {
             "outlinewidth": 0,
             "ticks": ""
            },
            "colorscale": [
             [
              0,
              "#0d0887"
             ],
             [
              0.1111111111111111,
              "#46039f"
             ],
             [
              0.2222222222222222,
              "#7201a8"
             ],
             [
              0.3333333333333333,
              "#9c179e"
             ],
             [
              0.4444444444444444,
              "#bd3786"
             ],
             [
              0.5555555555555556,
              "#d8576b"
             ],
             [
              0.6666666666666666,
              "#ed7953"
             ],
             [
              0.7777777777777778,
              "#fb9f3a"
             ],
             [
              0.8888888888888888,
              "#fdca26"
             ],
             [
              1,
              "#f0f921"
             ]
            ],
            "type": "contour"
           }
          ],
          "contourcarpet": [
           {
            "colorbar": {
             "outlinewidth": 0,
             "ticks": ""
            },
            "type": "contourcarpet"
           }
          ],
          "heatmap": [
           {
            "colorbar": {
             "outlinewidth": 0,
             "ticks": ""
            },
            "colorscale": [
             [
              0,
              "#0d0887"
             ],
             [
              0.1111111111111111,
              "#46039f"
             ],
             [
              0.2222222222222222,
              "#7201a8"
             ],
             [
              0.3333333333333333,
              "#9c179e"
             ],
             [
              0.4444444444444444,
              "#bd3786"
             ],
             [
              0.5555555555555556,
              "#d8576b"
             ],
             [
              0.6666666666666666,
              "#ed7953"
             ],
             [
              0.7777777777777778,
              "#fb9f3a"
             ],
             [
              0.8888888888888888,
              "#fdca26"
             ],
             [
              1,
              "#f0f921"
             ]
            ],
            "type": "heatmap"
           }
          ],
          "heatmapgl": [
           {
            "colorbar": {
             "outlinewidth": 0,
             "ticks": ""
            },
            "colorscale": [
             [
              0,
              "#0d0887"
             ],
             [
              0.1111111111111111,
              "#46039f"
             ],
             [
              0.2222222222222222,
              "#7201a8"
             ],
             [
              0.3333333333333333,
              "#9c179e"
             ],
             [
              0.4444444444444444,
              "#bd3786"
             ],
             [
              0.5555555555555556,
              "#d8576b"
             ],
             [
              0.6666666666666666,
              "#ed7953"
             ],
             [
              0.7777777777777778,
              "#fb9f3a"
             ],
             [
              0.8888888888888888,
              "#fdca26"
             ],
             [
              1,
              "#f0f921"
             ]
            ],
            "type": "heatmapgl"
           }
          ],
          "histogram": [
           {
            "marker": {
             "pattern": {
              "fillmode": "overlay",
              "size": 10,
              "solidity": 0.2
             }
            },
            "type": "histogram"
           }
          ],
          "histogram2d": [
           {
            "colorbar": {
             "outlinewidth": 0,
             "ticks": ""
            },
            "colorscale": [
             [
              0,
              "#0d0887"
             ],
             [
              0.1111111111111111,
              "#46039f"
             ],
             [
              0.2222222222222222,
              "#7201a8"
             ],
             [
              0.3333333333333333,
              "#9c179e"
             ],
             [
              0.4444444444444444,
              "#bd3786"
             ],
             [
              0.5555555555555556,
              "#d8576b"
             ],
             [
              0.6666666666666666,
              "#ed7953"
             ],
             [
              0.7777777777777778,
              "#fb9f3a"
             ],
             [
              0.8888888888888888,
              "#fdca26"
             ],
             [
              1,
              "#f0f921"
             ]
            ],
            "type": "histogram2d"
           }
          ],
          "histogram2dcontour": [
           {
            "colorbar": {
             "outlinewidth": 0,
             "ticks": ""
            },
            "colorscale": [
             [
              0,
              "#0d0887"
             ],
             [
              0.1111111111111111,
              "#46039f"
             ],
             [
              0.2222222222222222,
              "#7201a8"
             ],
             [
              0.3333333333333333,
              "#9c179e"
             ],
             [
              0.4444444444444444,
              "#bd3786"
             ],
             [
              0.5555555555555556,
              "#d8576b"
             ],
             [
              0.6666666666666666,
              "#ed7953"
             ],
             [
              0.7777777777777778,
              "#fb9f3a"
             ],
             [
              0.8888888888888888,
              "#fdca26"
             ],
             [
              1,
              "#f0f921"
             ]
            ],
            "type": "histogram2dcontour"
           }
          ],
          "mesh3d": [
           {
            "colorbar": {
             "outlinewidth": 0,
             "ticks": ""
            },
            "type": "mesh3d"
           }
          ],
          "parcoords": [
           {
            "line": {
             "colorbar": {
              "outlinewidth": 0,
              "ticks": ""
             }
            },
            "type": "parcoords"
           }
          ],
          "pie": [
           {
            "automargin": true,
            "type": "pie"
           }
          ],
          "scatter": [
           {
            "fillpattern": {
             "fillmode": "overlay",
             "size": 10,
             "solidity": 0.2
            },
            "type": "scatter"
           }
          ],
          "scatter3d": [
           {
            "line": {
             "colorbar": {
              "outlinewidth": 0,
              "ticks": ""
             }
            },
            "marker": {
             "colorbar": {
              "outlinewidth": 0,
              "ticks": ""
             }
            },
            "type": "scatter3d"
           }
          ],
          "scattercarpet": [
           {
            "marker": {
             "colorbar": {
              "outlinewidth": 0,
              "ticks": ""
             }
            },
            "type": "scattercarpet"
           }
          ],
          "scattergeo": [
           {
            "marker": {
             "colorbar": {
              "outlinewidth": 0,
              "ticks": ""
             }
            },
            "type": "scattergeo"
           }
          ],
          "scattergl": [
           {
            "marker": {
             "colorbar": {
              "outlinewidth": 0,
              "ticks": ""
             }
            },
            "type": "scattergl"
           }
          ],
          "scattermapbox": [
           {
            "marker": {
             "colorbar": {
              "outlinewidth": 0,
              "ticks": ""
             }
            },
            "type": "scattermapbox"
           }
          ],
          "scatterpolar": [
           {
            "marker": {
             "colorbar": {
              "outlinewidth": 0,
              "ticks": ""
             }
            },
            "type": "scatterpolar"
           }
          ],
          "scatterpolargl": [
           {
            "marker": {
             "colorbar": {
              "outlinewidth": 0,
              "ticks": ""
             }
            },
            "type": "scatterpolargl"
           }
          ],
          "scatterternary": [
           {
            "marker": {
             "colorbar": {
              "outlinewidth": 0,
              "ticks": ""
             }
            },
            "type": "scatterternary"
           }
          ],
          "surface": [
           {
            "colorbar": {
             "outlinewidth": 0,
             "ticks": ""
            },
            "colorscale": [
             [
              0,
              "#0d0887"
             ],
             [
              0.1111111111111111,
              "#46039f"
             ],
             [
              0.2222222222222222,
              "#7201a8"
             ],
             [
              0.3333333333333333,
              "#9c179e"
             ],
             [
              0.4444444444444444,
              "#bd3786"
             ],
             [
              0.5555555555555556,
              "#d8576b"
             ],
             [
              0.6666666666666666,
              "#ed7953"
             ],
             [
              0.7777777777777778,
              "#fb9f3a"
             ],
             [
              0.8888888888888888,
              "#fdca26"
             ],
             [
              1,
              "#f0f921"
             ]
            ],
            "type": "surface"
           }
          ],
          "table": [
           {
            "cells": {
             "fill": {
              "color": "#EBF0F8"
             },
             "line": {
              "color": "white"
             }
            },
            "header": {
             "fill": {
              "color": "#C8D4E3"
             },
             "line": {
              "color": "white"
             }
            },
            "type": "table"
           }
          ]
         },
         "layout": {
          "annotationdefaults": {
           "arrowcolor": "#2a3f5f",
           "arrowhead": 0,
           "arrowwidth": 1
          },
          "autotypenumbers": "strict",
          "coloraxis": {
           "colorbar": {
            "outlinewidth": 0,
            "ticks": ""
           }
          },
          "colorscale": {
           "diverging": [
            [
             0,
             "#8e0152"
            ],
            [
             0.1,
             "#c51b7d"
            ],
            [
             0.2,
             "#de77ae"
            ],
            [
             0.3,
             "#f1b6da"
            ],
            [
             0.4,
             "#fde0ef"
            ],
            [
             0.5,
             "#f7f7f7"
            ],
            [
             0.6,
             "#e6f5d0"
            ],
            [
             0.7,
             "#b8e186"
            ],
            [
             0.8,
             "#7fbc41"
            ],
            [
             0.9,
             "#4d9221"
            ],
            [
             1,
             "#276419"
            ]
           ],
           "sequential": [
            [
             0,
             "#0d0887"
            ],
            [
             0.1111111111111111,
             "#46039f"
            ],
            [
             0.2222222222222222,
             "#7201a8"
            ],
            [
             0.3333333333333333,
             "#9c179e"
            ],
            [
             0.4444444444444444,
             "#bd3786"
            ],
            [
             0.5555555555555556,
             "#d8576b"
            ],
            [
             0.6666666666666666,
             "#ed7953"
            ],
            [
             0.7777777777777778,
             "#fb9f3a"
            ],
            [
             0.8888888888888888,
             "#fdca26"
            ],
            [
             1,
             "#f0f921"
            ]
           ],
           "sequentialminus": [
            [
             0,
             "#0d0887"
            ],
            [
             0.1111111111111111,
             "#46039f"
            ],
            [
             0.2222222222222222,
             "#7201a8"
            ],
            [
             0.3333333333333333,
             "#9c179e"
            ],
            [
             0.4444444444444444,
             "#bd3786"
            ],
            [
             0.5555555555555556,
             "#d8576b"
            ],
            [
             0.6666666666666666,
             "#ed7953"
            ],
            [
             0.7777777777777778,
             "#fb9f3a"
            ],
            [
             0.8888888888888888,
             "#fdca26"
            ],
            [
             1,
             "#f0f921"
            ]
           ]
          },
          "colorway": [
           "#636efa",
           "#EF553B",
           "#00cc96",
           "#ab63fa",
           "#FFA15A",
           "#19d3f3",
           "#FF6692",
           "#B6E880",
           "#FF97FF",
           "#FECB52"
          ],
          "font": {
           "color": "#2a3f5f"
          },
          "geo": {
           "bgcolor": "white",
           "lakecolor": "white",
           "landcolor": "#E5ECF6",
           "showlakes": true,
           "showland": true,
           "subunitcolor": "white"
          },
          "hoverlabel": {
           "align": "left"
          },
          "hovermode": "closest",
          "mapbox": {
           "style": "light"
          },
          "paper_bgcolor": "white",
          "plot_bgcolor": "#E5ECF6",
          "polar": {
           "angularaxis": {
            "gridcolor": "white",
            "linecolor": "white",
            "ticks": ""
           },
           "bgcolor": "#E5ECF6",
           "radialaxis": {
            "gridcolor": "white",
            "linecolor": "white",
            "ticks": ""
           }
          },
          "scene": {
           "xaxis": {
            "backgroundcolor": "#E5ECF6",
            "gridcolor": "white",
            "gridwidth": 2,
            "linecolor": "white",
            "showbackground": true,
            "ticks": "",
            "zerolinecolor": "white"
           },
           "yaxis": {
            "backgroundcolor": "#E5ECF6",
            "gridcolor": "white",
            "gridwidth": 2,
            "linecolor": "white",
            "showbackground": true,
            "ticks": "",
            "zerolinecolor": "white"
           },
           "zaxis": {
            "backgroundcolor": "#E5ECF6",
            "gridcolor": "white",
            "gridwidth": 2,
            "linecolor": "white",
            "showbackground": true,
            "ticks": "",
            "zerolinecolor": "white"
           }
          },
          "shapedefaults": {
           "line": {
            "color": "#2a3f5f"
           }
          },
          "ternary": {
           "aaxis": {
            "gridcolor": "white",
            "linecolor": "white",
            "ticks": ""
           },
           "baxis": {
            "gridcolor": "white",
            "linecolor": "white",
            "ticks": ""
           },
           "bgcolor": "#E5ECF6",
           "caxis": {
            "gridcolor": "white",
            "linecolor": "white",
            "ticks": ""
           }
          },
          "title": {
           "x": 0.05
          },
          "xaxis": {
           "automargin": true,
           "gridcolor": "white",
           "linecolor": "white",
           "ticks": "",
           "title": {
            "standoff": 15
           },
           "zerolinecolor": "white",
           "zerolinewidth": 2
          },
          "yaxis": {
           "automargin": true,
           "gridcolor": "white",
           "linecolor": "white",
           "ticks": "",
           "title": {
            "standoff": 15
           },
           "zerolinecolor": "white",
           "zerolinewidth": 2
          }
         }
        }
       }
      }
     },
     "metadata": {},
     "output_type": "display_data"
    }
   ],
   "source": [
    "ax= px.treemap(df_states,path=[\"State Name\"])\n",
    "ax.show()"
   ]
  },
  {
   "cell_type": "markdown",
   "id": "654601bd",
   "metadata": {
    "papermill": {
     "duration": 0.016344,
     "end_time": "2023-01-30T08:40:36.611699",
     "exception": false,
     "start_time": "2023-01-30T08:40:36.595355",
     "status": "completed"
    },
    "tags": []
   },
   "source": [
    "# **3. Factors affecting quality of water**"
   ]
  },
  {
   "cell_type": "markdown",
   "id": "15444a1f",
   "metadata": {
    "papermill": {
     "duration": 0.016501,
     "end_time": "2023-01-30T08:40:36.644888",
     "exception": false,
     "start_time": "2023-01-30T08:40:36.628387",
     "status": "completed"
    },
    "tags": []
   },
   "source": [
    "# 3.1  Temperature\n",
    "> Water temperature is important to fish and aquatic plants. Temperature can affect the level of oxygen, as well as the ability of organisms to resist certain pollutants.\n",
    "\n",
    "> - The missing values contained in the **\"Temperature\\n?C (Min)\"** and **\"Temperature\\n?C (Max)\"** columns are **dropped**."
   ]
  },
  {
   "cell_type": "code",
   "execution_count": 2461,
   "id": "59d13466",
   "metadata": {
    "execution": {
     "iopub.execute_input": "2023-01-30T08:40:36.680681Z",
     "iopub.status.busy": "2023-01-30T08:40:36.680232Z",
     "iopub.status.idle": "2023-01-30T08:40:36.688104Z",
     "shell.execute_reply": "2023-01-30T08:40:36.687187Z"
    },
    "papermill": {
     "duration": 0.028781,
     "end_time": "2023-01-30T08:40:36.690368",
     "exception": false,
     "start_time": "2023-01-30T08:40:36.661587",
     "status": "completed"
    },
    "tags": []
   },
   "outputs": [],
   "source": [
    "df = df.dropna(subset=['Temperature\\n?C (Min)', 'Temperature\\n?C (Min)'])"
   ]
  },
  {
   "cell_type": "markdown",
   "id": "d60e1a20",
   "metadata": {
    "papermill": {
     "duration": 0.016325,
     "end_time": "2023-01-30T08:40:36.723493",
     "exception": false,
     "start_time": "2023-01-30T08:40:36.707168",
     "status": "completed"
    },
    "tags": []
   },
   "source": [
    ">- The optimum **[temperature](https://www.thesprucepets.com/aquarium-water-temperature-1381896)** of freshwater bodies should approximatly be in the range **20°C to 30°C**."
   ]
  },
  {
   "cell_type": "code",
   "execution_count": 2462,
   "id": "237609a1",
   "metadata": {
    "execution": {
     "iopub.execute_input": "2023-01-30T08:40:36.759708Z",
     "iopub.status.busy": "2023-01-30T08:40:36.758855Z",
     "iopub.status.idle": "2023-01-30T08:40:36.790563Z",
     "shell.execute_reply": "2023-01-30T08:40:36.789369Z"
    },
    "papermill": {
     "duration": 0.052597,
     "end_time": "2023-01-30T08:40:36.793134",
     "exception": false,
     "start_time": "2023-01-30T08:40:36.740537",
     "status": "completed"
    },
    "tags": []
   },
   "outputs": [
    {
     "data": {
      "text/html": [
       "<div>\n",
       "<style scoped>\n",
       "    .dataframe tbody tr th:only-of-type {\n",
       "        vertical-align: middle;\n",
       "    }\n",
       "\n",
       "    .dataframe tbody tr th {\n",
       "        vertical-align: top;\n",
       "    }\n",
       "\n",
       "    .dataframe thead th {\n",
       "        text-align: right;\n",
       "    }\n",
       "</style>\n",
       "<table border=\"1\" class=\"dataframe\">\n",
       "  <thead>\n",
       "    <tr style=\"text-align: right;\">\n",
       "      <th></th>\n",
       "      <th>STN\\nCode</th>\n",
       "      <th>Name of Monitoring Location</th>\n",
       "      <th>Type Water Body</th>\n",
       "      <th>State Name</th>\n",
       "      <th>Temperature\\n?C (Min)</th>\n",
       "      <th>Temperature\\n?C (Max)</th>\n",
       "      <th>Dissolved Oxygen (mg/L) (Min)</th>\n",
       "      <th>Dissolved Oxygen (mg/L) (Max)</th>\n",
       "      <th>pH (Min)</th>\n",
       "      <th>pH (Max)</th>\n",
       "      <th>Conductivity (?mhos/cm) (Min)</th>\n",
       "      <th>Conductivity (?mhos/cm) (Max)</th>\n",
       "      <th>BOD (mg/L) (Min)</th>\n",
       "      <th>BOD (mg/L) (Max)</th>\n",
       "      <th>Nitrate N + Nitrite N(mg/L) (Min)</th>\n",
       "      <th>Nitrate N + Nitrite N(mg/L) (Max)</th>\n",
       "      <th>Fecal Coliform (MPN/100ml) (Min)</th>\n",
       "      <th>Fecal Coliform (MPN/100ml) (Max)</th>\n",
       "      <th>Total Coliform (MPN/100ml) (Min)</th>\n",
       "      <th>Total Coliform (MPN/100ml) (Max)</th>\n",
       "    </tr>\n",
       "  </thead>\n",
       "  <tbody>\n",
       "    <tr>\n",
       "      <th>0</th>\n",
       "      <td>4368.0</td>\n",
       "      <td>KOLLERU LAKE KOKKIRAYALANKA (V), KAILALUR (M)</td>\n",
       "      <td>LAKE</td>\n",
       "      <td>ANDHRA PRADESH</td>\n",
       "      <td>24.0</td>\n",
       "      <td>27.0</td>\n",
       "      <td>3.2</td>\n",
       "      <td>6.5</td>\n",
       "      <td>7.0</td>\n",
       "      <td>8.0</td>\n",
       "      <td>245.0</td>\n",
       "      <td>5160.0</td>\n",
       "      <td>1.6</td>\n",
       "      <td>3.2</td>\n",
       "      <td>1.02</td>\n",
       "      <td>3.6</td>\n",
       "      <td>9.0</td>\n",
       "      <td>21.0</td>\n",
       "      <td>120.0</td>\n",
       "      <td>210.0</td>\n",
       "    </tr>\n",
       "    <tr>\n",
       "      <th>1</th>\n",
       "      <td>2353.0</td>\n",
       "      <td>KONDAKARLA-AAVA LAKE, PARAWADA PHARMA CITY, VI...</td>\n",
       "      <td>LAKE</td>\n",
       "      <td>ANDHRA PRADESH</td>\n",
       "      <td>26.0</td>\n",
       "      <td>29.0</td>\n",
       "      <td>3.0</td>\n",
       "      <td>6.8</td>\n",
       "      <td>6.9</td>\n",
       "      <td>7.8</td>\n",
       "      <td>599.0</td>\n",
       "      <td>1179.0</td>\n",
       "      <td>1.9</td>\n",
       "      <td>4.6</td>\n",
       "      <td>0.77</td>\n",
       "      <td>3.56</td>\n",
       "      <td>15.0</td>\n",
       "      <td>23.0</td>\n",
       "      <td>150.0</td>\n",
       "      <td>240.0</td>\n",
       "    </tr>\n",
       "    <tr>\n",
       "      <th>3</th>\n",
       "      <td>4391.0</td>\n",
       "      <td>CHENGAMBAKAM TANK IN SRI CITY SEZ, TIRUPATHI</td>\n",
       "      <td>TANK</td>\n",
       "      <td>ANDHRA PRADESH</td>\n",
       "      <td>22.0</td>\n",
       "      <td>29.0</td>\n",
       "      <td>5.4</td>\n",
       "      <td>6.2</td>\n",
       "      <td>6.3</td>\n",
       "      <td>7.9</td>\n",
       "      <td>180.0</td>\n",
       "      <td>476.0</td>\n",
       "      <td>1.0</td>\n",
       "      <td>2.5</td>\n",
       "      <td>0.34</td>\n",
       "      <td>2.3</td>\n",
       "      <td>24.0</td>\n",
       "      <td>365.0</td>\n",
       "      <td>170.0</td>\n",
       "      <td>549.0</td>\n",
       "    </tr>\n",
       "    <tr>\n",
       "      <th>4</th>\n",
       "      <td>4921.0</td>\n",
       "      <td>ANNAMAYYA PROJECT ON CHEYYERU RESERVOIR</td>\n",
       "      <td>Wetland</td>\n",
       "      <td>ANDHRA PRADESH</td>\n",
       "      <td>21.0</td>\n",
       "      <td>30.0</td>\n",
       "      <td>5.4</td>\n",
       "      <td>6.5</td>\n",
       "      <td>7.3</td>\n",
       "      <td>8.0</td>\n",
       "      <td>496.0</td>\n",
       "      <td>734.0</td>\n",
       "      <td>1.0</td>\n",
       "      <td>2.3</td>\n",
       "      <td>0.35</td>\n",
       "      <td>1.0</td>\n",
       "      <td>43.0</td>\n",
       "      <td>289.0</td>\n",
       "      <td>240.0</td>\n",
       "      <td>727.0</td>\n",
       "    </tr>\n",
       "    <tr>\n",
       "      <th>5</th>\n",
       "      <td>4936.0</td>\n",
       "      <td>ANUMANAPALLE CHERUVU</td>\n",
       "      <td>Wetland</td>\n",
       "      <td>ANDHRA PRADESH</td>\n",
       "      <td>22.0</td>\n",
       "      <td>23.0</td>\n",
       "      <td>6.8</td>\n",
       "      <td>7.5</td>\n",
       "      <td>7.1</td>\n",
       "      <td>9.0</td>\n",
       "      <td>158.0</td>\n",
       "      <td>320.0</td>\n",
       "      <td>1.2</td>\n",
       "      <td>2.2</td>\n",
       "      <td>0.42</td>\n",
       "      <td>1.79</td>\n",
       "      <td>3.0</td>\n",
       "      <td>4.0</td>\n",
       "      <td>63.0</td>\n",
       "      <td>150.0</td>\n",
       "    </tr>\n",
       "  </tbody>\n",
       "</table>\n",
       "</div>"
      ],
      "text/plain": [
       "   STN\\nCode                        Name of Monitoring Location  \\\n",
       "0     4368.0      KOLLERU LAKE KOKKIRAYALANKA (V), KAILALUR (M)   \n",
       "1     2353.0  KONDAKARLA-AAVA LAKE, PARAWADA PHARMA CITY, VI...   \n",
       "3     4391.0       CHENGAMBAKAM TANK IN SRI CITY SEZ, TIRUPATHI   \n",
       "4     4921.0            ANNAMAYYA PROJECT ON CHEYYERU RESERVOIR   \n",
       "5     4936.0                               ANUMANAPALLE CHERUVU   \n",
       "\n",
       "  Type Water Body      State Name  Temperature\\n?C (Min)  \\\n",
       "0            LAKE  ANDHRA PRADESH                   24.0   \n",
       "1            LAKE  ANDHRA PRADESH                   26.0   \n",
       "3            TANK  ANDHRA PRADESH                   22.0   \n",
       "4         Wetland  ANDHRA PRADESH                   21.0   \n",
       "5         Wetland  ANDHRA PRADESH                   22.0   \n",
       "\n",
       "   Temperature\\n?C (Max) Dissolved Oxygen (mg/L) (Min)  \\\n",
       "0                   27.0                           3.2   \n",
       "1                   29.0                           3.0   \n",
       "3                   29.0                           5.4   \n",
       "4                   30.0                           5.4   \n",
       "5                   23.0                           6.8   \n",
       "\n",
       "  Dissolved Oxygen (mg/L) (Max) pH (Min)  pH (Max)  \\\n",
       "0                           6.5      7.0       8.0   \n",
       "1                           6.8      6.9       7.8   \n",
       "3                           6.2      6.3       7.9   \n",
       "4                           6.5      7.3       8.0   \n",
       "5                           7.5      7.1       9.0   \n",
       "\n",
       "  Conductivity (?mhos/cm) (Min) Conductivity (?mhos/cm) (Max)  \\\n",
       "0                         245.0                        5160.0   \n",
       "1                         599.0                        1179.0   \n",
       "3                         180.0                         476.0   \n",
       "4                         496.0                         734.0   \n",
       "5                         158.0                         320.0   \n",
       "\n",
       "  BOD (mg/L) (Min) BOD (mg/L) (Max) Nitrate N + Nitrite N(mg/L) (Min)  \\\n",
       "0              1.6              3.2                              1.02   \n",
       "1              1.9              4.6                              0.77   \n",
       "3              1.0              2.5                              0.34   \n",
       "4              1.0              2.3                              0.35   \n",
       "5              1.2              2.2                              0.42   \n",
       "\n",
       "  Nitrate N + Nitrite N(mg/L) (Max) Fecal Coliform (MPN/100ml) (Min)  \\\n",
       "0                               3.6                              9.0   \n",
       "1                              3.56                             15.0   \n",
       "3                               2.3                             24.0   \n",
       "4                               1.0                             43.0   \n",
       "5                              1.79                              3.0   \n",
       "\n",
       "  Fecal Coliform (MPN/100ml) (Max) Total Coliform (MPN/100ml) (Min)  \\\n",
       "0                             21.0                            120.0   \n",
       "1                             23.0                            150.0   \n",
       "3                            365.0                            170.0   \n",
       "4                            289.0                            240.0   \n",
       "5                              4.0                             63.0   \n",
       "\n",
       "  Total Coliform (MPN/100ml) (Max)  \n",
       "0                            210.0  \n",
       "1                            240.0  \n",
       "3                            549.0  \n",
       "4                            727.0  \n",
       "5                            150.0  "
      ]
     },
     "execution_count": 2462,
     "metadata": {},
     "output_type": "execute_result"
    }
   ],
   "source": [
    "df = df.loc[(df['Temperature\\n?C (Min)'] >= 20)]\n",
    "df = df.loc[(df['Temperature\\n?C (Max)'] <= 30)]\n",
    "df.head()"
   ]
  },
  {
   "cell_type": "markdown",
   "id": "6f775d9a",
   "metadata": {
    "papermill": {
     "duration": 0.016909,
     "end_time": "2023-01-30T08:40:36.827627",
     "exception": false,
     "start_time": "2023-01-30T08:40:36.810718",
     "status": "completed"
    },
    "tags": []
   },
   "source": [
    "# 3.2 Dissolved Oxygen\n",
    "> A small amount of oxygen, about ten molecules of oxygen per million molecules of water, is dissolved in water. Fish and microscopic organisms need dissolved oxygen to survive.\n",
    "\n",
    "> - The missing values contained in the **\"Dissolved Oxygen (mg/L) (Min)\"** and **\"Dissolved Oxygen (mg/L) (Max)\"** columns are **dropped**."
   ]
  },
  {
   "cell_type": "code",
   "execution_count": 2463,
   "id": "fd027c40",
   "metadata": {
    "execution": {
     "iopub.execute_input": "2023-01-30T08:40:36.864783Z",
     "iopub.status.busy": "2023-01-30T08:40:36.863660Z",
     "iopub.status.idle": "2023-01-30T08:40:36.871202Z",
     "shell.execute_reply": "2023-01-30T08:40:36.870308Z"
    },
    "papermill": {
     "duration": 0.028469,
     "end_time": "2023-01-30T08:40:36.873607",
     "exception": false,
     "start_time": "2023-01-30T08:40:36.845138",
     "status": "completed"
    },
    "tags": []
   },
   "outputs": [],
   "source": [
    "df = df.dropna(subset=['Dissolved Oxygen (mg/L) (Min)', 'Dissolved Oxygen (mg/L) (Max)'])"
   ]
  },
  {
   "cell_type": "markdown",
   "id": "ad00dff8",
   "metadata": {
    "papermill": {
     "duration": 0.017286,
     "end_time": "2023-01-30T08:40:36.908651",
     "exception": false,
     "start_time": "2023-01-30T08:40:36.891365",
     "status": "completed"
    },
    "tags": []
   },
   "source": [
    ">- The value of **[dissolved oxygen](https://themasterchemistry.com/factors-affecting-quality-of-water/)** should ideally be between **4 (mg/L) - 8 (mg/L)**."
   ]
  },
  {
   "cell_type": "code",
   "execution_count": 2464,
   "id": "d951baf2",
   "metadata": {
    "execution": {
     "iopub.execute_input": "2023-01-30T08:40:36.949185Z",
     "iopub.status.busy": "2023-01-30T08:40:36.948371Z",
     "iopub.status.idle": "2023-01-30T08:40:36.979600Z",
     "shell.execute_reply": "2023-01-30T08:40:36.978711Z"
    },
    "papermill": {
     "duration": 0.052968,
     "end_time": "2023-01-30T08:40:36.981791",
     "exception": false,
     "start_time": "2023-01-30T08:40:36.928823",
     "status": "completed"
    },
    "tags": []
   },
   "outputs": [
    {
     "data": {
      "text/html": [
       "<div>\n",
       "<style scoped>\n",
       "    .dataframe tbody tr th:only-of-type {\n",
       "        vertical-align: middle;\n",
       "    }\n",
       "\n",
       "    .dataframe tbody tr th {\n",
       "        vertical-align: top;\n",
       "    }\n",
       "\n",
       "    .dataframe thead th {\n",
       "        text-align: right;\n",
       "    }\n",
       "</style>\n",
       "<table border=\"1\" class=\"dataframe\">\n",
       "  <thead>\n",
       "    <tr style=\"text-align: right;\">\n",
       "      <th></th>\n",
       "      <th>STN\\nCode</th>\n",
       "      <th>Name of Monitoring Location</th>\n",
       "      <th>Type Water Body</th>\n",
       "      <th>State Name</th>\n",
       "      <th>Temperature\\n?C (Min)</th>\n",
       "      <th>Temperature\\n?C (Max)</th>\n",
       "      <th>Dissolved Oxygen (mg/L) (Min)</th>\n",
       "      <th>Dissolved Oxygen (mg/L) (Max)</th>\n",
       "      <th>pH (Min)</th>\n",
       "      <th>pH (Max)</th>\n",
       "      <th>Conductivity (?mhos/cm) (Min)</th>\n",
       "      <th>Conductivity (?mhos/cm) (Max)</th>\n",
       "      <th>BOD (mg/L) (Min)</th>\n",
       "      <th>BOD (mg/L) (Max)</th>\n",
       "      <th>Nitrate N + Nitrite N(mg/L) (Min)</th>\n",
       "      <th>Nitrate N + Nitrite N(mg/L) (Max)</th>\n",
       "      <th>Fecal Coliform (MPN/100ml) (Min)</th>\n",
       "      <th>Fecal Coliform (MPN/100ml) (Max)</th>\n",
       "      <th>Total Coliform (MPN/100ml) (Min)</th>\n",
       "      <th>Total Coliform (MPN/100ml) (Max)</th>\n",
       "    </tr>\n",
       "  </thead>\n",
       "  <tbody>\n",
       "    <tr>\n",
       "      <th>3</th>\n",
       "      <td>4391.0</td>\n",
       "      <td>CHENGAMBAKAM TANK IN SRI CITY SEZ, TIRUPATHI</td>\n",
       "      <td>TANK</td>\n",
       "      <td>ANDHRA PRADESH</td>\n",
       "      <td>22.0</td>\n",
       "      <td>29.0</td>\n",
       "      <td>5.4</td>\n",
       "      <td>6.2</td>\n",
       "      <td>6.3</td>\n",
       "      <td>7.9</td>\n",
       "      <td>180.0</td>\n",
       "      <td>476.0</td>\n",
       "      <td>1.0</td>\n",
       "      <td>2.5</td>\n",
       "      <td>0.34</td>\n",
       "      <td>2.3</td>\n",
       "      <td>24.0</td>\n",
       "      <td>365.0</td>\n",
       "      <td>170.0</td>\n",
       "      <td>549.0</td>\n",
       "    </tr>\n",
       "    <tr>\n",
       "      <th>4</th>\n",
       "      <td>4921.0</td>\n",
       "      <td>ANNAMAYYA PROJECT ON CHEYYERU RESERVOIR</td>\n",
       "      <td>Wetland</td>\n",
       "      <td>ANDHRA PRADESH</td>\n",
       "      <td>21.0</td>\n",
       "      <td>30.0</td>\n",
       "      <td>5.4</td>\n",
       "      <td>6.5</td>\n",
       "      <td>7.3</td>\n",
       "      <td>8.0</td>\n",
       "      <td>496.0</td>\n",
       "      <td>734.0</td>\n",
       "      <td>1.0</td>\n",
       "      <td>2.3</td>\n",
       "      <td>0.35</td>\n",
       "      <td>1.0</td>\n",
       "      <td>43.0</td>\n",
       "      <td>289.0</td>\n",
       "      <td>240.0</td>\n",
       "      <td>727.0</td>\n",
       "    </tr>\n",
       "    <tr>\n",
       "      <th>5</th>\n",
       "      <td>4936.0</td>\n",
       "      <td>ANUMANAPALLE CHERUVU</td>\n",
       "      <td>Wetland</td>\n",
       "      <td>ANDHRA PRADESH</td>\n",
       "      <td>22.0</td>\n",
       "      <td>23.0</td>\n",
       "      <td>6.8</td>\n",
       "      <td>7.5</td>\n",
       "      <td>7.1</td>\n",
       "      <td>9.0</td>\n",
       "      <td>158.0</td>\n",
       "      <td>320.0</td>\n",
       "      <td>1.2</td>\n",
       "      <td>2.2</td>\n",
       "      <td>0.42</td>\n",
       "      <td>1.79</td>\n",
       "      <td>3.0</td>\n",
       "      <td>4.0</td>\n",
       "      <td>63.0</td>\n",
       "      <td>150.0</td>\n",
       "    </tr>\n",
       "    <tr>\n",
       "      <th>6</th>\n",
       "      <td>4919.0</td>\n",
       "      <td>BRAMHASAGAR</td>\n",
       "      <td>Wetland</td>\n",
       "      <td>ANDHRA PRADESH</td>\n",
       "      <td>20.0</td>\n",
       "      <td>29.0</td>\n",
       "      <td>5.1</td>\n",
       "      <td>6.4</td>\n",
       "      <td>7.1</td>\n",
       "      <td>7.9</td>\n",
       "      <td>381.0</td>\n",
       "      <td>608.0</td>\n",
       "      <td>1.0</td>\n",
       "      <td>2.2</td>\n",
       "      <td>0.32</td>\n",
       "      <td>0.67</td>\n",
       "      <td>45.0</td>\n",
       "      <td>322.0</td>\n",
       "      <td>210.0</td>\n",
       "      <td>602.0</td>\n",
       "    </tr>\n",
       "    <tr>\n",
       "      <th>10</th>\n",
       "      <td>4934.0</td>\n",
       "      <td>INTERU SWAMPS</td>\n",
       "      <td>Wetland</td>\n",
       "      <td>ANDHRA PRADESH</td>\n",
       "      <td>25.0</td>\n",
       "      <td>26.0</td>\n",
       "      <td>6.1</td>\n",
       "      <td>7.5</td>\n",
       "      <td>7.3</td>\n",
       "      <td>7.9</td>\n",
       "      <td>16170.0</td>\n",
       "      <td>26800.0</td>\n",
       "      <td>2.4</td>\n",
       "      <td>2.8</td>\n",
       "      <td>1.12</td>\n",
       "      <td>1.8</td>\n",
       "      <td>3.0</td>\n",
       "      <td>3.0</td>\n",
       "      <td>63.0</td>\n",
       "      <td>150.0</td>\n",
       "    </tr>\n",
       "  </tbody>\n",
       "</table>\n",
       "</div>"
      ],
      "text/plain": [
       "    STN\\nCode                   Name of Monitoring Location Type Water Body  \\\n",
       "3      4391.0  CHENGAMBAKAM TANK IN SRI CITY SEZ, TIRUPATHI            TANK   \n",
       "4      4921.0       ANNAMAYYA PROJECT ON CHEYYERU RESERVOIR         Wetland   \n",
       "5      4936.0                          ANUMANAPALLE CHERUVU         Wetland   \n",
       "6      4919.0                                   BRAMHASAGAR         Wetland   \n",
       "10     4934.0                                 INTERU SWAMPS         Wetland   \n",
       "\n",
       "        State Name  Temperature\\n?C (Min)  Temperature\\n?C (Max)  \\\n",
       "3   ANDHRA PRADESH                   22.0                   29.0   \n",
       "4   ANDHRA PRADESH                   21.0                   30.0   \n",
       "5   ANDHRA PRADESH                   22.0                   23.0   \n",
       "6   ANDHRA PRADESH                   20.0                   29.0   \n",
       "10  ANDHRA PRADESH                   25.0                   26.0   \n",
       "\n",
       "   Dissolved Oxygen (mg/L) (Min) Dissolved Oxygen (mg/L) (Max) pH (Min)  \\\n",
       "3                            5.4                           6.2      6.3   \n",
       "4                            5.4                           6.5      7.3   \n",
       "5                            6.8                           7.5      7.1   \n",
       "6                            5.1                           6.4      7.1   \n",
       "10                           6.1                           7.5      7.3   \n",
       "\n",
       "    pH (Max) Conductivity (?mhos/cm) (Min) Conductivity (?mhos/cm) (Max)  \\\n",
       "3        7.9                         180.0                         476.0   \n",
       "4        8.0                         496.0                         734.0   \n",
       "5        9.0                         158.0                         320.0   \n",
       "6        7.9                         381.0                         608.0   \n",
       "10       7.9                       16170.0                       26800.0   \n",
       "\n",
       "   BOD (mg/L) (Min) BOD (mg/L) (Max) Nitrate N + Nitrite N(mg/L) (Min)  \\\n",
       "3               1.0              2.5                              0.34   \n",
       "4               1.0              2.3                              0.35   \n",
       "5               1.2              2.2                              0.42   \n",
       "6               1.0              2.2                              0.32   \n",
       "10              2.4              2.8                              1.12   \n",
       "\n",
       "   Nitrate N + Nitrite N(mg/L) (Max) Fecal Coliform (MPN/100ml) (Min)  \\\n",
       "3                                2.3                             24.0   \n",
       "4                                1.0                             43.0   \n",
       "5                               1.79                              3.0   \n",
       "6                               0.67                             45.0   \n",
       "10                               1.8                              3.0   \n",
       "\n",
       "   Fecal Coliform (MPN/100ml) (Max) Total Coliform (MPN/100ml) (Min)  \\\n",
       "3                             365.0                            170.0   \n",
       "4                             289.0                            240.0   \n",
       "5                               4.0                             63.0   \n",
       "6                             322.0                            210.0   \n",
       "10                              3.0                             63.0   \n",
       "\n",
       "   Total Coliform (MPN/100ml) (Max)  \n",
       "3                             549.0  \n",
       "4                             727.0  \n",
       "5                             150.0  \n",
       "6                             602.0  \n",
       "10                            150.0  "
      ]
     },
     "execution_count": 2464,
     "metadata": {},
     "output_type": "execute_result"
    }
   ],
   "source": [
    "df = df.loc[(df['Dissolved Oxygen (mg/L) (Min)'] >= 4)]\n",
    "df = df.loc[(df['Dissolved Oxygen (mg/L) (Max)'] <= 8)]\n",
    "df.head()"
   ]
  },
  {
   "cell_type": "markdown",
   "id": "a29ff34d",
   "metadata": {
    "execution": {
     "iopub.execute_input": "2022-11-03T00:58:09.462052Z",
     "iopub.status.busy": "2022-11-03T00:58:09.461676Z",
     "iopub.status.idle": "2022-11-03T00:58:09.477902Z",
     "shell.execute_reply": "2022-11-03T00:58:09.476616Z",
     "shell.execute_reply.started": "2022-11-03T00:58:09.462005Z"
    },
    "papermill": {
     "duration": 0.017328,
     "end_time": "2023-01-30T08:40:37.016848",
     "exception": false,
     "start_time": "2023-01-30T08:40:36.999520",
     "status": "completed"
    },
    "tags": []
   },
   "source": [
    "# 3.3 pH\n",
    "> The measurement of pH is a measure of the amount of hydrogen ions (H+) present in a substance such as water. Knowing the amount of hydrogen in a substance allows us to judge whether it is acidic, neutral, or basic.\n",
    "\n",
    "> - The missing values contained in the **\"pH (Min)\"** and **\"pH (Max)\"** columns are **dropped**."
   ]
  },
  {
   "cell_type": "code",
   "execution_count": 2465,
   "id": "1f3644cc",
   "metadata": {
    "execution": {
     "iopub.execute_input": "2023-01-30T08:40:37.054470Z",
     "iopub.status.busy": "2023-01-30T08:40:37.053312Z",
     "iopub.status.idle": "2023-01-30T08:40:37.060937Z",
     "shell.execute_reply": "2023-01-30T08:40:37.059744Z"
    },
    "papermill": {
     "duration": 0.028924,
     "end_time": "2023-01-30T08:40:37.063287",
     "exception": false,
     "start_time": "2023-01-30T08:40:37.034363",
     "status": "completed"
    },
    "tags": []
   },
   "outputs": [],
   "source": [
    "df = df.dropna(subset=['pH (Min)', 'pH (Max)'])"
   ]
  },
  {
   "cell_type": "markdown",
   "id": "214974ce",
   "metadata": {
    "papermill": {
     "duration": 0.017175,
     "end_time": "2023-01-30T08:40:37.098075",
     "exception": false,
     "start_time": "2023-01-30T08:40:37.080900",
     "status": "completed"
    },
    "tags": []
   },
   "source": [
    ">- **[pH](https://cpcb.nic.in/water-quality-criteria/)** value ranges from **6 - 8** for optimum water quality."
   ]
  },
  {
   "cell_type": "code",
   "execution_count": 2466,
   "id": "6b67fb45",
   "metadata": {
    "execution": {
     "iopub.execute_input": "2023-01-30T08:40:37.135074Z",
     "iopub.status.busy": "2023-01-30T08:40:37.133940Z",
     "iopub.status.idle": "2023-01-30T08:40:37.163488Z",
     "shell.execute_reply": "2023-01-30T08:40:37.162652Z"
    },
    "papermill": {
     "duration": 0.050232,
     "end_time": "2023-01-30T08:40:37.165647",
     "exception": false,
     "start_time": "2023-01-30T08:40:37.115415",
     "status": "completed"
    },
    "tags": []
   },
   "outputs": [
    {
     "data": {
      "text/html": [
       "<div>\n",
       "<style scoped>\n",
       "    .dataframe tbody tr th:only-of-type {\n",
       "        vertical-align: middle;\n",
       "    }\n",
       "\n",
       "    .dataframe tbody tr th {\n",
       "        vertical-align: top;\n",
       "    }\n",
       "\n",
       "    .dataframe thead th {\n",
       "        text-align: right;\n",
       "    }\n",
       "</style>\n",
       "<table border=\"1\" class=\"dataframe\">\n",
       "  <thead>\n",
       "    <tr style=\"text-align: right;\">\n",
       "      <th></th>\n",
       "      <th>STN\\nCode</th>\n",
       "      <th>Name of Monitoring Location</th>\n",
       "      <th>Type Water Body</th>\n",
       "      <th>State Name</th>\n",
       "      <th>Temperature\\n?C (Min)</th>\n",
       "      <th>Temperature\\n?C (Max)</th>\n",
       "      <th>Dissolved Oxygen (mg/L) (Min)</th>\n",
       "      <th>Dissolved Oxygen (mg/L) (Max)</th>\n",
       "      <th>pH (Min)</th>\n",
       "      <th>pH (Max)</th>\n",
       "      <th>Conductivity (?mhos/cm) (Min)</th>\n",
       "      <th>Conductivity (?mhos/cm) (Max)</th>\n",
       "      <th>BOD (mg/L) (Min)</th>\n",
       "      <th>BOD (mg/L) (Max)</th>\n",
       "      <th>Nitrate N + Nitrite N(mg/L) (Min)</th>\n",
       "      <th>Nitrate N + Nitrite N(mg/L) (Max)</th>\n",
       "      <th>Fecal Coliform (MPN/100ml) (Min)</th>\n",
       "      <th>Fecal Coliform (MPN/100ml) (Max)</th>\n",
       "      <th>Total Coliform (MPN/100ml) (Min)</th>\n",
       "      <th>Total Coliform (MPN/100ml) (Max)</th>\n",
       "    </tr>\n",
       "  </thead>\n",
       "  <tbody>\n",
       "    <tr>\n",
       "      <th>3</th>\n",
       "      <td>4391.0</td>\n",
       "      <td>CHENGAMBAKAM TANK IN SRI CITY SEZ, TIRUPATHI</td>\n",
       "      <td>TANK</td>\n",
       "      <td>ANDHRA PRADESH</td>\n",
       "      <td>22.0</td>\n",
       "      <td>29.0</td>\n",
       "      <td>5.4</td>\n",
       "      <td>6.2</td>\n",
       "      <td>6.3</td>\n",
       "      <td>7.9</td>\n",
       "      <td>180.0</td>\n",
       "      <td>476.0</td>\n",
       "      <td>1.0</td>\n",
       "      <td>2.5</td>\n",
       "      <td>0.34</td>\n",
       "      <td>2.3</td>\n",
       "      <td>24.0</td>\n",
       "      <td>365.0</td>\n",
       "      <td>170.0</td>\n",
       "      <td>549.0</td>\n",
       "    </tr>\n",
       "    <tr>\n",
       "      <th>4</th>\n",
       "      <td>4921.0</td>\n",
       "      <td>ANNAMAYYA PROJECT ON CHEYYERU RESERVOIR</td>\n",
       "      <td>Wetland</td>\n",
       "      <td>ANDHRA PRADESH</td>\n",
       "      <td>21.0</td>\n",
       "      <td>30.0</td>\n",
       "      <td>5.4</td>\n",
       "      <td>6.5</td>\n",
       "      <td>7.3</td>\n",
       "      <td>8.0</td>\n",
       "      <td>496.0</td>\n",
       "      <td>734.0</td>\n",
       "      <td>1.0</td>\n",
       "      <td>2.3</td>\n",
       "      <td>0.35</td>\n",
       "      <td>1.0</td>\n",
       "      <td>43.0</td>\n",
       "      <td>289.0</td>\n",
       "      <td>240.0</td>\n",
       "      <td>727.0</td>\n",
       "    </tr>\n",
       "    <tr>\n",
       "      <th>5</th>\n",
       "      <td>4936.0</td>\n",
       "      <td>ANUMANAPALLE CHERUVU</td>\n",
       "      <td>Wetland</td>\n",
       "      <td>ANDHRA PRADESH</td>\n",
       "      <td>22.0</td>\n",
       "      <td>23.0</td>\n",
       "      <td>6.8</td>\n",
       "      <td>7.5</td>\n",
       "      <td>7.1</td>\n",
       "      <td>9.0</td>\n",
       "      <td>158.0</td>\n",
       "      <td>320.0</td>\n",
       "      <td>1.2</td>\n",
       "      <td>2.2</td>\n",
       "      <td>0.42</td>\n",
       "      <td>1.79</td>\n",
       "      <td>3.0</td>\n",
       "      <td>4.0</td>\n",
       "      <td>63.0</td>\n",
       "      <td>150.0</td>\n",
       "    </tr>\n",
       "    <tr>\n",
       "      <th>6</th>\n",
       "      <td>4919.0</td>\n",
       "      <td>BRAMHASAGAR</td>\n",
       "      <td>Wetland</td>\n",
       "      <td>ANDHRA PRADESH</td>\n",
       "      <td>20.0</td>\n",
       "      <td>29.0</td>\n",
       "      <td>5.1</td>\n",
       "      <td>6.4</td>\n",
       "      <td>7.1</td>\n",
       "      <td>7.9</td>\n",
       "      <td>381.0</td>\n",
       "      <td>608.0</td>\n",
       "      <td>1.0</td>\n",
       "      <td>2.2</td>\n",
       "      <td>0.32</td>\n",
       "      <td>0.67</td>\n",
       "      <td>45.0</td>\n",
       "      <td>322.0</td>\n",
       "      <td>210.0</td>\n",
       "      <td>602.0</td>\n",
       "    </tr>\n",
       "    <tr>\n",
       "      <th>10</th>\n",
       "      <td>4934.0</td>\n",
       "      <td>INTERU SWAMPS</td>\n",
       "      <td>Wetland</td>\n",
       "      <td>ANDHRA PRADESH</td>\n",
       "      <td>25.0</td>\n",
       "      <td>26.0</td>\n",
       "      <td>6.1</td>\n",
       "      <td>7.5</td>\n",
       "      <td>7.3</td>\n",
       "      <td>7.9</td>\n",
       "      <td>16170.0</td>\n",
       "      <td>26800.0</td>\n",
       "      <td>2.4</td>\n",
       "      <td>2.8</td>\n",
       "      <td>1.12</td>\n",
       "      <td>1.8</td>\n",
       "      <td>3.0</td>\n",
       "      <td>3.0</td>\n",
       "      <td>63.0</td>\n",
       "      <td>150.0</td>\n",
       "    </tr>\n",
       "  </tbody>\n",
       "</table>\n",
       "</div>"
      ],
      "text/plain": [
       "    STN\\nCode                   Name of Monitoring Location Type Water Body  \\\n",
       "3      4391.0  CHENGAMBAKAM TANK IN SRI CITY SEZ, TIRUPATHI            TANK   \n",
       "4      4921.0       ANNAMAYYA PROJECT ON CHEYYERU RESERVOIR         Wetland   \n",
       "5      4936.0                          ANUMANAPALLE CHERUVU         Wetland   \n",
       "6      4919.0                                   BRAMHASAGAR         Wetland   \n",
       "10     4934.0                                 INTERU SWAMPS         Wetland   \n",
       "\n",
       "        State Name  Temperature\\n?C (Min)  Temperature\\n?C (Max)  \\\n",
       "3   ANDHRA PRADESH                   22.0                   29.0   \n",
       "4   ANDHRA PRADESH                   21.0                   30.0   \n",
       "5   ANDHRA PRADESH                   22.0                   23.0   \n",
       "6   ANDHRA PRADESH                   20.0                   29.0   \n",
       "10  ANDHRA PRADESH                   25.0                   26.0   \n",
       "\n",
       "   Dissolved Oxygen (mg/L) (Min) Dissolved Oxygen (mg/L) (Max) pH (Min)  \\\n",
       "3                            5.4                           6.2      6.3   \n",
       "4                            5.4                           6.5      7.3   \n",
       "5                            6.8                           7.5      7.1   \n",
       "6                            5.1                           6.4      7.1   \n",
       "10                           6.1                           7.5      7.3   \n",
       "\n",
       "    pH (Max) Conductivity (?mhos/cm) (Min) Conductivity (?mhos/cm) (Max)  \\\n",
       "3        7.9                         180.0                         476.0   \n",
       "4        8.0                         496.0                         734.0   \n",
       "5        9.0                         158.0                         320.0   \n",
       "6        7.9                         381.0                         608.0   \n",
       "10       7.9                       16170.0                       26800.0   \n",
       "\n",
       "   BOD (mg/L) (Min) BOD (mg/L) (Max) Nitrate N + Nitrite N(mg/L) (Min)  \\\n",
       "3               1.0              2.5                              0.34   \n",
       "4               1.0              2.3                              0.35   \n",
       "5               1.2              2.2                              0.42   \n",
       "6               1.0              2.2                              0.32   \n",
       "10              2.4              2.8                              1.12   \n",
       "\n",
       "   Nitrate N + Nitrite N(mg/L) (Max) Fecal Coliform (MPN/100ml) (Min)  \\\n",
       "3                                2.3                             24.0   \n",
       "4                                1.0                             43.0   \n",
       "5                               1.79                              3.0   \n",
       "6                               0.67                             45.0   \n",
       "10                               1.8                              3.0   \n",
       "\n",
       "   Fecal Coliform (MPN/100ml) (Max) Total Coliform (MPN/100ml) (Min)  \\\n",
       "3                             365.0                            170.0   \n",
       "4                             289.0                            240.0   \n",
       "5                               4.0                             63.0   \n",
       "6                             322.0                            210.0   \n",
       "10                              3.0                             63.0   \n",
       "\n",
       "   Total Coliform (MPN/100ml) (Max)  \n",
       "3                             549.0  \n",
       "4                             727.0  \n",
       "5                             150.0  \n",
       "6                             602.0  \n",
       "10                            150.0  "
      ]
     },
     "execution_count": 2466,
     "metadata": {},
     "output_type": "execute_result"
    }
   ],
   "source": [
    "df = df.loc[(df['pH (Min)'] >= 6)]\n",
    "df = df.loc[(df['pH (Min)'] <= 8)]\n",
    "df.head()"
   ]
  },
  {
   "cell_type": "markdown",
   "id": "32001c4d",
   "metadata": {
    "papermill": {
     "duration": 0.017684,
     "end_time": "2023-01-30T08:40:37.201438",
     "exception": false,
     "start_time": "2023-01-30T08:40:37.183754",
     "status": "completed"
    },
    "tags": []
   },
   "source": [
    "# 3.4 Conductivity\n",
    "> Conductivity is a measure of water’s capability to pass electrical flow. Significantly elevated electrical conductivity can indicate that pollution has entered the river. A measure of electrical conductivity cannot tell you what the pollutant is, but it can help identify that there is a problem that may harm invertebrates and/or fish.\n",
    "> - The missing values contained in the **\"Conductivity (?mhos/cm) (Min)\"** and **\"Conductivity (?mhos/cm) (Max)\"** columns are **dropped**."
   ]
  },
  {
   "cell_type": "code",
   "execution_count": 2467,
   "id": "facf085e",
   "metadata": {
    "execution": {
     "iopub.execute_input": "2023-01-30T08:40:37.240248Z",
     "iopub.status.busy": "2023-01-30T08:40:37.239761Z",
     "iopub.status.idle": "2023-01-30T08:40:37.247583Z",
     "shell.execute_reply": "2023-01-30T08:40:37.246364Z"
    },
    "papermill": {
     "duration": 0.031103,
     "end_time": "2023-01-30T08:40:37.250776",
     "exception": false,
     "start_time": "2023-01-30T08:40:37.219673",
     "status": "completed"
    },
    "tags": []
   },
   "outputs": [],
   "source": [
    "df = df.dropna(subset=['Conductivity (?mhos/cm) (Min)', 'Conductivity (?mhos/cm) (Max)'])"
   ]
  },
  {
   "cell_type": "markdown",
   "id": "93cd98eb",
   "metadata": {
    "papermill": {
     "duration": 0.018742,
     "end_time": "2023-01-30T08:40:37.288355",
     "exception": false,
     "start_time": "2023-01-30T08:40:37.269613",
     "status": "completed"
    },
    "tags": []
   },
   "source": [
    ">- **[Conductivity](https://friendsofthecarpriver.com/?page_id=962#:~:text=Freshwater%20streams%20ideally%20should%20have,to%20support%20diverse%20aquatic%20life.)** should ideally be between **150 - 500 μmhos/cm** to support diverse aquatic life."
   ]
  },
  {
   "cell_type": "code",
   "execution_count": 2468,
   "id": "4d0ecc29",
   "metadata": {
    "execution": {
     "iopub.execute_input": "2023-01-30T08:40:37.327207Z",
     "iopub.status.busy": "2023-01-30T08:40:37.326749Z",
     "iopub.status.idle": "2023-01-30T08:40:37.358252Z",
     "shell.execute_reply": "2023-01-30T08:40:37.357107Z"
    },
    "papermill": {
     "duration": 0.054129,
     "end_time": "2023-01-30T08:40:37.360930",
     "exception": false,
     "start_time": "2023-01-30T08:40:37.306801",
     "status": "completed"
    },
    "tags": []
   },
   "outputs": [
    {
     "data": {
      "text/html": [
       "<div>\n",
       "<style scoped>\n",
       "    .dataframe tbody tr th:only-of-type {\n",
       "        vertical-align: middle;\n",
       "    }\n",
       "\n",
       "    .dataframe tbody tr th {\n",
       "        vertical-align: top;\n",
       "    }\n",
       "\n",
       "    .dataframe thead th {\n",
       "        text-align: right;\n",
       "    }\n",
       "</style>\n",
       "<table border=\"1\" class=\"dataframe\">\n",
       "  <thead>\n",
       "    <tr style=\"text-align: right;\">\n",
       "      <th></th>\n",
       "      <th>STN\\nCode</th>\n",
       "      <th>Name of Monitoring Location</th>\n",
       "      <th>Type Water Body</th>\n",
       "      <th>State Name</th>\n",
       "      <th>Temperature\\n?C (Min)</th>\n",
       "      <th>Temperature\\n?C (Max)</th>\n",
       "      <th>Dissolved Oxygen (mg/L) (Min)</th>\n",
       "      <th>Dissolved Oxygen (mg/L) (Max)</th>\n",
       "      <th>pH (Min)</th>\n",
       "      <th>pH (Max)</th>\n",
       "      <th>Conductivity (?mhos/cm) (Min)</th>\n",
       "      <th>Conductivity (?mhos/cm) (Max)</th>\n",
       "      <th>BOD (mg/L) (Min)</th>\n",
       "      <th>BOD (mg/L) (Max)</th>\n",
       "      <th>Nitrate N + Nitrite N(mg/L) (Min)</th>\n",
       "      <th>Nitrate N + Nitrite N(mg/L) (Max)</th>\n",
       "      <th>Fecal Coliform (MPN/100ml) (Min)</th>\n",
       "      <th>Fecal Coliform (MPN/100ml) (Max)</th>\n",
       "      <th>Total Coliform (MPN/100ml) (Min)</th>\n",
       "      <th>Total Coliform (MPN/100ml) (Max)</th>\n",
       "    </tr>\n",
       "  </thead>\n",
       "  <tbody>\n",
       "    <tr>\n",
       "      <th>3</th>\n",
       "      <td>4391.0</td>\n",
       "      <td>CHENGAMBAKAM TANK IN SRI CITY SEZ, TIRUPATHI</td>\n",
       "      <td>TANK</td>\n",
       "      <td>ANDHRA PRADESH</td>\n",
       "      <td>22.0</td>\n",
       "      <td>29.0</td>\n",
       "      <td>5.4</td>\n",
       "      <td>6.2</td>\n",
       "      <td>6.3</td>\n",
       "      <td>7.9</td>\n",
       "      <td>180.0</td>\n",
       "      <td>476.0</td>\n",
       "      <td>1.0</td>\n",
       "      <td>2.5</td>\n",
       "      <td>0.34</td>\n",
       "      <td>2.3</td>\n",
       "      <td>24.0</td>\n",
       "      <td>365.0</td>\n",
       "      <td>170.0</td>\n",
       "      <td>549.0</td>\n",
       "    </tr>\n",
       "    <tr>\n",
       "      <th>5</th>\n",
       "      <td>4936.0</td>\n",
       "      <td>ANUMANAPALLE CHERUVU</td>\n",
       "      <td>Wetland</td>\n",
       "      <td>ANDHRA PRADESH</td>\n",
       "      <td>22.0</td>\n",
       "      <td>23.0</td>\n",
       "      <td>6.8</td>\n",
       "      <td>7.5</td>\n",
       "      <td>7.1</td>\n",
       "      <td>9.0</td>\n",
       "      <td>158.0</td>\n",
       "      <td>320.0</td>\n",
       "      <td>1.2</td>\n",
       "      <td>2.2</td>\n",
       "      <td>0.42</td>\n",
       "      <td>1.79</td>\n",
       "      <td>3.0</td>\n",
       "      <td>4.0</td>\n",
       "      <td>63.0</td>\n",
       "      <td>150.0</td>\n",
       "    </tr>\n",
       "    <tr>\n",
       "      <th>44</th>\n",
       "      <td>2207.0</td>\n",
       "      <td>BOR BEEL AT JAKAI., ASSAM</td>\n",
       "      <td>POND</td>\n",
       "      <td>ASSAM</td>\n",
       "      <td>21.0</td>\n",
       "      <td>25.0</td>\n",
       "      <td>4.0</td>\n",
       "      <td>7.0</td>\n",
       "      <td>7.2</td>\n",
       "      <td>7.8</td>\n",
       "      <td>200.0</td>\n",
       "      <td>297.0</td>\n",
       "      <td>2.0</td>\n",
       "      <td>2.8</td>\n",
       "      <td>0.6</td>\n",
       "      <td>1.1</td>\n",
       "      <td>300.0</td>\n",
       "      <td>730.0</td>\n",
       "      <td>610.0</td>\n",
       "      <td>1500.0</td>\n",
       "    </tr>\n",
       "    <tr>\n",
       "      <th>178</th>\n",
       "      <td>4535.0</td>\n",
       "      <td>GUBBALAL KERE</td>\n",
       "      <td>LAKE</td>\n",
       "      <td>KARNATAKA</td>\n",
       "      <td>25.0</td>\n",
       "      <td>25.0</td>\n",
       "      <td>4.8</td>\n",
       "      <td>6.4</td>\n",
       "      <td>6.5</td>\n",
       "      <td>7.7</td>\n",
       "      <td>247.0</td>\n",
       "      <td>371.0</td>\n",
       "      <td>3.0</td>\n",
       "      <td>11.0</td>\n",
       "      <td>0.4</td>\n",
       "      <td>0.8</td>\n",
       "      <td>1500.0</td>\n",
       "      <td>15000.0</td>\n",
       "      <td>16000.0</td>\n",
       "      <td>160000.0</td>\n",
       "    </tr>\n",
       "    <tr>\n",
       "      <th>230</th>\n",
       "      <td>3592.0</td>\n",
       "      <td>YEDIYUR LAKE</td>\n",
       "      <td>LAKE</td>\n",
       "      <td>KARNATAKA</td>\n",
       "      <td>25.0</td>\n",
       "      <td>25.0</td>\n",
       "      <td>4.1</td>\n",
       "      <td>7.1</td>\n",
       "      <td>6.5</td>\n",
       "      <td>8.2</td>\n",
       "      <td>201.0</td>\n",
       "      <td>334.0</td>\n",
       "      <td>3.0</td>\n",
       "      <td>18.0</td>\n",
       "      <td>0.6</td>\n",
       "      <td>2.4</td>\n",
       "      <td>4600.0</td>\n",
       "      <td>46000.0</td>\n",
       "      <td>24000.0</td>\n",
       "      <td>920000.0</td>\n",
       "    </tr>\n",
       "  </tbody>\n",
       "</table>\n",
       "</div>"
      ],
      "text/plain": [
       "     STN\\nCode                   Name of Monitoring Location Type Water Body  \\\n",
       "3       4391.0  CHENGAMBAKAM TANK IN SRI CITY SEZ, TIRUPATHI            TANK   \n",
       "5       4936.0                          ANUMANAPALLE CHERUVU         Wetland   \n",
       "44      2207.0                     BOR BEEL AT JAKAI., ASSAM            POND   \n",
       "178     4535.0                                 GUBBALAL KERE            LAKE   \n",
       "230     3592.0                                  YEDIYUR LAKE            LAKE   \n",
       "\n",
       "         State Name  Temperature\\n?C (Min)  Temperature\\n?C (Max)  \\\n",
       "3    ANDHRA PRADESH                   22.0                   29.0   \n",
       "5    ANDHRA PRADESH                   22.0                   23.0   \n",
       "44            ASSAM                   21.0                   25.0   \n",
       "178       KARNATAKA                   25.0                   25.0   \n",
       "230       KARNATAKA                   25.0                   25.0   \n",
       "\n",
       "    Dissolved Oxygen (mg/L) (Min) Dissolved Oxygen (mg/L) (Max) pH (Min)  \\\n",
       "3                             5.4                           6.2      6.3   \n",
       "5                             6.8                           7.5      7.1   \n",
       "44                            4.0                           7.0      7.2   \n",
       "178                           4.8                           6.4      6.5   \n",
       "230                           4.1                           7.1      6.5   \n",
       "\n",
       "     pH (Max) Conductivity (?mhos/cm) (Min) Conductivity (?mhos/cm) (Max)  \\\n",
       "3         7.9                         180.0                         476.0   \n",
       "5         9.0                         158.0                         320.0   \n",
       "44        7.8                         200.0                         297.0   \n",
       "178       7.7                         247.0                         371.0   \n",
       "230       8.2                         201.0                         334.0   \n",
       "\n",
       "    BOD (mg/L) (Min) BOD (mg/L) (Max) Nitrate N + Nitrite N(mg/L) (Min)  \\\n",
       "3                1.0              2.5                              0.34   \n",
       "5                1.2              2.2                              0.42   \n",
       "44               2.0              2.8                               0.6   \n",
       "178              3.0             11.0                               0.4   \n",
       "230              3.0             18.0                               0.6   \n",
       "\n",
       "    Nitrate N + Nitrite N(mg/L) (Max) Fecal Coliform (MPN/100ml) (Min)  \\\n",
       "3                                 2.3                             24.0   \n",
       "5                                1.79                              3.0   \n",
       "44                                1.1                            300.0   \n",
       "178                               0.8                           1500.0   \n",
       "230                               2.4                           4600.0   \n",
       "\n",
       "    Fecal Coliform (MPN/100ml) (Max) Total Coliform (MPN/100ml) (Min)  \\\n",
       "3                              365.0                            170.0   \n",
       "5                                4.0                             63.0   \n",
       "44                             730.0                            610.0   \n",
       "178                          15000.0                          16000.0   \n",
       "230                          46000.0                          24000.0   \n",
       "\n",
       "    Total Coliform (MPN/100ml) (Max)  \n",
       "3                              549.0  \n",
       "5                              150.0  \n",
       "44                            1500.0  \n",
       "178                         160000.0  \n",
       "230                         920000.0  "
      ]
     },
     "execution_count": 2468,
     "metadata": {},
     "output_type": "execute_result"
    }
   ],
   "source": [
    "df = df.loc[(df['Conductivity (?mhos/cm) (Min)'] >= 150)]\n",
    "df = df.loc[(df['Conductivity (?mhos/cm) (Max)'] <= 500)]\n",
    "df.head()"
   ]
  },
  {
   "cell_type": "markdown",
   "id": "dea3bf65",
   "metadata": {
    "papermill": {
     "duration": 0.018128,
     "end_time": "2023-01-30T08:40:37.398293",
     "exception": false,
     "start_time": "2023-01-30T08:40:37.380165",
     "status": "completed"
    },
    "tags": []
   },
   "source": [
    "# 3.5 Biochemical oxygen demand (BOD) \n",
    "> BOD is a measure of the amount of oxygen required to remove waste organic matter from water in the process of decomposition by aerobic bacteria (those bacteria that live only in an environment containing oxygen). Higher BOD indicates more oxygen is required, which is less for oxygen-demanding species to feed on, and signifies lower water quality. Inversely, low BOD means less oxygen is being removed from water, so water is generally purer.\n",
    "\n",
    "> - The missing values contained in the **\"BOD (mg/L) (Min)\"** and **\"BOD (mg/L) (Max)\"** columns are **dropped**."
   ]
  },
  {
   "cell_type": "code",
   "execution_count": 2469,
   "id": "9ce9bbf0",
   "metadata": {
    "execution": {
     "iopub.execute_input": "2023-01-30T08:40:37.436756Z",
     "iopub.status.busy": "2023-01-30T08:40:37.436353Z",
     "iopub.status.idle": "2023-01-30T08:40:37.443932Z",
     "shell.execute_reply": "2023-01-30T08:40:37.442775Z"
    },
    "papermill": {
     "duration": 0.029849,
     "end_time": "2023-01-30T08:40:37.446465",
     "exception": false,
     "start_time": "2023-01-30T08:40:37.416616",
     "status": "completed"
    },
    "tags": []
   },
   "outputs": [],
   "source": [
    "df = df.dropna(subset=['BOD (mg/L) (Min)', 'BOD (mg/L) (Max)'])"
   ]
  },
  {
   "cell_type": "markdown",
   "id": "7e249d22",
   "metadata": {
    "papermill": {
     "duration": 0.019351,
     "end_time": "2023-01-30T08:40:37.484491",
     "exception": false,
     "start_time": "2023-01-30T08:40:37.465140",
     "status": "completed"
    },
    "tags": []
   },
   "source": [
    ">- **[BOD](https://cpcb.nic.in/water-quality-criteria/)** has to be lower than **5 (mg/L)** to obtain moderately clean water."
   ]
  },
  {
   "cell_type": "code",
   "execution_count": 2470,
   "id": "d72f0287",
   "metadata": {
    "execution": {
     "iopub.execute_input": "2023-01-30T08:40:37.523766Z",
     "iopub.status.busy": "2023-01-30T08:40:37.523356Z",
     "iopub.status.idle": "2023-01-30T08:40:37.553936Z",
     "shell.execute_reply": "2023-01-30T08:40:37.552826Z"
    },
    "papermill": {
     "duration": 0.052993,
     "end_time": "2023-01-30T08:40:37.556346",
     "exception": false,
     "start_time": "2023-01-30T08:40:37.503353",
     "status": "completed"
    },
    "tags": []
   },
   "outputs": [
    {
     "data": {
      "text/html": [
       "<div>\n",
       "<style scoped>\n",
       "    .dataframe tbody tr th:only-of-type {\n",
       "        vertical-align: middle;\n",
       "    }\n",
       "\n",
       "    .dataframe tbody tr th {\n",
       "        vertical-align: top;\n",
       "    }\n",
       "\n",
       "    .dataframe thead th {\n",
       "        text-align: right;\n",
       "    }\n",
       "</style>\n",
       "<table border=\"1\" class=\"dataframe\">\n",
       "  <thead>\n",
       "    <tr style=\"text-align: right;\">\n",
       "      <th></th>\n",
       "      <th>STN\\nCode</th>\n",
       "      <th>Name of Monitoring Location</th>\n",
       "      <th>Type Water Body</th>\n",
       "      <th>State Name</th>\n",
       "      <th>Temperature\\n?C (Min)</th>\n",
       "      <th>Temperature\\n?C (Max)</th>\n",
       "      <th>Dissolved Oxygen (mg/L) (Min)</th>\n",
       "      <th>Dissolved Oxygen (mg/L) (Max)</th>\n",
       "      <th>pH (Min)</th>\n",
       "      <th>pH (Max)</th>\n",
       "      <th>Conductivity (?mhos/cm) (Min)</th>\n",
       "      <th>Conductivity (?mhos/cm) (Max)</th>\n",
       "      <th>BOD (mg/L) (Min)</th>\n",
       "      <th>BOD (mg/L) (Max)</th>\n",
       "      <th>Nitrate N + Nitrite N(mg/L) (Min)</th>\n",
       "      <th>Nitrate N + Nitrite N(mg/L) (Max)</th>\n",
       "      <th>Fecal Coliform (MPN/100ml) (Min)</th>\n",
       "      <th>Fecal Coliform (MPN/100ml) (Max)</th>\n",
       "      <th>Total Coliform (MPN/100ml) (Min)</th>\n",
       "      <th>Total Coliform (MPN/100ml) (Max)</th>\n",
       "    </tr>\n",
       "  </thead>\n",
       "  <tbody>\n",
       "    <tr>\n",
       "      <th>3</th>\n",
       "      <td>4391.0</td>\n",
       "      <td>CHENGAMBAKAM TANK IN SRI CITY SEZ, TIRUPATHI</td>\n",
       "      <td>TANK</td>\n",
       "      <td>ANDHRA PRADESH</td>\n",
       "      <td>22.0</td>\n",
       "      <td>29.0</td>\n",
       "      <td>5.4</td>\n",
       "      <td>6.2</td>\n",
       "      <td>6.3</td>\n",
       "      <td>7.9</td>\n",
       "      <td>180.0</td>\n",
       "      <td>476.0</td>\n",
       "      <td>1.0</td>\n",
       "      <td>2.5</td>\n",
       "      <td>0.34</td>\n",
       "      <td>2.3</td>\n",
       "      <td>24.0</td>\n",
       "      <td>365.0</td>\n",
       "      <td>170.0</td>\n",
       "      <td>549.0</td>\n",
       "    </tr>\n",
       "    <tr>\n",
       "      <th>5</th>\n",
       "      <td>4936.0</td>\n",
       "      <td>ANUMANAPALLE CHERUVU</td>\n",
       "      <td>Wetland</td>\n",
       "      <td>ANDHRA PRADESH</td>\n",
       "      <td>22.0</td>\n",
       "      <td>23.0</td>\n",
       "      <td>6.8</td>\n",
       "      <td>7.5</td>\n",
       "      <td>7.1</td>\n",
       "      <td>9.0</td>\n",
       "      <td>158.0</td>\n",
       "      <td>320.0</td>\n",
       "      <td>1.2</td>\n",
       "      <td>2.2</td>\n",
       "      <td>0.42</td>\n",
       "      <td>1.79</td>\n",
       "      <td>3.0</td>\n",
       "      <td>4.0</td>\n",
       "      <td>63.0</td>\n",
       "      <td>150.0</td>\n",
       "    </tr>\n",
       "    <tr>\n",
       "      <th>44</th>\n",
       "      <td>2207.0</td>\n",
       "      <td>BOR BEEL AT JAKAI., ASSAM</td>\n",
       "      <td>POND</td>\n",
       "      <td>ASSAM</td>\n",
       "      <td>21.0</td>\n",
       "      <td>25.0</td>\n",
       "      <td>4.0</td>\n",
       "      <td>7.0</td>\n",
       "      <td>7.2</td>\n",
       "      <td>7.8</td>\n",
       "      <td>200.0</td>\n",
       "      <td>297.0</td>\n",
       "      <td>2.0</td>\n",
       "      <td>2.8</td>\n",
       "      <td>0.6</td>\n",
       "      <td>1.1</td>\n",
       "      <td>300.0</td>\n",
       "      <td>730.0</td>\n",
       "      <td>610.0</td>\n",
       "      <td>1500.0</td>\n",
       "    </tr>\n",
       "    <tr>\n",
       "      <th>239</th>\n",
       "      <td>3675.0</td>\n",
       "      <td>B KATIHALLI KERE</td>\n",
       "      <td>TANK</td>\n",
       "      <td>KARNATAKA</td>\n",
       "      <td>21.0</td>\n",
       "      <td>27.0</td>\n",
       "      <td>5.4</td>\n",
       "      <td>6.7</td>\n",
       "      <td>7.4</td>\n",
       "      <td>7.9</td>\n",
       "      <td>290.0</td>\n",
       "      <td>450.0</td>\n",
       "      <td>2.0</td>\n",
       "      <td>2.4</td>\n",
       "      <td>0.3</td>\n",
       "      <td>0.3</td>\n",
       "      <td>110.0</td>\n",
       "      <td>140.0</td>\n",
       "      <td>920.0</td>\n",
       "      <td>1200.0</td>\n",
       "    </tr>\n",
       "    <tr>\n",
       "      <th>241</th>\n",
       "      <td>3664.0</td>\n",
       "      <td>BASAVANAHALLIKERE TANK</td>\n",
       "      <td>TANK</td>\n",
       "      <td>KARNATAKA</td>\n",
       "      <td>25.0</td>\n",
       "      <td>25.0</td>\n",
       "      <td>5.9</td>\n",
       "      <td>5.9</td>\n",
       "      <td>7.7</td>\n",
       "      <td>7.7</td>\n",
       "      <td>500.0</td>\n",
       "      <td>500.0</td>\n",
       "      <td>2.0</td>\n",
       "      <td>2.0</td>\n",
       "      <td>0.3</td>\n",
       "      <td>0.3</td>\n",
       "      <td>330.0</td>\n",
       "      <td>330.0</td>\n",
       "      <td>2200.0</td>\n",
       "      <td>2200.0</td>\n",
       "    </tr>\n",
       "  </tbody>\n",
       "</table>\n",
       "</div>"
      ],
      "text/plain": [
       "     STN\\nCode                   Name of Monitoring Location Type Water Body  \\\n",
       "3       4391.0  CHENGAMBAKAM TANK IN SRI CITY SEZ, TIRUPATHI            TANK   \n",
       "5       4936.0                          ANUMANAPALLE CHERUVU         Wetland   \n",
       "44      2207.0                     BOR BEEL AT JAKAI., ASSAM            POND   \n",
       "239     3675.0                              B KATIHALLI KERE            TANK   \n",
       "241     3664.0                        BASAVANAHALLIKERE TANK            TANK   \n",
       "\n",
       "         State Name  Temperature\\n?C (Min)  Temperature\\n?C (Max)  \\\n",
       "3    ANDHRA PRADESH                   22.0                   29.0   \n",
       "5    ANDHRA PRADESH                   22.0                   23.0   \n",
       "44            ASSAM                   21.0                   25.0   \n",
       "239       KARNATAKA                   21.0                   27.0   \n",
       "241       KARNATAKA                   25.0                   25.0   \n",
       "\n",
       "    Dissolved Oxygen (mg/L) (Min) Dissolved Oxygen (mg/L) (Max) pH (Min)  \\\n",
       "3                             5.4                           6.2      6.3   \n",
       "5                             6.8                           7.5      7.1   \n",
       "44                            4.0                           7.0      7.2   \n",
       "239                           5.4                           6.7      7.4   \n",
       "241                           5.9                           5.9      7.7   \n",
       "\n",
       "     pH (Max) Conductivity (?mhos/cm) (Min) Conductivity (?mhos/cm) (Max)  \\\n",
       "3         7.9                         180.0                         476.0   \n",
       "5         9.0                         158.0                         320.0   \n",
       "44        7.8                         200.0                         297.0   \n",
       "239       7.9                         290.0                         450.0   \n",
       "241       7.7                         500.0                         500.0   \n",
       "\n",
       "    BOD (mg/L) (Min) BOD (mg/L) (Max) Nitrate N + Nitrite N(mg/L) (Min)  \\\n",
       "3                1.0              2.5                              0.34   \n",
       "5                1.2              2.2                              0.42   \n",
       "44               2.0              2.8                               0.6   \n",
       "239              2.0              2.4                               0.3   \n",
       "241              2.0              2.0                               0.3   \n",
       "\n",
       "    Nitrate N + Nitrite N(mg/L) (Max) Fecal Coliform (MPN/100ml) (Min)  \\\n",
       "3                                 2.3                             24.0   \n",
       "5                                1.79                              3.0   \n",
       "44                                1.1                            300.0   \n",
       "239                               0.3                            110.0   \n",
       "241                               0.3                            330.0   \n",
       "\n",
       "    Fecal Coliform (MPN/100ml) (Max) Total Coliform (MPN/100ml) (Min)  \\\n",
       "3                              365.0                            170.0   \n",
       "5                                4.0                             63.0   \n",
       "44                             730.0                            610.0   \n",
       "239                            140.0                            920.0   \n",
       "241                            330.0                           2200.0   \n",
       "\n",
       "    Total Coliform (MPN/100ml) (Max)  \n",
       "3                              549.0  \n",
       "5                              150.0  \n",
       "44                            1500.0  \n",
       "239                           1200.0  \n",
       "241                           2200.0  "
      ]
     },
     "execution_count": 2470,
     "metadata": {},
     "output_type": "execute_result"
    }
   ],
   "source": [
    "df = df.loc[(df['BOD (mg/L) (Max)'] <= 5)]\n",
    "df.head()"
   ]
  },
  {
   "cell_type": "markdown",
   "id": "f29f2e9b",
   "metadata": {
    "papermill": {
     "duration": 0.018451,
     "end_time": "2023-01-30T08:40:37.593741",
     "exception": false,
     "start_time": "2023-01-30T08:40:37.575290",
     "status": "completed"
    },
    "tags": []
   },
   "source": [
    "# 3.6 Nitrate & Nitrite\n",
    "> Nitrate and nitrite are soluble compounds containing nitrogen and oxygen. In the environment, nitrite (NO2 - ) generally converts to nitrate (NO3 - ), which means nitrite occurs very rarely in groundwater. Nitrate is essential for plant growth and is present in all vegetables and grains. \n",
    "\n",
    "> - The missing values contained in the **\"Nitrate N + Nitrite N(mg/L) (Min)\"** and **\"Nitrate N + Nitrite N(mg/L) (Max)\"** columns are **dropped**."
   ]
  },
  {
   "cell_type": "code",
   "execution_count": 2471,
   "id": "c28a6c15",
   "metadata": {
    "execution": {
     "iopub.execute_input": "2023-01-30T08:40:37.633748Z",
     "iopub.status.busy": "2023-01-30T08:40:37.633337Z",
     "iopub.status.idle": "2023-01-30T08:40:37.640560Z",
     "shell.execute_reply": "2023-01-30T08:40:37.639536Z"
    },
    "papermill": {
     "duration": 0.030231,
     "end_time": "2023-01-30T08:40:37.643025",
     "exception": false,
     "start_time": "2023-01-30T08:40:37.612794",
     "status": "completed"
    },
    "tags": []
   },
   "outputs": [],
   "source": [
    "df = df.dropna(subset=['Nitrate N + Nitrite N(mg/L) (Min)', 'Nitrate N + Nitrite N(mg/L) (Max)'])"
   ]
  },
  {
   "cell_type": "markdown",
   "id": "e5e9cce8",
   "metadata": {
    "papermill": {
     "duration": 0.01888,
     "end_time": "2023-01-30T08:40:37.681891",
     "exception": false,
     "start_time": "2023-01-30T08:40:37.663011",
     "status": "completed"
    },
    "tags": []
   },
   "source": [
    ">- The average of **[nitrate and nitrite](https://waterquality.montana.edu/well-ed/interpreting_results/fs_nitrate_nitrite.html#:~:text=The%20drinking%20water%20standard%20for%20nitrate%2DN%20is%2010.0%20mg,under%206%20months%20of%20age.)** should not exceed **5.5 (mg/L)**."
   ]
  },
  {
   "cell_type": "code",
   "execution_count": 2472,
   "id": "2521c269",
   "metadata": {
    "execution": {
     "iopub.execute_input": "2023-01-30T08:40:37.722054Z",
     "iopub.status.busy": "2023-01-30T08:40:37.720821Z",
     "iopub.status.idle": "2023-01-30T08:40:37.753392Z",
     "shell.execute_reply": "2023-01-30T08:40:37.752101Z"
    },
    "papermill": {
     "duration": 0.055171,
     "end_time": "2023-01-30T08:40:37.755916",
     "exception": false,
     "start_time": "2023-01-30T08:40:37.700745",
     "status": "completed"
    },
    "tags": []
   },
   "outputs": [
    {
     "data": {
      "text/html": [
       "<div>\n",
       "<style scoped>\n",
       "    .dataframe tbody tr th:only-of-type {\n",
       "        vertical-align: middle;\n",
       "    }\n",
       "\n",
       "    .dataframe tbody tr th {\n",
       "        vertical-align: top;\n",
       "    }\n",
       "\n",
       "    .dataframe thead th {\n",
       "        text-align: right;\n",
       "    }\n",
       "</style>\n",
       "<table border=\"1\" class=\"dataframe\">\n",
       "  <thead>\n",
       "    <tr style=\"text-align: right;\">\n",
       "      <th></th>\n",
       "      <th>STN\\nCode</th>\n",
       "      <th>Name of Monitoring Location</th>\n",
       "      <th>Type Water Body</th>\n",
       "      <th>State Name</th>\n",
       "      <th>Temperature\\n?C (Min)</th>\n",
       "      <th>Temperature\\n?C (Max)</th>\n",
       "      <th>Dissolved Oxygen (mg/L) (Min)</th>\n",
       "      <th>Dissolved Oxygen (mg/L) (Max)</th>\n",
       "      <th>pH (Min)</th>\n",
       "      <th>pH (Max)</th>\n",
       "      <th>Conductivity (?mhos/cm) (Min)</th>\n",
       "      <th>Conductivity (?mhos/cm) (Max)</th>\n",
       "      <th>BOD (mg/L) (Min)</th>\n",
       "      <th>BOD (mg/L) (Max)</th>\n",
       "      <th>Nitrate N + Nitrite N(mg/L) (Min)</th>\n",
       "      <th>Nitrate N + Nitrite N(mg/L) (Max)</th>\n",
       "      <th>Fecal Coliform (MPN/100ml) (Min)</th>\n",
       "      <th>Fecal Coliform (MPN/100ml) (Max)</th>\n",
       "      <th>Total Coliform (MPN/100ml) (Min)</th>\n",
       "      <th>Total Coliform (MPN/100ml) (Max)</th>\n",
       "    </tr>\n",
       "  </thead>\n",
       "  <tbody>\n",
       "    <tr>\n",
       "      <th>3</th>\n",
       "      <td>4391.0</td>\n",
       "      <td>CHENGAMBAKAM TANK IN SRI CITY SEZ, TIRUPATHI</td>\n",
       "      <td>TANK</td>\n",
       "      <td>ANDHRA PRADESH</td>\n",
       "      <td>22.0</td>\n",
       "      <td>29.0</td>\n",
       "      <td>5.4</td>\n",
       "      <td>6.2</td>\n",
       "      <td>6.3</td>\n",
       "      <td>7.9</td>\n",
       "      <td>180.0</td>\n",
       "      <td>476.0</td>\n",
       "      <td>1.0</td>\n",
       "      <td>2.5</td>\n",
       "      <td>0.34</td>\n",
       "      <td>2.3</td>\n",
       "      <td>24.0</td>\n",
       "      <td>365.0</td>\n",
       "      <td>170.0</td>\n",
       "      <td>549.0</td>\n",
       "    </tr>\n",
       "    <tr>\n",
       "      <th>5</th>\n",
       "      <td>4936.0</td>\n",
       "      <td>ANUMANAPALLE CHERUVU</td>\n",
       "      <td>Wetland</td>\n",
       "      <td>ANDHRA PRADESH</td>\n",
       "      <td>22.0</td>\n",
       "      <td>23.0</td>\n",
       "      <td>6.8</td>\n",
       "      <td>7.5</td>\n",
       "      <td>7.1</td>\n",
       "      <td>9.0</td>\n",
       "      <td>158.0</td>\n",
       "      <td>320.0</td>\n",
       "      <td>1.2</td>\n",
       "      <td>2.2</td>\n",
       "      <td>0.42</td>\n",
       "      <td>1.79</td>\n",
       "      <td>3.0</td>\n",
       "      <td>4.0</td>\n",
       "      <td>63.0</td>\n",
       "      <td>150.0</td>\n",
       "    </tr>\n",
       "    <tr>\n",
       "      <th>44</th>\n",
       "      <td>2207.0</td>\n",
       "      <td>BOR BEEL AT JAKAI., ASSAM</td>\n",
       "      <td>POND</td>\n",
       "      <td>ASSAM</td>\n",
       "      <td>21.0</td>\n",
       "      <td>25.0</td>\n",
       "      <td>4.0</td>\n",
       "      <td>7.0</td>\n",
       "      <td>7.2</td>\n",
       "      <td>7.8</td>\n",
       "      <td>200.0</td>\n",
       "      <td>297.0</td>\n",
       "      <td>2.0</td>\n",
       "      <td>2.8</td>\n",
       "      <td>0.6</td>\n",
       "      <td>1.1</td>\n",
       "      <td>300.0</td>\n",
       "      <td>730.0</td>\n",
       "      <td>610.0</td>\n",
       "      <td>1500.0</td>\n",
       "    </tr>\n",
       "    <tr>\n",
       "      <th>239</th>\n",
       "      <td>3675.0</td>\n",
       "      <td>B KATIHALLI KERE</td>\n",
       "      <td>TANK</td>\n",
       "      <td>KARNATAKA</td>\n",
       "      <td>21.0</td>\n",
       "      <td>27.0</td>\n",
       "      <td>5.4</td>\n",
       "      <td>6.7</td>\n",
       "      <td>7.4</td>\n",
       "      <td>7.9</td>\n",
       "      <td>290.0</td>\n",
       "      <td>450.0</td>\n",
       "      <td>2.0</td>\n",
       "      <td>2.4</td>\n",
       "      <td>0.3</td>\n",
       "      <td>0.3</td>\n",
       "      <td>110.0</td>\n",
       "      <td>140.0</td>\n",
       "      <td>920.0</td>\n",
       "      <td>1200.0</td>\n",
       "    </tr>\n",
       "    <tr>\n",
       "      <th>241</th>\n",
       "      <td>3664.0</td>\n",
       "      <td>BASAVANAHALLIKERE TANK</td>\n",
       "      <td>TANK</td>\n",
       "      <td>KARNATAKA</td>\n",
       "      <td>25.0</td>\n",
       "      <td>25.0</td>\n",
       "      <td>5.9</td>\n",
       "      <td>5.9</td>\n",
       "      <td>7.7</td>\n",
       "      <td>7.7</td>\n",
       "      <td>500.0</td>\n",
       "      <td>500.0</td>\n",
       "      <td>2.0</td>\n",
       "      <td>2.0</td>\n",
       "      <td>0.3</td>\n",
       "      <td>0.3</td>\n",
       "      <td>330.0</td>\n",
       "      <td>330.0</td>\n",
       "      <td>2200.0</td>\n",
       "      <td>2200.0</td>\n",
       "    </tr>\n",
       "  </tbody>\n",
       "</table>\n",
       "</div>"
      ],
      "text/plain": [
       "     STN\\nCode                   Name of Monitoring Location Type Water Body  \\\n",
       "3       4391.0  CHENGAMBAKAM TANK IN SRI CITY SEZ, TIRUPATHI            TANK   \n",
       "5       4936.0                          ANUMANAPALLE CHERUVU         Wetland   \n",
       "44      2207.0                     BOR BEEL AT JAKAI., ASSAM            POND   \n",
       "239     3675.0                              B KATIHALLI KERE            TANK   \n",
       "241     3664.0                        BASAVANAHALLIKERE TANK            TANK   \n",
       "\n",
       "         State Name  Temperature\\n?C (Min)  Temperature\\n?C (Max)  \\\n",
       "3    ANDHRA PRADESH                   22.0                   29.0   \n",
       "5    ANDHRA PRADESH                   22.0                   23.0   \n",
       "44            ASSAM                   21.0                   25.0   \n",
       "239       KARNATAKA                   21.0                   27.0   \n",
       "241       KARNATAKA                   25.0                   25.0   \n",
       "\n",
       "    Dissolved Oxygen (mg/L) (Min) Dissolved Oxygen (mg/L) (Max) pH (Min)  \\\n",
       "3                             5.4                           6.2      6.3   \n",
       "5                             6.8                           7.5      7.1   \n",
       "44                            4.0                           7.0      7.2   \n",
       "239                           5.4                           6.7      7.4   \n",
       "241                           5.9                           5.9      7.7   \n",
       "\n",
       "     pH (Max) Conductivity (?mhos/cm) (Min) Conductivity (?mhos/cm) (Max)  \\\n",
       "3         7.9                         180.0                         476.0   \n",
       "5         9.0                         158.0                         320.0   \n",
       "44        7.8                         200.0                         297.0   \n",
       "239       7.9                         290.0                         450.0   \n",
       "241       7.7                         500.0                         500.0   \n",
       "\n",
       "    BOD (mg/L) (Min) BOD (mg/L) (Max) Nitrate N + Nitrite N(mg/L) (Min)  \\\n",
       "3                1.0              2.5                              0.34   \n",
       "5                1.2              2.2                              0.42   \n",
       "44               2.0              2.8                               0.6   \n",
       "239              2.0              2.4                               0.3   \n",
       "241              2.0              2.0                               0.3   \n",
       "\n",
       "    Nitrate N + Nitrite N(mg/L) (Max) Fecal Coliform (MPN/100ml) (Min)  \\\n",
       "3                                 2.3                             24.0   \n",
       "5                                1.79                              3.0   \n",
       "44                                1.1                            300.0   \n",
       "239                               0.3                            110.0   \n",
       "241                               0.3                            330.0   \n",
       "\n",
       "    Fecal Coliform (MPN/100ml) (Max) Total Coliform (MPN/100ml) (Min)  \\\n",
       "3                              365.0                            170.0   \n",
       "5                                4.0                             63.0   \n",
       "44                             730.0                            610.0   \n",
       "239                            140.0                            920.0   \n",
       "241                            330.0                           2200.0   \n",
       "\n",
       "    Total Coliform (MPN/100ml) (Max)  \n",
       "3                              549.0  \n",
       "5                              150.0  \n",
       "44                            1500.0  \n",
       "239                           1200.0  \n",
       "241                           2200.0  "
      ]
     },
     "execution_count": 2472,
     "metadata": {},
     "output_type": "execute_result"
    }
   ],
   "source": [
    "df = df.loc[(df['Nitrate N + Nitrite N(mg/L) (Max)'] <= 5.5)]\n",
    "df.head()"
   ]
  },
  {
   "cell_type": "markdown",
   "id": "7430bd28",
   "metadata": {
    "papermill": {
     "duration": 0.018667,
     "end_time": "2023-01-30T08:40:37.794107",
     "exception": false,
     "start_time": "2023-01-30T08:40:37.775440",
     "status": "completed"
    },
    "tags": []
   },
   "source": [
    "# 3.7 Fecal Coliform \n",
    "> A fecal coliform is a facultatively anaerobic, rod-shaped, gram-negative, non-sporulating bacterium. Coliform bacteria generally originate in the intestines of warm-blooded animals. When levels are high there may be an elevated risk of waterborne gastroenteritis. \n",
    "\n",
    "> - The missing values contained in the **\"Fecal Coliform (MPN/100ml) (Min)\" and \"Fecal Coliform (MPN/100ml) (Max)\" columns are dropped**."
   ]
  },
  {
   "cell_type": "code",
   "execution_count": 2473,
   "id": "7d6dc28a",
   "metadata": {
    "execution": {
     "iopub.execute_input": "2023-01-30T08:40:37.834917Z",
     "iopub.status.busy": "2023-01-30T08:40:37.834469Z",
     "iopub.status.idle": "2023-01-30T08:40:37.841922Z",
     "shell.execute_reply": "2023-01-30T08:40:37.840769Z"
    },
    "papermill": {
     "duration": 0.030836,
     "end_time": "2023-01-30T08:40:37.844392",
     "exception": false,
     "start_time": "2023-01-30T08:40:37.813556",
     "status": "completed"
    },
    "tags": []
   },
   "outputs": [],
   "source": [
    "df = df.dropna(subset=['Fecal Coliform (MPN/100ml) (Min)', 'Fecal Coliform (MPN/100ml) (Max)'])"
   ]
  },
  {
   "cell_type": "markdown",
   "id": "cf30583f",
   "metadata": {
    "papermill": {
     "duration": 0.018739,
     "end_time": "2023-01-30T08:40:37.882316",
     "exception": false,
     "start_time": "2023-01-30T08:40:37.863577",
     "status": "completed"
    },
    "tags": []
   },
   "source": [
    ">- The value of **[fecal coliform](https://extension.psu.edu/coliform-bacteria)** should not exceed **200 MPN/100ml**."
   ]
  },
  {
   "cell_type": "code",
   "execution_count": 2474,
   "id": "e6d600d9",
   "metadata": {
    "execution": {
     "iopub.execute_input": "2023-01-30T08:40:37.922992Z",
     "iopub.status.busy": "2023-01-30T08:40:37.922534Z",
     "iopub.status.idle": "2023-01-30T08:40:37.954306Z",
     "shell.execute_reply": "2023-01-30T08:40:37.953348Z"
    },
    "papermill": {
     "duration": 0.054729,
     "end_time": "2023-01-30T08:40:37.956414",
     "exception": false,
     "start_time": "2023-01-30T08:40:37.901685",
     "status": "completed"
    },
    "tags": []
   },
   "outputs": [
    {
     "data": {
      "text/html": [
       "<div>\n",
       "<style scoped>\n",
       "    .dataframe tbody tr th:only-of-type {\n",
       "        vertical-align: middle;\n",
       "    }\n",
       "\n",
       "    .dataframe tbody tr th {\n",
       "        vertical-align: top;\n",
       "    }\n",
       "\n",
       "    .dataframe thead th {\n",
       "        text-align: right;\n",
       "    }\n",
       "</style>\n",
       "<table border=\"1\" class=\"dataframe\">\n",
       "  <thead>\n",
       "    <tr style=\"text-align: right;\">\n",
       "      <th></th>\n",
       "      <th>STN\\nCode</th>\n",
       "      <th>Name of Monitoring Location</th>\n",
       "      <th>Type Water Body</th>\n",
       "      <th>State Name</th>\n",
       "      <th>Temperature\\n?C (Min)</th>\n",
       "      <th>Temperature\\n?C (Max)</th>\n",
       "      <th>Dissolved Oxygen (mg/L) (Min)</th>\n",
       "      <th>Dissolved Oxygen (mg/L) (Max)</th>\n",
       "      <th>pH (Min)</th>\n",
       "      <th>pH (Max)</th>\n",
       "      <th>Conductivity (?mhos/cm) (Min)</th>\n",
       "      <th>Conductivity (?mhos/cm) (Max)</th>\n",
       "      <th>BOD (mg/L) (Min)</th>\n",
       "      <th>BOD (mg/L) (Max)</th>\n",
       "      <th>Nitrate N + Nitrite N(mg/L) (Min)</th>\n",
       "      <th>Nitrate N + Nitrite N(mg/L) (Max)</th>\n",
       "      <th>Fecal Coliform (MPN/100ml) (Min)</th>\n",
       "      <th>Fecal Coliform (MPN/100ml) (Max)</th>\n",
       "      <th>Total Coliform (MPN/100ml) (Min)</th>\n",
       "      <th>Total Coliform (MPN/100ml) (Max)</th>\n",
       "    </tr>\n",
       "  </thead>\n",
       "  <tbody>\n",
       "    <tr>\n",
       "      <th>5</th>\n",
       "      <td>4936.0</td>\n",
       "      <td>ANUMANAPALLE CHERUVU</td>\n",
       "      <td>Wetland</td>\n",
       "      <td>ANDHRA PRADESH</td>\n",
       "      <td>22.0</td>\n",
       "      <td>23.0</td>\n",
       "      <td>6.8</td>\n",
       "      <td>7.5</td>\n",
       "      <td>7.1</td>\n",
       "      <td>9.0</td>\n",
       "      <td>158.0</td>\n",
       "      <td>320.0</td>\n",
       "      <td>1.2</td>\n",
       "      <td>2.2</td>\n",
       "      <td>0.42</td>\n",
       "      <td>1.79</td>\n",
       "      <td>3.0</td>\n",
       "      <td>4.0</td>\n",
       "      <td>63.0</td>\n",
       "      <td>150.0</td>\n",
       "    </tr>\n",
       "    <tr>\n",
       "      <th>239</th>\n",
       "      <td>3675.0</td>\n",
       "      <td>B KATIHALLI KERE</td>\n",
       "      <td>TANK</td>\n",
       "      <td>KARNATAKA</td>\n",
       "      <td>21.0</td>\n",
       "      <td>27.0</td>\n",
       "      <td>5.4</td>\n",
       "      <td>6.7</td>\n",
       "      <td>7.4</td>\n",
       "      <td>7.9</td>\n",
       "      <td>290.0</td>\n",
       "      <td>450.0</td>\n",
       "      <td>2.0</td>\n",
       "      <td>2.4</td>\n",
       "      <td>0.3</td>\n",
       "      <td>0.3</td>\n",
       "      <td>110.0</td>\n",
       "      <td>140.0</td>\n",
       "      <td>920.0</td>\n",
       "      <td>1200.0</td>\n",
       "    </tr>\n",
       "    <tr>\n",
       "      <th>295</th>\n",
       "      <td>3686.0</td>\n",
       "      <td>NIRASAGARAKERE TANK</td>\n",
       "      <td>TANK</td>\n",
       "      <td>KARNATAKA</td>\n",
       "      <td>24.0</td>\n",
       "      <td>25.0</td>\n",
       "      <td>7.3</td>\n",
       "      <td>7.6</td>\n",
       "      <td>7.5</td>\n",
       "      <td>8.2</td>\n",
       "      <td>326.0</td>\n",
       "      <td>438.0</td>\n",
       "      <td>1.0</td>\n",
       "      <td>2.5</td>\n",
       "      <td>0.32</td>\n",
       "      <td>0.92</td>\n",
       "      <td>2.0</td>\n",
       "      <td>14.0</td>\n",
       "      <td>10.0</td>\n",
       "      <td>32.0</td>\n",
       "    </tr>\n",
       "    <tr>\n",
       "      <th>302</th>\n",
       "      <td>4498.0</td>\n",
       "      <td>SANAVALLI DAM, MUNGOD</td>\n",
       "      <td>TANK</td>\n",
       "      <td>KARNATAKA</td>\n",
       "      <td>23.0</td>\n",
       "      <td>28.0</td>\n",
       "      <td>7.1</td>\n",
       "      <td>7.4</td>\n",
       "      <td>6.8</td>\n",
       "      <td>7.3</td>\n",
       "      <td>163.0</td>\n",
       "      <td>251.0</td>\n",
       "      <td>2.2</td>\n",
       "      <td>2.7</td>\n",
       "      <td>0.3</td>\n",
       "      <td>0.79</td>\n",
       "      <td>2.0</td>\n",
       "      <td>8.0</td>\n",
       "      <td>19.0</td>\n",
       "      <td>31.0</td>\n",
       "    </tr>\n",
       "    <tr>\n",
       "      <th>334</th>\n",
       "      <td>1385.0</td>\n",
       "      <td>SASTHAMCOTTA LAKE, KERALA</td>\n",
       "      <td>LAKE</td>\n",
       "      <td>KERALA</td>\n",
       "      <td>21.0</td>\n",
       "      <td>25.0</td>\n",
       "      <td>6.5</td>\n",
       "      <td>7.5</td>\n",
       "      <td>6.4</td>\n",
       "      <td>7.8</td>\n",
       "      <td>162.0</td>\n",
       "      <td>185.0</td>\n",
       "      <td>1.0</td>\n",
       "      <td>2.0</td>\n",
       "      <td>0.3</td>\n",
       "      <td>0.7</td>\n",
       "      <td>70.0</td>\n",
       "      <td>110.0</td>\n",
       "      <td>240.0</td>\n",
       "      <td>410.0</td>\n",
       "    </tr>\n",
       "  </tbody>\n",
       "</table>\n",
       "</div>"
      ],
      "text/plain": [
       "     STN\\nCode Name of Monitoring Location Type Water Body      State Name  \\\n",
       "5       4936.0        ANUMANAPALLE CHERUVU         Wetland  ANDHRA PRADESH   \n",
       "239     3675.0            B KATIHALLI KERE            TANK       KARNATAKA   \n",
       "295     3686.0         NIRASAGARAKERE TANK            TANK       KARNATAKA   \n",
       "302     4498.0       SANAVALLI DAM, MUNGOD            TANK       KARNATAKA   \n",
       "334     1385.0   SASTHAMCOTTA LAKE, KERALA            LAKE          KERALA   \n",
       "\n",
       "     Temperature\\n?C (Min)  Temperature\\n?C (Max)  \\\n",
       "5                     22.0                   23.0   \n",
       "239                   21.0                   27.0   \n",
       "295                   24.0                   25.0   \n",
       "302                   23.0                   28.0   \n",
       "334                   21.0                   25.0   \n",
       "\n",
       "    Dissolved Oxygen (mg/L) (Min) Dissolved Oxygen (mg/L) (Max) pH (Min)  \\\n",
       "5                             6.8                           7.5      7.1   \n",
       "239                           5.4                           6.7      7.4   \n",
       "295                           7.3                           7.6      7.5   \n",
       "302                           7.1                           7.4      6.8   \n",
       "334                           6.5                           7.5      6.4   \n",
       "\n",
       "     pH (Max) Conductivity (?mhos/cm) (Min) Conductivity (?mhos/cm) (Max)  \\\n",
       "5         9.0                         158.0                         320.0   \n",
       "239       7.9                         290.0                         450.0   \n",
       "295       8.2                         326.0                         438.0   \n",
       "302       7.3                         163.0                         251.0   \n",
       "334       7.8                         162.0                         185.0   \n",
       "\n",
       "    BOD (mg/L) (Min) BOD (mg/L) (Max) Nitrate N + Nitrite N(mg/L) (Min)  \\\n",
       "5                1.2              2.2                              0.42   \n",
       "239              2.0              2.4                               0.3   \n",
       "295              1.0              2.5                              0.32   \n",
       "302              2.2              2.7                               0.3   \n",
       "334              1.0              2.0                               0.3   \n",
       "\n",
       "    Nitrate N + Nitrite N(mg/L) (Max) Fecal Coliform (MPN/100ml) (Min)  \\\n",
       "5                                1.79                              3.0   \n",
       "239                               0.3                            110.0   \n",
       "295                              0.92                              2.0   \n",
       "302                              0.79                              2.0   \n",
       "334                               0.7                             70.0   \n",
       "\n",
       "    Fecal Coliform (MPN/100ml) (Max) Total Coliform (MPN/100ml) (Min)  \\\n",
       "5                                4.0                             63.0   \n",
       "239                            140.0                            920.0   \n",
       "295                             14.0                             10.0   \n",
       "302                              8.0                             19.0   \n",
       "334                            110.0                            240.0   \n",
       "\n",
       "    Total Coliform (MPN/100ml) (Max)  \n",
       "5                              150.0  \n",
       "239                           1200.0  \n",
       "295                             32.0  \n",
       "302                             31.0  \n",
       "334                            410.0  "
      ]
     },
     "execution_count": 2474,
     "metadata": {},
     "output_type": "execute_result"
    }
   ],
   "source": [
    "df = df.loc[(df['Fecal Coliform (MPN/100ml) (Max)'] <= 200)]\n",
    "df.head()"
   ]
  },
  {
   "cell_type": "markdown",
   "id": "0e6bdec1",
   "metadata": {
    "papermill": {
     "duration": 0.019326,
     "end_time": "2023-01-30T08:40:37.995757",
     "exception": false,
     "start_time": "2023-01-30T08:40:37.976431",
     "status": "completed"
    },
    "tags": []
   },
   "source": [
    "# 3.8 Total Coliform \n",
    "> Total Coliforms are a large group of different types of bacteria, that share several characteristics. The main sources of total coliforms in water is contamination from human and animal waste.\n",
    "Total Coliforms are used as an indicator of the cleanliness of a water source.\n",
    "\n",
    "> - The missing values contained in the **\"Total Coliform (MPN/100ml) (Min)\" and \"Total Coliform (MPN/100ml) (Max)\" columns are dropped**."
   ]
  },
  {
   "cell_type": "code",
   "execution_count": 2475,
   "id": "762cba5d",
   "metadata": {
    "execution": {
     "iopub.execute_input": "2023-01-30T08:40:38.038558Z",
     "iopub.status.busy": "2023-01-30T08:40:38.037705Z",
     "iopub.status.idle": "2023-01-30T08:40:38.046001Z",
     "shell.execute_reply": "2023-01-30T08:40:38.044982Z"
    },
    "papermill": {
     "duration": 0.032423,
     "end_time": "2023-01-30T08:40:38.048439",
     "exception": false,
     "start_time": "2023-01-30T08:40:38.016016",
     "status": "completed"
    },
    "tags": []
   },
   "outputs": [],
   "source": [
    "df = df.dropna(subset=['Total Coliform (MPN/100ml) (Min)', 'Total Coliform (MPN/100ml) (Max)'])"
   ]
  },
  {
   "cell_type": "markdown",
   "id": "4bc21b90",
   "metadata": {
    "papermill": {
     "duration": 0.019216,
     "end_time": "2023-01-30T08:40:38.087732",
     "exception": false,
     "start_time": "2023-01-30T08:40:38.068516",
     "status": "completed"
    },
    "tags": []
   },
   "source": [
    "The **[total coliform (TC)](https://www.downtoearth.org.in/news/coliform-will-count-2933#:~:text=According%20to%20the%20ministry's%20norms,probable%20number)** including faecal coliform should not exceed **500 MPN/100 ml**.\n"
   ]
  },
  {
   "cell_type": "code",
   "execution_count": 2476,
   "id": "74ab2c48",
   "metadata": {
    "execution": {
     "iopub.execute_input": "2023-01-30T08:40:38.128600Z",
     "iopub.status.busy": "2023-01-30T08:40:38.127794Z",
     "iopub.status.idle": "2023-01-30T08:40:38.157695Z",
     "shell.execute_reply": "2023-01-30T08:40:38.156762Z"
    },
    "papermill": {
     "duration": 0.052702,
     "end_time": "2023-01-30T08:40:38.159892",
     "exception": false,
     "start_time": "2023-01-30T08:40:38.107190",
     "status": "completed"
    },
    "tags": []
   },
   "outputs": [
    {
     "data": {
      "text/html": [
       "<div>\n",
       "<style scoped>\n",
       "    .dataframe tbody tr th:only-of-type {\n",
       "        vertical-align: middle;\n",
       "    }\n",
       "\n",
       "    .dataframe tbody tr th {\n",
       "        vertical-align: top;\n",
       "    }\n",
       "\n",
       "    .dataframe thead th {\n",
       "        text-align: right;\n",
       "    }\n",
       "</style>\n",
       "<table border=\"1\" class=\"dataframe\">\n",
       "  <thead>\n",
       "    <tr style=\"text-align: right;\">\n",
       "      <th></th>\n",
       "      <th>STN\\nCode</th>\n",
       "      <th>Name of Monitoring Location</th>\n",
       "      <th>Type Water Body</th>\n",
       "      <th>State Name</th>\n",
       "      <th>Temperature\\n?C (Min)</th>\n",
       "      <th>Temperature\\n?C (Max)</th>\n",
       "      <th>Dissolved Oxygen (mg/L) (Min)</th>\n",
       "      <th>Dissolved Oxygen (mg/L) (Max)</th>\n",
       "      <th>pH (Min)</th>\n",
       "      <th>pH (Max)</th>\n",
       "      <th>Conductivity (?mhos/cm) (Min)</th>\n",
       "      <th>Conductivity (?mhos/cm) (Max)</th>\n",
       "      <th>BOD (mg/L) (Min)</th>\n",
       "      <th>BOD (mg/L) (Max)</th>\n",
       "      <th>Nitrate N + Nitrite N(mg/L) (Min)</th>\n",
       "      <th>Nitrate N + Nitrite N(mg/L) (Max)</th>\n",
       "      <th>Fecal Coliform (MPN/100ml) (Min)</th>\n",
       "      <th>Fecal Coliform (MPN/100ml) (Max)</th>\n",
       "      <th>Total Coliform (MPN/100ml) (Min)</th>\n",
       "      <th>Total Coliform (MPN/100ml) (Max)</th>\n",
       "    </tr>\n",
       "  </thead>\n",
       "  <tbody>\n",
       "    <tr>\n",
       "      <th>5</th>\n",
       "      <td>4936.0</td>\n",
       "      <td>ANUMANAPALLE CHERUVU</td>\n",
       "      <td>Wetland</td>\n",
       "      <td>ANDHRA PRADESH</td>\n",
       "      <td>22.0</td>\n",
       "      <td>23.0</td>\n",
       "      <td>6.8</td>\n",
       "      <td>7.5</td>\n",
       "      <td>7.1</td>\n",
       "      <td>9.0</td>\n",
       "      <td>158.0</td>\n",
       "      <td>320.0</td>\n",
       "      <td>1.2</td>\n",
       "      <td>2.2</td>\n",
       "      <td>0.42</td>\n",
       "      <td>1.79</td>\n",
       "      <td>3.0</td>\n",
       "      <td>4.0</td>\n",
       "      <td>63.0</td>\n",
       "      <td>150.0</td>\n",
       "    </tr>\n",
       "    <tr>\n",
       "      <th>295</th>\n",
       "      <td>3686.0</td>\n",
       "      <td>NIRASAGARAKERE TANK</td>\n",
       "      <td>TANK</td>\n",
       "      <td>KARNATAKA</td>\n",
       "      <td>24.0</td>\n",
       "      <td>25.0</td>\n",
       "      <td>7.3</td>\n",
       "      <td>7.6</td>\n",
       "      <td>7.5</td>\n",
       "      <td>8.2</td>\n",
       "      <td>326.0</td>\n",
       "      <td>438.0</td>\n",
       "      <td>1.0</td>\n",
       "      <td>2.5</td>\n",
       "      <td>0.32</td>\n",
       "      <td>0.92</td>\n",
       "      <td>2.0</td>\n",
       "      <td>14.0</td>\n",
       "      <td>10.0</td>\n",
       "      <td>32.0</td>\n",
       "    </tr>\n",
       "    <tr>\n",
       "      <th>302</th>\n",
       "      <td>4498.0</td>\n",
       "      <td>SANAVALLI DAM, MUNGOD</td>\n",
       "      <td>TANK</td>\n",
       "      <td>KARNATAKA</td>\n",
       "      <td>23.0</td>\n",
       "      <td>28.0</td>\n",
       "      <td>7.1</td>\n",
       "      <td>7.4</td>\n",
       "      <td>6.8</td>\n",
       "      <td>7.3</td>\n",
       "      <td>163.0</td>\n",
       "      <td>251.0</td>\n",
       "      <td>2.2</td>\n",
       "      <td>2.7</td>\n",
       "      <td>0.3</td>\n",
       "      <td>0.79</td>\n",
       "      <td>2.0</td>\n",
       "      <td>8.0</td>\n",
       "      <td>19.0</td>\n",
       "      <td>31.0</td>\n",
       "    </tr>\n",
       "    <tr>\n",
       "      <th>334</th>\n",
       "      <td>1385.0</td>\n",
       "      <td>SASTHAMCOTTA LAKE, KERALA</td>\n",
       "      <td>LAKE</td>\n",
       "      <td>KERALA</td>\n",
       "      <td>21.0</td>\n",
       "      <td>25.0</td>\n",
       "      <td>6.5</td>\n",
       "      <td>7.5</td>\n",
       "      <td>6.4</td>\n",
       "      <td>7.8</td>\n",
       "      <td>162.0</td>\n",
       "      <td>185.0</td>\n",
       "      <td>1.0</td>\n",
       "      <td>2.0</td>\n",
       "      <td>0.3</td>\n",
       "      <td>0.7</td>\n",
       "      <td>70.0</td>\n",
       "      <td>110.0</td>\n",
       "      <td>240.0</td>\n",
       "      <td>410.0</td>\n",
       "    </tr>\n",
       "    <tr>\n",
       "      <th>347</th>\n",
       "      <td>2142.0</td>\n",
       "      <td>KALISINDH RESERVOIR AT SARANGPUR, RAJGARH</td>\n",
       "      <td>LAKE</td>\n",
       "      <td>MADHYA PRADESH</td>\n",
       "      <td>20.0</td>\n",
       "      <td>24.0</td>\n",
       "      <td>7.0</td>\n",
       "      <td>7.9</td>\n",
       "      <td>7.2</td>\n",
       "      <td>7.9</td>\n",
       "      <td>250.0</td>\n",
       "      <td>490.0</td>\n",
       "      <td>1.4</td>\n",
       "      <td>2.4</td>\n",
       "      <td>0.3</td>\n",
       "      <td>0.5</td>\n",
       "      <td>2.0</td>\n",
       "      <td>2.0</td>\n",
       "      <td>24.0</td>\n",
       "      <td>34.0</td>\n",
       "    </tr>\n",
       "  </tbody>\n",
       "</table>\n",
       "</div>"
      ],
      "text/plain": [
       "     STN\\nCode                Name of Monitoring Location Type Water Body  \\\n",
       "5       4936.0                       ANUMANAPALLE CHERUVU         Wetland   \n",
       "295     3686.0                        NIRASAGARAKERE TANK            TANK   \n",
       "302     4498.0                      SANAVALLI DAM, MUNGOD            TANK   \n",
       "334     1385.0                  SASTHAMCOTTA LAKE, KERALA            LAKE   \n",
       "347     2142.0  KALISINDH RESERVOIR AT SARANGPUR, RAJGARH            LAKE   \n",
       "\n",
       "         State Name  Temperature\\n?C (Min)  Temperature\\n?C (Max)  \\\n",
       "5    ANDHRA PRADESH                   22.0                   23.0   \n",
       "295       KARNATAKA                   24.0                   25.0   \n",
       "302       KARNATAKA                   23.0                   28.0   \n",
       "334          KERALA                   21.0                   25.0   \n",
       "347  MADHYA PRADESH                   20.0                   24.0   \n",
       "\n",
       "    Dissolved Oxygen (mg/L) (Min) Dissolved Oxygen (mg/L) (Max) pH (Min)  \\\n",
       "5                             6.8                           7.5      7.1   \n",
       "295                           7.3                           7.6      7.5   \n",
       "302                           7.1                           7.4      6.8   \n",
       "334                           6.5                           7.5      6.4   \n",
       "347                           7.0                           7.9      7.2   \n",
       "\n",
       "     pH (Max) Conductivity (?mhos/cm) (Min) Conductivity (?mhos/cm) (Max)  \\\n",
       "5         9.0                         158.0                         320.0   \n",
       "295       8.2                         326.0                         438.0   \n",
       "302       7.3                         163.0                         251.0   \n",
       "334       7.8                         162.0                         185.0   \n",
       "347       7.9                         250.0                         490.0   \n",
       "\n",
       "    BOD (mg/L) (Min) BOD (mg/L) (Max) Nitrate N + Nitrite N(mg/L) (Min)  \\\n",
       "5                1.2              2.2                              0.42   \n",
       "295              1.0              2.5                              0.32   \n",
       "302              2.2              2.7                               0.3   \n",
       "334              1.0              2.0                               0.3   \n",
       "347              1.4              2.4                               0.3   \n",
       "\n",
       "    Nitrate N + Nitrite N(mg/L) (Max) Fecal Coliform (MPN/100ml) (Min)  \\\n",
       "5                                1.79                              3.0   \n",
       "295                              0.92                              2.0   \n",
       "302                              0.79                              2.0   \n",
       "334                               0.7                             70.0   \n",
       "347                               0.5                              2.0   \n",
       "\n",
       "    Fecal Coliform (MPN/100ml) (Max) Total Coliform (MPN/100ml) (Min)  \\\n",
       "5                                4.0                             63.0   \n",
       "295                             14.0                             10.0   \n",
       "302                              8.0                             19.0   \n",
       "334                            110.0                            240.0   \n",
       "347                              2.0                             24.0   \n",
       "\n",
       "    Total Coliform (MPN/100ml) (Max)  \n",
       "5                              150.0  \n",
       "295                             32.0  \n",
       "302                             31.0  \n",
       "334                            410.0  \n",
       "347                             34.0  "
      ]
     },
     "execution_count": 2476,
     "metadata": {},
     "output_type": "execute_result"
    }
   ],
   "source": [
    "df = df.loc[(df['Total Coliform (MPN/100ml) (Max)'] <= 500)]\n",
    "df.head()"
   ]
  },
  {
   "cell_type": "code",
   "execution_count": 2477,
   "id": "0d92a8c0",
   "metadata": {
    "execution": {
     "iopub.execute_input": "2023-01-30T08:40:38.201930Z",
     "iopub.status.busy": "2023-01-30T08:40:38.201526Z",
     "iopub.status.idle": "2023-01-30T08:40:38.216644Z",
     "shell.execute_reply": "2023-01-30T08:40:38.215065Z"
    },
    "papermill": {
     "duration": 0.039213,
     "end_time": "2023-01-30T08:40:38.219426",
     "exception": false,
     "start_time": "2023-01-30T08:40:38.180213",
     "status": "completed"
    },
    "tags": []
   },
   "outputs": [
    {
     "name": "stdout",
     "output_type": "stream",
     "text": [
      "<class 'pandas.core.frame.DataFrame'>\n",
      "Index: 10 entries, 5 to 520\n",
      "Data columns (total 20 columns):\n",
      " #   Column                             Non-Null Count  Dtype  \n",
      "---  ------                             --------------  -----  \n",
      " 0   STN\n",
      "Code                           10 non-null     float64\n",
      " 1   Name of Monitoring Location        10 non-null     object \n",
      " 2   Type Water Body                    10 non-null     object \n",
      " 3   State Name                         10 non-null     object \n",
      " 4   Temperature\n",
      "?C (Min)               10 non-null     float64\n",
      " 5   Temperature\n",
      "?C (Max)               10 non-null     float64\n",
      " 6   Dissolved Oxygen (mg/L) (Min)      10 non-null     object \n",
      " 7   Dissolved Oxygen (mg/L) (Max)      10 non-null     object \n",
      " 8   pH (Min)                           10 non-null     object \n",
      " 9   pH (Max)                           10 non-null     float64\n",
      " 10  Conductivity (?mhos/cm) (Min)      10 non-null     object \n",
      " 11  Conductivity (?mhos/cm) (Max)      10 non-null     object \n",
      " 12  BOD (mg/L) (Min)                   10 non-null     object \n",
      " 13  BOD (mg/L) (Max)                   10 non-null     object \n",
      " 14  Nitrate N + Nitrite N(mg/L) (Min)  10 non-null     object \n",
      " 15  Nitrate N + Nitrite N(mg/L) (Max)  10 non-null     object \n",
      " 16  Fecal Coliform (MPN/100ml) (Min)   10 non-null     object \n",
      " 17  Fecal Coliform (MPN/100ml) (Max)   10 non-null     object \n",
      " 18  Total Coliform (MPN/100ml) (Min)   10 non-null     object \n",
      " 19  Total Coliform (MPN/100ml) (Max)   10 non-null     object \n",
      "dtypes: float64(4), object(16)\n",
      "memory usage: 1.6+ KB\n"
     ]
    }
   ],
   "source": [
    "df.info()"
   ]
  },
  {
   "cell_type": "markdown",
   "id": "4a4109dd",
   "metadata": {
    "papermill": {
     "duration": 0.019764,
     "end_time": "2023-01-30T08:40:38.259831",
     "exception": false,
     "start_time": "2023-01-30T08:40:38.240067",
     "status": "completed"
    },
    "tags": []
   },
   "source": [
    "> 📌 Note: \n",
    ">    After consider all the optimum values of the factors affecting the quality of water bodies, the dataset has been narrowed from **620 to 10 entries**."
   ]
  },
  {
   "cell_type": "markdown",
   "id": "f8537d1d",
   "metadata": {
    "papermill": {
     "duration": 0.019938,
     "end_time": "2023-01-30T08:40:38.299888",
     "exception": false,
     "start_time": "2023-01-30T08:40:38.279950",
     "status": "completed"
    },
    "tags": []
   },
   "source": [
    "# 4. State with the best water quality\n",
    "\n",
    "> - **A [bar graph](https://plotly.com/python/bar-charts/)** is drawn to determine which state has the best water quality."
   ]
  },
  {
   "cell_type": "code",
   "execution_count": 2478,
   "id": "45c5fa47",
   "metadata": {
    "execution": {
     "iopub.execute_input": "2023-01-30T08:40:38.341903Z",
     "iopub.status.busy": "2023-01-30T08:40:38.341508Z",
     "iopub.status.idle": "2023-01-30T08:40:38.536189Z",
     "shell.execute_reply": "2023-01-30T08:40:38.534799Z"
    },
    "papermill": {
     "duration": 0.218868,
     "end_time": "2023-01-30T08:40:38.538874",
     "exception": false,
     "start_time": "2023-01-30T08:40:38.320006",
     "status": "completed"
    },
    "tags": []
   },
   "outputs": [
    {
     "data": {
      "image/png": "[encoded data removed]",
      "text/plain": [
       "<Figure size 640x480 with 1 Axes>"
      ]
     },
     "metadata": {},
     "output_type": "display_data"
    }
   ],
   "source": [
    "df['State Name'].value_counts()[:20].plot(kind='bar', color=['DarkRed', 'FireBrick','Red', 'Crimson', 'IndianRed', 'slategray', 'gray', 'dimgrey', 'DarkSlateGrey', 'black'])\n",
    "plt.title(\"State with the best water quality\")\n",
    "plt.show()"
   ]
  },
  {
   "cell_type": "markdown",
   "id": "bb98ed87",
   "metadata": {
    "papermill": {
     "duration": 0.020697,
     "end_time": "2023-01-30T08:40:38.580756",
     "exception": false,
     "start_time": "2023-01-30T08:40:38.560059",
     "status": "completed"
    },
    "tags": []
   },
   "source": [
    "> **📌 Result**\n",
    ">- From the above **bar chart** we can conclude that the water bodies in the state **Madhya Pradesh** are of the best quality."
   ]
  },
  {
   "cell_type": "markdown",
   "id": "7dbe4db8",
   "metadata": {
    "papermill": {
     "duration": 0.020274,
     "end_time": "2023-01-30T08:40:38.622059",
     "exception": false,
     "start_time": "2023-01-30T08:40:38.601785",
     "status": "completed"
    },
    "tags": []
   },
   "source": [
    "# 5. Type of water body with the best quality\n",
    "\n",
    "> - **A [bar graph](https://plotly.com/python/bar-charts/)** is drawn to determine the type of water body that has the best water quality."
   ]
  },
  {
   "cell_type": "code",
   "execution_count": 2479,
   "id": "7634750d",
   "metadata": {
    "execution": {
     "iopub.execute_input": "2023-01-30T08:40:38.664951Z",
     "iopub.status.busy": "2023-01-30T08:40:38.664517Z",
     "iopub.status.idle": "2023-01-30T08:40:38.801171Z",
     "shell.execute_reply": "2023-01-30T08:40:38.799809Z"
    },
    "papermill": {
     "duration": 0.162183,
     "end_time": "2023-01-30T08:40:38.804656",
     "exception": false,
     "start_time": "2023-01-30T08:40:38.642473",
     "status": "completed"
    },
    "tags": []
   },
   "outputs": [
    {
     "data": {
      "image/png": "[encoded data removed]",
      "text/plain": [
       "<Figure size 640x480 with 1 Axes>"
      ]
     },
     "metadata": {},
     "output_type": "display_data"
    }
   ],
   "source": [
    "df['Type Water Body'].value_counts()[:20].plot(kind='bar', color=['DarkRed', 'FireBrick','Red', 'Crimson', 'IndianRed', 'slategray', 'gray', 'dimgrey', 'DarkSlateGrey', 'black'])\n",
    "plt.title(\"Type of water body with the best water quality\")\n",
    "plt.show()"
   ]
  },
  {
   "cell_type": "markdown",
   "id": "3f2cb992",
   "metadata": {
    "papermill": {
     "duration": 0.021003,
     "end_time": "2023-01-30T08:40:38.852572",
     "exception": false,
     "start_time": "2023-01-30T08:40:38.831569",
     "status": "completed"
    },
    "tags": []
   },
   "source": [
    "> **📌 Result**\n",
    "> - From the above **bar chart** we can conclude that **lakes** have the best water quality."
   ]
  },
  {
   "cell_type": "markdown",
   "id": "e52f7c81",
   "metadata": {
    "papermill": {
     "duration": 0.021385,
     "end_time": "2023-01-30T08:40:38.895173",
     "exception": false,
     "start_time": "2023-01-30T08:40:38.873788",
     "status": "completed"
    },
    "tags": []
   },
   "source": [
    "# 6. Relation between different factors"
   ]
  },
  {
   "cell_type": "code",
   "execution_count": 2480,
   "id": "85826d76",
   "metadata": {
    "execution": {
     "iopub.execute_input": "2023-01-30T08:40:38.940133Z",
     "iopub.status.busy": "2023-01-30T08:40:38.939200Z",
     "iopub.status.idle": "2023-01-30T08:40:38.945565Z",
     "shell.execute_reply": "2023-01-30T08:40:38.944504Z"
    },
    "papermill": {
     "duration": 0.031592,
     "end_time": "2023-01-30T08:40:38.948130",
     "exception": false,
     "start_time": "2023-01-30T08:40:38.916538",
     "status": "completed"
    },
    "tags": []
   },
   "outputs": [],
   "source": [
    "new_df=original_df.copy(deep=True)"
   ]
  },
  {
   "cell_type": "markdown",
   "id": "17f46fc4",
   "metadata": {
    "papermill": {
     "duration": 0.020861,
     "end_time": "2023-01-30T08:40:38.989987",
     "exception": false,
     "start_time": "2023-01-30T08:40:38.969126",
     "status": "completed"
    },
    "tags": []
   },
   "source": [
    "# 6.1 Dissolved Oxygen and temperature\n",
    "* As **temperature** levels increase, the amount of **dissolved oxygen** in water decreases due to the **[inverse relationship](https://atlas-scientific.com/blog/how-does-temperature-affect-dissolved-oxygen/)** between dissolved oxygen and temperature.\n",
    "![image.jpg](https://atlas-scientific.com/files/do-origin.jpg)"
   ]
  },
  {
   "cell_type": "code",
   "execution_count": 2481,
   "id": "34644606",
   "metadata": {
    "execution": {
     "iopub.execute_input": "2023-01-30T08:40:39.034559Z",
     "iopub.status.busy": "2023-01-30T08:40:39.033777Z",
     "iopub.status.idle": "2023-01-30T08:40:39.042657Z",
     "shell.execute_reply": "2023-01-30T08:40:39.041569Z"
    },
    "papermill": {
     "duration": 0.034478,
     "end_time": "2023-01-30T08:40:39.045317",
     "exception": false,
     "start_time": "2023-01-30T08:40:39.010839",
     "status": "completed"
    },
    "tags": []
   },
   "outputs": [],
   "source": [
    "new_df = new_df.dropna(subset=['Dissolved Oxygen (mg/L) (Min)', 'Dissolved Oxygen (mg/L) (Max)', 'Temperature\\n?C (Min)', 'Temperature\\n?C (Min)'])"
   ]
  },
  {
   "cell_type": "code",
   "execution_count": 2482,
   "id": "d343a3c4",
   "metadata": {
    "execution": {
     "iopub.execute_input": "2023-01-30T08:40:39.090228Z",
     "iopub.status.busy": "2023-01-30T08:40:39.089806Z",
     "iopub.status.idle": "2023-01-30T08:40:39.379111Z",
     "shell.execute_reply": "2023-01-30T08:40:39.377812Z"
    },
    "papermill": {
     "duration": 0.315584,
     "end_time": "2023-01-30T08:40:39.382082",
     "exception": false,
     "start_time": "2023-01-30T08:40:39.066498",
     "status": "completed"
    },
    "tags": []
   },
   "outputs": [
    {
     "data": {
      "image/png": "[encoded data removed]",
      "text/plain": [
       "<Figure size 1000x1000 with 1 Axes>"
      ]
     },
     "metadata": {},
     "output_type": "display_data"
    }
   ],
   "source": [
    "new_df.plot(x=\"State Name\", y=[\"Dissolved Oxygen (mg/L) (Max)\", \"Temperature\\n?C (Min)\"],\n",
    "        kind=\"line\", figsize=(10, 10))\n",
    "plt.title(\"Dissovled oxygen vs Temperature\")\n",
    "plt.show()"
   ]
  },
  {
   "cell_type": "markdown",
   "id": "cbd1e8db",
   "metadata": {
    "papermill": {
     "duration": 0.023041,
     "end_time": "2023-01-30T08:40:39.428618",
     "exception": false,
     "start_time": "2023-01-30T08:40:39.405577",
     "status": "completed"
    },
    "tags": []
   },
   "source": [
    "From the above-displayed plot, we can analyze the following:\n",
    "\n",
    "* In the state of **Gujarat**, **Tamil Nadu** and **Telangana** the quality of water is best as it has the maximum value of dissolved oxygen even under the harsh condition of low temperatures."
   ]
  },
  {
   "cell_type": "markdown",
   "id": "b3f70bed",
   "metadata": {
    "papermill": {
     "duration": 0.022158,
     "end_time": "2023-01-30T08:40:39.473500",
     "exception": false,
     "start_time": "2023-01-30T08:40:39.451342",
     "status": "completed"
    },
    "tags": []
   },
   "source": [
    "# 6.2 Nitrate + Nitrite and dissolved oxygen\n",
    "* **Excess [nitrates and nitrites](https://archive.epa.gov/water/archive/web/html/vms57.html)** can cause hypoxia (**low levels of dissolved oxygen**) and can become toxic to warm-blooded animals at higher concentrations (10 mg/L) or higher) under certain conditions.\n",
    "![no](https://www.mdpi.com/water/water-14-00799/article_deploy/html/images/water-14-00799-g001.png)"
   ]
  },
  {
   "cell_type": "code",
   "execution_count": 2483,
   "id": "2a8b2f82",
   "metadata": {
    "execution": {
     "iopub.execute_input": "2023-01-30T08:40:39.520388Z",
     "iopub.status.busy": "2023-01-30T08:40:39.519932Z",
     "iopub.status.idle": "2023-01-30T08:40:39.527148Z",
     "shell.execute_reply": "2023-01-30T08:40:39.526189Z"
    },
    "papermill": {
     "duration": 0.033551,
     "end_time": "2023-01-30T08:40:39.529388",
     "exception": false,
     "start_time": "2023-01-30T08:40:39.495837",
     "status": "completed"
    },
    "tags": []
   },
   "outputs": [],
   "source": [
    "new_df = new_df.dropna(subset=['Dissolved Oxygen (mg/L) (Min)', 'Dissolved Oxygen (mg/L) (Max)', 'Nitrate N + Nitrite N(mg/L) (Min)', 'Nitrate N + Nitrite N(mg/L) (Max)'])"
   ]
  },
  {
   "cell_type": "code",
   "execution_count": 2484,
   "id": "9592029b",
   "metadata": {
    "execution": {
     "iopub.execute_input": "2023-01-30T08:40:39.576616Z",
     "iopub.status.busy": "2023-01-30T08:40:39.575952Z",
     "iopub.status.idle": "2023-01-30T08:40:39.848295Z",
     "shell.execute_reply": "2023-01-30T08:40:39.847102Z"
    },
    "papermill": {
     "duration": 0.299091,
     "end_time": "2023-01-30T08:40:39.850986",
     "exception": false,
     "start_time": "2023-01-30T08:40:39.551895",
     "status": "completed"
    },
    "tags": []
   },
   "outputs": [
    {
     "data": {
      "image/png": "[encoded data removed]",
      "text/plain": [
       "<Figure size 1000x1000 with 1 Axes>"
      ]
     },
     "metadata": {},
     "output_type": "display_data"
    }
   ],
   "source": [
    "new_df.plot(x=\"State Name\", y=[\"Dissolved Oxygen (mg/L) (Max)\", \"Nitrate N + Nitrite N(mg/L) (Min)\"],\n",
    "        kind=\"area\", figsize=(10, 10))\n",
    "plt.title(\"Dissovled oxygen vs (Nitrate N + Nitrite)\")\n",
    "plt.show()"
   ]
  },
  {
   "cell_type": "markdown",
   "id": "832addd8",
   "metadata": {
    "papermill": {
     "duration": 0.024365,
     "end_time": "2023-01-30T08:40:39.899888",
     "exception": false,
     "start_time": "2023-01-30T08:40:39.875523",
     "status": "completed"
    },
    "tags": []
   },
   "source": [
    "From the above-displayed plot, we can analyze the following:\n",
    "\n",
    "* In the state of **Gujarat** and **Tamil Nadu** the quality of water is best as it has the maximum value of dissolved oxygen even when there is a large concentration of nitrates and nitrites."
   ]
  },
  {
   "cell_type": "markdown",
   "id": "4c8814e7",
   "metadata": {},
   "source": [
    "# 6.3 Prediction Algorithm"
   ]
  },
  {
   "cell_type": "code",
   "execution_count": 2485,
   "id": "a5deb3c3",
   "metadata": {},
   "outputs": [
    {
     "name": "stdout",
     "output_type": "stream",
     "text": [
      "Accuracy: 0.9597\n",
      "Classification Report:\n",
      "              precision    recall  f1-score   support\n",
      "\n",
      "     Average       1.00      0.73      0.84        11\n",
      "        Good       1.00      0.50      0.67         4\n",
      "        Poor       0.96      1.00      0.98       109\n",
      "\n",
      "    accuracy                           0.96       124\n",
      "   macro avg       0.99      0.74      0.83       124\n",
      "weighted avg       0.96      0.96      0.96       124\n",
      "\n",
      "Confusion Matrix:\n",
      "[[  8   0   3]\n",
      " [  0   2   2]\n",
      " [  0   0 109]]\n",
      "Predictions saved to 'predicted_water_quality.csv'\n"
     ]
    }
   ],
   "source": [
    "import numpy as np\n",
    "import pandas as pd\n",
    "from sklearn.preprocessing import LabelEncoder\n",
    "from sklearn.model_selection import train_test_split\n",
    "from sklearn.ensemble import RandomForestClassifier\n",
    "from sklearn.metrics import classification_report, accuracy_score, confusion_matrix\n",
    "import joblib\n",
    "\n",
    "# Label encoding for categorical features\n",
    "label_encoder_state = LabelEncoder()\n",
    "label_encoder_type = LabelEncoder()\n",
    "\n",
    "df = original_df.copy(deep='True')\n",
    "\n",
    "df['State Name'] = label_encoder_state.fit_transform(df['State Name'])\n",
    "df['Type Water Body'] = label_encoder_type.fit_transform(df['Type Water Body'])\n",
    "\n",
    "# Refactor the determine_quality function\n",
    "def determine_quality(row):\n",
    "    \"\"\"\n",
    "    Determine water quality based on expanded standards:\n",
    "    - 'Good': Water is excellent based on strict thresholds.\n",
    "    - 'Average': Slight deviations from the ideal.\n",
    "    - 'Poor': Significant deviations from water quality standards.\n",
    "    \"\"\"\n",
    "    if (6.5 <= row['pH (Min)'] <= 8.5) and \\\n",
    "       (20 <= row['Temperature\\n?C (Min)'] <= 30) and \\\n",
    "       (6 <= row['Dissolved Oxygen (mg/L) (Min)'] <= 9) and \\\n",
    "       (150 <= row['Conductivity (?mhos/cm) (Min)'] <= 500) and \\\n",
    "       (row['BOD (mg/L) (Max)'] <= 3) and \\\n",
    "       (row['Nitrate N + Nitrite N(mg/L) (Max)'] <= 5) and \\\n",
    "       (row['Fecal Coliform (MPN/100ml) (Max)'] <= 100):\n",
    "        return 'Good'\n",
    "    elif (6 <= row['pH (Min)'] <= 9) and \\\n",
    "         (15 <= row['Temperature\\n?C (Min)'] <= 35) and \\\n",
    "         (4 <= row['Dissolved Oxygen (mg/L) (Min)'] <= 6) and \\\n",
    "         (100 <= row['Conductivity (?mhos/cm) (Min)'] <= 600) and \\\n",
    "         (row['BOD (mg/L) (Max)'] <= 5) and \\\n",
    "         (row['Nitrate N + Nitrite N(mg/L) (Max)'] <= 10) and \\\n",
    "         (row['Fecal Coliform (MPN/100ml) (Max)'] <= 200):\n",
    "        return 'Average'\n",
    "    else:\n",
    "        return 'Poor'\n",
    "\n",
    "# Apply the function to create the 'Water Quality' target column\n",
    "df['Water Quality'] = df.apply(determine_quality, axis=1)\n",
    "\n",
    "# Features (X) and target (y)\n",
    "X = df.drop(columns=['Water Quality', 'Name of Monitoring Location'])\n",
    "y = df['Water Quality']\n",
    "\n",
    "\n",
    "# Train-test split\n",
    "X_train, X_test, y_train, y_test = train_test_split(X, y, test_size=0.2, random_state=42)\n",
    "\n",
    " # Check how many states are in the test set\n",
    "\n",
    "# Train a Random Forest classifier\n",
    "model = RandomForestClassifier(random_state=42)\n",
    "model.fit(X_train, y_train)\n",
    "\n",
    "# Predict on the test set\n",
    "y_pred = model.predict(X_test)\n",
    "\n",
    "\n",
    "joblib.dump(model, 'model.pkl')\n",
    "joblib.dump(label_encoder_state, 'label_encoder_state.pkl')\n",
    "joblib.dump(label_encoder_type, 'label_encoder_type.pkl')\n",
    "joblib.dump(X_train.dtypes.to_dict(), 'X_train_dtypes.pkl')\n",
    "\n",
    "\n",
    "\n",
    "  \n",
    "\n",
    "# Evaluate the model\n",
    "print(f'Accuracy: {accuracy_score(y_test, y_pred):.4f}')\n",
    "print('Classification Report:')\n",
    "print(classification_report(y_test, y_pred))\n",
    "print('Confusion Matrix:')\n",
    "print(confusion_matrix(y_test, y_pred))\n",
    "\n",
    "# Load your new dataset\n",
    "new_dataset = pd.read_csv(\"Water_pond_tanks_2021.csv\", encoding='latin1')\n",
    "new_dataset=new_dataset.replace('-', np.nan)\n",
    "new_dataset=new_dataset.replace('\\n4', '',regex=True)\n",
    "new_dataset=new_dataset.replace('\\n', ' ',regex=True)\n",
    "\n",
    "\n",
    "# Transform categorical columns after filtering\n",
    "new_dataset['State Name'] = label_encoder_state.transform(new_dataset['State Name'])\n",
    "new_dataset['Type Water Body'] = label_encoder_type.transform(new_dataset['Type Water Body'])\n",
    "\n",
    "\n",
    "# Ensure the column order matches X_train\n",
    "new_dataset = new_dataset[X_train.columns]\n",
    "\n",
    "# Match data types with training data\n",
    "new_dataset = new_dataset.astype(X_train.dtypes.to_dict())\n",
    "\n",
    "# Predict water quality for the entire dataset\n",
    "new_dataset['Predicted Water Quality'] = model.predict(new_dataset)\n",
    "\n",
    "# Save the results to a new CSV file\n",
    "new_dataset.to_csv(\"predicted_water_quality.csv\", index=False)\n",
    "\n",
    "print(\"Predictions saved to 'predicted_water_quality.csv'\")\n",
    "# Check the unique values of the 'Water Quality' column after predictions\n",
    "# Check the predicted values of 'Water Quality'\n",
    "\n",
    "\n",
    "\n",
    "\n"
   ]
  },
  {
   "cell_type": "markdown",
   "id": "72df86e7",
   "metadata": {},
   "source": [
    "# 6.4 Output Analysis"
   ]
  },
  {
   "cell_type": "code",
   "execution_count": 2486,
   "id": "31567e7e",
   "metadata": {},
   "outputs": [
    {
     "data": {
      "image/png": "[encoded data removed]",
      "text/plain": [
       "<Figure size 1400x800 with 1 Axes>"
      ]
     },
     "metadata": {},
     "output_type": "display_data"
    },
    {
     "name": "stdout",
     "output_type": "stream",
     "text": [
      "Predicted Water Quality    Average       Good        Poor\n",
      "State Name                                               \n",
      "ANDHRA PRADESH           12.000000   4.000000   84.000000\n",
      "ASSAM                     0.000000   0.000000  100.000000\n",
      "BIHAR                     0.000000   0.000000  100.000000\n",
      "CHANDIGARH                0.000000   0.000000  100.000000\n",
      "CHHATTISGARH              0.000000   0.000000  100.000000\n",
      "DELHI                     0.000000   0.000000  100.000000\n",
      "GOA                       0.000000   0.000000  100.000000\n",
      "GUJARAT                  19.047619  19.047619   61.904762\n",
      "HARYANA                   0.000000   0.000000  100.000000\n",
      "HIMACHAL PRADESH          0.000000   0.000000  100.000000\n",
      "JAMMU & KASHMIR           0.000000   0.000000  100.000000\n",
      "JHARKHAND                 0.000000   0.000000  100.000000\n",
      "KARNATAKA                 0.606061   1.212121   98.181818\n",
      "KERALA                    0.000000   0.000000  100.000000\n",
      "LAKSHADWEEP               0.000000   0.000000  100.000000\n",
      "MADHYA PRADESH           14.285714  17.142857   68.571429\n",
      "MANIPUR                   0.000000   0.000000  100.000000\n",
      "MEGHALAYA                 0.000000   0.000000  100.000000\n",
      "MIZORAM                   0.000000   0.000000  100.000000\n",
      "NAGALAND                  0.000000   0.000000  100.000000\n",
      "ODISHA                    0.000000   0.000000  100.000000\n",
      "PUDUCHERRY               66.666667   0.000000   33.333333\n",
      "PUNJAB                    0.000000   0.000000  100.000000\n",
      "RAJASTHAN                30.000000   5.000000   65.000000\n",
      "TAMIL NADU               33.333333  22.222222   44.444444\n",
      "TELANGANA                 8.800000   0.000000   91.200000\n",
      "TRIPURA                  94.444444   0.000000    5.555556\n",
      "UTTAR PRADESH             0.000000   0.000000  100.000000\n",
      "UTTARAKHAND               0.000000   0.000000  100.000000\n",
      "WEST BENGAL               0.000000   0.000000  100.000000\n",
      "The state with the best water quality is TAMIL NADU with 22.22% Good water quality.\n"
     ]
    }
   ],
   "source": [
    "import pandas as pd\n",
    "import matplotlib.pyplot as plt\n",
    "import seaborn as sns\n",
    "\n",
    "# Load the dataset with predictions\n",
    "predicted_df = pd.read_csv(\"predicted_water_quality.csv\")\n",
    "\n",
    "# Reverse label encoding for 'State Name' so that state names are displayed\n",
    "predicted_df['State Name'] = label_encoder_state.inverse_transform(predicted_df['State Name'])\n",
    "\n",
    "# Count the number of occurrences of each water quality in each state\n",
    "state_quality_counts = predicted_df.groupby(['State Name', 'Predicted Water Quality']).size().unstack(fill_value=0)\n",
    "\n",
    "# Calculate the percentage of each quality class per state\n",
    "state_quality_percent = state_quality_counts.div(state_quality_counts.sum(axis=1), axis=0) * 100\n",
    "\n",
    "# Visualize the water quality distribution by state\n",
    "plt.figure(figsize=(14, 8))\n",
    "state_quality_percent.plot(kind='bar', stacked=True, colormap=\"Set3\", ax=plt.gca())\n",
    "\n",
    "# Set the x-axis labels to state names\n",
    "plt.title('Water Quality Distribution by State')\n",
    "plt.ylabel('Percentage (%)')\n",
    "plt.xlabel('State')\n",
    "plt.xticks(rotation=45, ha='right')  # Rotate state names for better readability\n",
    "plt.legend(title='Water Quality', loc='upper left')\n",
    "plt.tight_layout()\n",
    "plt.show()\n",
    "\n",
    "# Find the state with the best water quality (highest percentage of 'Good')\n",
    "best_state = state_quality_percent['Good'].idxmax()\n",
    "best_state_percentage = state_quality_percent['Good'].max()\n",
    "\n",
    "\n",
    "print(state_quality_percent)\n",
    "print(f\"The state with the best water quality is {best_state} with {best_state_percentage:.2f}% Good water quality.\")\n"
   ]
  }
 ],
 "metadata": {
  "kernelspec": {
   "display_name": "Python 3",
   "language": "python",
   "name": "python3"
  },
  "language_info": {
   "codemirror_mode": {
    "name": "ipython",
    "version": 3
   },
   "file_extension": ".py",
   "mimetype": "text/x-python",
   "name": "python",
   "nbconvert_exporter": "python",
   "pygments_lexer": "ipython3",
   "version": "3.12.6"
  },
  "papermill": {
   "default_parameters": {},
   "duration": 30.213553,
   "end_time": "2023-01-30T08:40:42.743263",
   "environment_variables": {},
   "exception": null,
   "input_path": "__notebook__.ipynb",
   "output_path": "__notebook__.ipynb",
   "parameters": {},
   "start_time": "2023-01-30T08:40:12.529710",
   "version": "2.3.4"
  }
 },
 "nbformat": 4,
 "nbformat_minor": 5
}
